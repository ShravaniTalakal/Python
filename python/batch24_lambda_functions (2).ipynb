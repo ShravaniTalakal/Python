{
 "cells": [
  {
   "cell_type": "markdown",
   "id": "d3c35f10",
   "metadata": {},
   "source": [
    "### List Comprehension\n"
   ]
  },
  {
   "cell_type": "code",
   "execution_count": 2,
   "id": "c0060a40",
   "metadata": {},
   "outputs": [
    {
     "name": "stdout",
     "output_type": "stream",
     "text": [
      "['20-01-2021', '21-01-2021', '23-01-2021']\n"
     ]
    }
   ],
   "source": [
    "dt = ['20-01-2021','21-01-2021','23-01-2021']\n",
    "print(dt)"
   ]
  },
  {
   "cell_type": "code",
   "execution_count": 4,
   "id": "b41abb13",
   "metadata": {},
   "outputs": [
    {
     "name": "stdout",
     "output_type": "stream",
     "text": [
      "['20', '21', '23']\n"
     ]
    }
   ],
   "source": [
    "days =[]\n",
    "for x in dt:\n",
    "    days.append(x.split('-')[0])\n",
    "\n",
    "print(days)\n",
    "    "
   ]
  },
  {
   "cell_type": "code",
   "execution_count": 8,
   "id": "cd0e066f",
   "metadata": {},
   "outputs": [],
   "source": [
    "days = [x.split('-')[0] for x in dt]"
   ]
  },
  {
   "cell_type": "code",
   "execution_count": 9,
   "id": "8f637ec6",
   "metadata": {},
   "outputs": [
    {
     "data": {
      "text/plain": [
       "['20', '21', '23']"
      ]
     },
     "execution_count": 9,
     "metadata": {},
     "output_type": "execute_result"
    }
   ],
   "source": [
    "days"
   ]
  },
  {
   "cell_type": "code",
   "execution_count": 12,
   "id": "de45f99e",
   "metadata": {},
   "outputs": [
    {
     "data": {
      "text/plain": [
       "[21, 23]"
      ]
     },
     "execution_count": 12,
     "metadata": {},
     "output_type": "execute_result"
    }
   ],
   "source": [
    "days = [int(x.split('-')[0]) for x in dt if int(x.split('-')[0]) > 20]\n",
    "days"
   ]
  },
  {
   "cell_type": "code",
   "execution_count": 13,
   "id": "70fd38b1",
   "metadata": {},
   "outputs": [
    {
     "name": "stdout",
     "output_type": "stream",
     "text": [
      "['How', 'Ready', 'FOR', 'Comprehension']\n"
     ]
    }
   ],
   "source": [
    "## Select the words with initial capital letter\n",
    "words = ['How', 'aRe','yoU','Ready','FOR','liST','Comprehension']  ## Input\n",
    "#wordswithiniticap = ['How', 'Ready','FOR','Comprehension']  ## Expected Output \n",
    "\n",
    "wordswithinitcap = [word for word in words if word[0].isupper()]\n",
    "\n",
    "print(wordswithinitcap)"
   ]
  },
  {
   "cell_type": "code",
   "execution_count": 14,
   "id": "b9bd5e9b",
   "metadata": {},
   "outputs": [
    {
     "data": {
      "text/plain": [
       "[0, 1, 4, 9, 16]"
      ]
     },
     "execution_count": 14,
     "metadata": {},
     "output_type": "execute_result"
    }
   ],
   "source": [
    "l1 = range(5)\n",
    "l1_square = [num ** 2 for num in l1]\n",
    "l1_square"
   ]
  },
  {
   "cell_type": "code",
   "execution_count": 15,
   "id": "4bcd9341",
   "metadata": {},
   "outputs": [
    {
     "name": "stdout",
     "output_type": "stream",
     "text": [
      "[0, 1, 2, 3, 4, 5, 6, 7, 8, 9]\n"
     ]
    }
   ],
   "source": [
    "l2 = range(10)\n",
    "print(list(l2))"
   ]
  },
  {
   "cell_type": "code",
   "execution_count": 16,
   "id": "a5eb1c92",
   "metadata": {},
   "outputs": [
    {
     "data": {
      "text/plain": [
       "[0, 2, 4, 6, 8]"
      ]
     },
     "execution_count": 16,
     "metadata": {},
     "output_type": "execute_result"
    }
   ],
   "source": [
    "l2_even = [num for num in l2 if num % 2 == 0]\n",
    "l2_even"
   ]
  },
  {
   "cell_type": "code",
   "execution_count": 17,
   "id": "0cd4fc61",
   "metadata": {},
   "outputs": [
    {
     "data": {
      "text/plain": [
       "{1: 'a', 2: 'b', 3: 'c'}"
      ]
     },
     "execution_count": 17,
     "metadata": {},
     "output_type": "execute_result"
    }
   ],
   "source": [
    "d1 = {'a':1,'b':2,'c':3}  ## Dictionary Comprehension\n",
    "d2_swap = {v:k for k, v in d1.items()}\n",
    "d2_swap"
   ]
  },
  {
   "cell_type": "code",
   "execution_count": 18,
   "id": "c0e816d9",
   "metadata": {},
   "outputs": [
    {
     "data": {
      "text/plain": [
       "[1, 3, 8, 24, 50, 70, 90]"
      ]
     },
     "execution_count": 18,
     "metadata": {},
     "output_type": "execute_result"
    }
   ],
   "source": [
    "l1 = [50,3, 70,8,90, 1,24]\n",
    "sorted(l1)"
   ]
  },
  {
   "cell_type": "code",
   "execution_count": 19,
   "id": "b0117212",
   "metadata": {},
   "outputs": [
    {
     "data": {
      "text/plain": [
       "['Crockeries']"
      ]
     },
     "execution_count": 19,
     "metadata": {},
     "output_type": "execute_result"
    }
   ],
   "source": [
    "## Return the list of products whose length is more than 9 characters\n",
    "products = ['Apparels','Crockeries','Beverages','Drinks','Cosmetics']\n",
    "\n",
    "output = [product for product in products if len(product) > 9]\n",
    "output"
   ]
  },
  {
   "cell_type": "code",
   "execution_count": 3,
   "id": "d378a2ad",
   "metadata": {},
   "outputs": [
    {
     "name": "stdout",
     "output_type": "stream",
     "text": [
      "This\n",
      "is\n",
      "my\n",
      "list\n",
      "comprehension\n",
      "example\n",
      "with\n",
      "multiple\n",
      "sentences.\n",
      "This\n",
      "is\n",
      "second\n",
      "sentence.\n",
      "This\n",
      "is\n",
      "third\n",
      "sentence\n"
     ]
    }
   ],
   "source": [
    "sen = '''This is my list comprehension example with multiple sentences. \n",
    "This is second sentence.\n",
    "This is third sentence'''\n",
    "\n",
    "for line in sen.split('\\n'):\n",
    "    for word in line.split():\n",
    "        print(word)\n",
    "    \n"
   ]
  },
  {
   "cell_type": "code",
   "execution_count": 6,
   "id": "1fb81120",
   "metadata": {},
   "outputs": [
    {
     "data": {
      "text/plain": [
       "['sentences.', 'second', 'sentence.', 'sentence']"
      ]
     },
     "execution_count": 6,
     "metadata": {},
     "output_type": "execute_result"
    }
   ],
   "source": [
    "[word for line in sen.split('\\n') for word in line.split() if len(word) > 5 if word[0] == 's']"
   ]
  },
  {
   "cell_type": "markdown",
   "id": "d5ac04e0",
   "metadata": {},
   "source": [
    "### Lambda functions\n"
   ]
  },
  {
   "cell_type": "code",
   "execution_count": 20,
   "id": "68182c64",
   "metadata": {},
   "outputs": [],
   "source": [
    "## find the greater number\n",
    "def greater(n1, n2):\n",
    "    \n",
    "    if (n1 > n2):\n",
    "        return n1\n",
    "    else:\n",
    "        return n2\n",
    "#    return n1 if n1 > n2 else n2"
   ]
  },
  {
   "cell_type": "code",
   "execution_count": 21,
   "id": "4f4522b0",
   "metadata": {},
   "outputs": [
    {
     "name": "stdout",
     "output_type": "stream",
     "text": [
      "23\n"
     ]
    }
   ],
   "source": [
    "greater_no = greater(23, 12)\n",
    "print(greater_no)"
   ]
  },
  {
   "cell_type": "code",
   "execution_count": 22,
   "id": "fa8a416f",
   "metadata": {},
   "outputs": [],
   "source": [
    "greater = lambda n1, n2: n1 if n1 > n2 else n2"
   ]
  },
  {
   "cell_type": "code",
   "execution_count": 23,
   "id": "cb486139",
   "metadata": {},
   "outputs": [
    {
     "data": {
      "text/plain": [
       "23"
      ]
     },
     "execution_count": 23,
     "metadata": {},
     "output_type": "execute_result"
    }
   ],
   "source": [
    "greater(23, 12)"
   ]
  },
  {
   "cell_type": "code",
   "execution_count": 24,
   "id": "4b13789a",
   "metadata": {},
   "outputs": [
    {
     "name": "stdout",
     "output_type": "stream",
     "text": [
      "[0, 1, 2, 3, 4]\n"
     ]
    }
   ],
   "source": [
    "l1 = list(range(5))\n",
    "print(l1)"
   ]
  },
  {
   "cell_type": "code",
   "execution_count": 27,
   "id": "13ff305d",
   "metadata": {},
   "outputs": [
    {
     "ename": "TypeError",
     "evalue": "list expected at most 1 argument, got 2",
     "output_type": "error",
     "traceback": [
      "\u001b[1;31m---------------------------------------------------------------------------\u001b[0m",
      "\u001b[1;31mTypeError\u001b[0m                                 Traceback (most recent call last)",
      "\u001b[1;32m~\\AppData\\Local\\Temp/ipykernel_13100/1592541947.py\u001b[0m in \u001b[0;36m<module>\u001b[1;34m\u001b[0m\n\u001b[0;32m      2\u001b[0m     \u001b[1;32mreturn\u001b[0m \u001b[0mside\u001b[0m \u001b[1;33m*\u001b[0m \u001b[0mside\u001b[0m\u001b[1;33m\u001b[0m\u001b[1;33m\u001b[0m\u001b[0m\n\u001b[0;32m      3\u001b[0m \u001b[1;33m\u001b[0m\u001b[0m\n\u001b[1;32m----> 4\u001b[1;33m \u001b[0msquare_of_list\u001b[0m \u001b[1;33m=\u001b[0m \u001b[0mlist\u001b[0m\u001b[1;33m(\u001b[0m\u001b[1;32mlambda\u001b[0m \u001b[0mx\u001b[0m\u001b[1;33m:\u001b[0m \u001b[0mx\u001b[0m \u001b[1;33m*\u001b[0m \u001b[0mx\u001b[0m\u001b[1;33m,\u001b[0m \u001b[0ml1\u001b[0m\u001b[1;33m)\u001b[0m\u001b[1;33m\u001b[0m\u001b[1;33m\u001b[0m\u001b[0m\n\u001b[0m\u001b[0;32m      5\u001b[0m \u001b[0mprint\u001b[0m\u001b[1;33m(\u001b[0m\u001b[0msquare_of_list\u001b[0m\u001b[1;33m)\u001b[0m\u001b[1;33m\u001b[0m\u001b[1;33m\u001b[0m\u001b[0m\n",
      "\u001b[1;31mTypeError\u001b[0m: list expected at most 1 argument, got 2"
     ]
    }
   ],
   "source": [
    "def square_area(side):\n",
    "    return side * side\n",
    "\n",
    "square_of_list = list(lambda x: x * x, l1)\n",
    "print(square_of_list)"
   ]
  },
  {
   "cell_type": "code",
   "execution_count": 47,
   "id": "3be1f2ea",
   "metadata": {},
   "outputs": [
    {
     "data": {
      "text/plain": [
       "0      1\n",
       "1      2\n",
       "2      3\n",
       "3      4\n",
       "4      5\n",
       "5      6\n",
       "6      7\n",
       "7      8\n",
       "8      9\n",
       "9     10\n",
       "10    11\n",
       "11    12\n",
       "12    13\n",
       "13    14\n",
       "14    15\n",
       "15    16\n",
       "16    17\n",
       "17    18\n",
       "18    19\n",
       "dtype: int64"
      ]
     },
     "execution_count": 47,
     "metadata": {},
     "output_type": "execute_result"
    }
   ],
   "source": [
    "import pandas as pd\n",
    "nos = pd.Series( list(range(1, 20)))\n",
    "nos"
   ]
  },
  {
   "cell_type": "code",
   "execution_count": 40,
   "id": "59a045ae",
   "metadata": {},
   "outputs": [
    {
     "data": {
      "text/plain": [
       "[1, 3, 5, 7, 9, 11, 13, 15, 17, 19]"
      ]
     },
     "execution_count": 40,
     "metadata": {},
     "output_type": "execute_result"
    }
   ],
   "source": [
    "## Print only the numbers are divisible by 2\n",
    "list(filter(lambda x : x % 2 == 0, nos))"
   ]
  },
  {
   "cell_type": "code",
   "execution_count": 48,
   "id": "8c20fdef",
   "metadata": {},
   "outputs": [
    {
     "data": {
      "text/plain": [
       "1      2\n",
       "3      4\n",
       "5      6\n",
       "7      8\n",
       "9     10\n",
       "11    12\n",
       "13    14\n",
       "15    16\n",
       "17    18\n",
       "dtype: int64"
      ]
     },
     "execution_count": 48,
     "metadata": {},
     "output_type": "execute_result"
    }
   ],
   "source": [
    "nos[list(map(lambda x: (x % 2 == 0), nos))]"
   ]
  },
  {
   "cell_type": "code",
   "execution_count": 34,
   "id": "bbd77c5e",
   "metadata": {},
   "outputs": [
    {
     "data": {
      "text/plain": [
       "190"
      ]
     },
     "execution_count": 34,
     "metadata": {},
     "output_type": "execute_result"
    }
   ],
   "source": [
    "from functools import reduce\n",
    "reduce(lambda a, b: a + b, nos)"
   ]
  },
  {
   "cell_type": "code",
   "execution_count": 40,
   "id": "0832696b",
   "metadata": {},
   "outputs": [
    {
     "name": "stdout",
     "output_type": "stream",
     "text": [
      "[1, 2, 3, 4, 5, 6, 7, 8, 9, 10, 11, 12, 13, 14, 15, 16, 17, 18, 19]\n"
     ]
    },
    {
     "data": {
      "text/plain": [
       "[1,\n",
       " 1.5,\n",
       " 2.25,\n",
       " 3.125,\n",
       " 4.0625,\n",
       " 5.03125,\n",
       " 6.015625,\n",
       " 7.0078125,\n",
       " 8.00390625,\n",
       " 9.001953125,\n",
       " 10.0009765625,\n",
       " 11.00048828125,\n",
       " 12.000244140625,\n",
       " 13.0001220703125,\n",
       " 14.00006103515625,\n",
       " 15.000030517578125,\n",
       " 16.000015258789062,\n",
       " 17.00000762939453,\n",
       " 18.000003814697266]"
      ]
     },
     "execution_count": 40,
     "metadata": {},
     "output_type": "execute_result"
    }
   ],
   "source": [
    "from itertools import accumulate\n",
    "print(nos)\n",
    "list(accumulate(nos, lambda a,b: (a + b)/2))"
   ]
  },
  {
   "cell_type": "code",
   "execution_count": 44,
   "id": "8eba641b",
   "metadata": {},
   "outputs": [
    {
     "name": "stdout",
     "output_type": "stream",
     "text": [
      "[1, 1.5, 2.25, 3.125, 4.0625, 5.03125, 6.015625, 7.0078125, 8.00390625, 9.001953125, 10.0009765625, 11.00048828125, 12.000244140625, 13.0001220703125, 14.00006103515625, 15.000030517578125, 16.000015258789062, 17.00000762939453, 18.000003814697266]\n"
     ]
    }
   ],
   "source": [
    "cum_avg = []\n",
    "prev_no = 0\n",
    "for idx in range(len(nos)):\n",
    "    if idx == 0:\n",
    "        cum_avg.append(nos[idx])\n",
    "        prev_no = nos[idx]\n",
    "    else:\n",
    "        cum_avg.append((prev_no + nos[idx])/2)\n",
    "        prev_no = (prev_no + nos[idx])/2\n",
    "    \n",
    "print(cum_avg)    "
   ]
  },
  {
   "cell_type": "code",
   "execution_count": 45,
   "id": "1798e0dc",
   "metadata": {},
   "outputs": [
    {
     "data": {
      "text/plain": [
       "120"
      ]
     },
     "execution_count": 45,
     "metadata": {},
     "output_type": "execute_result"
    }
   ],
   "source": [
    "## Factorial of a number\n",
    "reduce(lambda a, b: a * b, range(1, 6))"
   ]
  },
  {
   "cell_type": "code",
   "execution_count": 47,
   "id": "8414af02",
   "metadata": {},
   "outputs": [
    {
     "data": {
      "text/plain": [
       "6"
      ]
     },
     "execution_count": 47,
     "metadata": {},
     "output_type": "execute_result"
    }
   ],
   "source": [
    "def sumnos(n1, n2, n3):\n",
    "    return n1 + n2 + n3\n",
    "\n",
    "sumnos(1,2, 3)"
   ]
  },
  {
   "cell_type": "code",
   "execution_count": 55,
   "id": "a3e3de79",
   "metadata": {},
   "outputs": [],
   "source": [
    "def sumnos(*no):  ## * operator in a function,  will accept any number of argumuments\n",
    "    sum = 0;\n",
    "    for n in no:\n",
    "        sum += n\n",
    "    return sum"
   ]
  },
  {
   "cell_type": "code",
   "execution_count": 56,
   "id": "d02f7bf6",
   "metadata": {},
   "outputs": [
    {
     "data": {
      "text/plain": [
       "15"
      ]
     },
     "execution_count": 56,
     "metadata": {},
     "output_type": "execute_result"
    }
   ],
   "source": [
    "sumnos(1, 2, 3, 4, 5)"
   ]
  },
  {
   "cell_type": "code",
   "execution_count": 57,
   "id": "52136bc2",
   "metadata": {},
   "outputs": [
    {
     "data": {
      "text/plain": [
       "27"
      ]
     },
     "execution_count": 57,
     "metadata": {},
     "output_type": "execute_result"
    }
   ],
   "source": [
    "sumnos(10, 15, 2)"
   ]
  },
  {
   "cell_type": "code",
   "execution_count": 58,
   "id": "96422bd2",
   "metadata": {},
   "outputs": [
    {
     "data": {
      "text/plain": [
       "25"
      ]
     },
     "execution_count": 58,
     "metadata": {},
     "output_type": "execute_result"
    }
   ],
   "source": [
    "sumnos(10, 15)"
   ]
  },
  {
   "cell_type": "code",
   "execution_count": 73,
   "id": "0c49b1a6",
   "metadata": {},
   "outputs": [],
   "source": [
    "def add_nos(n1, n2, *n3):\n",
    "    print(type(n3))\n",
    "    print('N1: ', n1)\n",
    "    print('N2: ', n2)\n",
    "    sum = n1 + n2\n",
    "    for num in n3:\n",
    "        sum += num\n",
    "    return sum"
   ]
  },
  {
   "cell_type": "code",
   "execution_count": 74,
   "id": "7b12022b",
   "metadata": {},
   "outputs": [
    {
     "name": "stdout",
     "output_type": "stream",
     "text": [
      "<class 'tuple'>\n",
      "N1:  10\n",
      "N2:  20\n",
      "30\n"
     ]
    }
   ],
   "source": [
    "print(add_nos(10, 20))"
   ]
  },
  {
   "cell_type": "code",
   "execution_count": 66,
   "id": "8dbcf679",
   "metadata": {},
   "outputs": [
    {
     "name": "stdout",
     "output_type": "stream",
     "text": [
      "N1:  10\n",
      "N2:  20\n",
      "100\n"
     ]
    }
   ],
   "source": [
    "print(add_nos(10, 20, 30,40))"
   ]
  },
  {
   "cell_type": "code",
   "execution_count": 65,
   "id": "26bcb5ad",
   "metadata": {},
   "outputs": [
    {
     "name": "stdout",
     "output_type": "stream",
     "text": [
      "N1:  30\n",
      "N2:  10\n",
      "40\n"
     ]
    }
   ],
   "source": [
    "print(add_nos(n2 = 10, n1=30))"
   ]
  },
  {
   "cell_type": "code",
   "execution_count": 71,
   "id": "07d65db3",
   "metadata": {},
   "outputs": [],
   "source": [
    "def somefun(**param):\n",
    "    print(type(param))\n",
    "    print(param)\n",
    "    for k, v in param.items():\n",
    "        print('Key: ', k)\n",
    "        print('Value: ',v)"
   ]
  },
  {
   "cell_type": "code",
   "execution_count": 72,
   "id": "8ac20fb4",
   "metadata": {},
   "outputs": [
    {
     "name": "stdout",
     "output_type": "stream",
     "text": [
      "<class 'dict'>\n",
      "{'name': 'Shan', 'age': 56, 'salary': 10000}\n",
      "Key:  name\n",
      "Value:  Shan\n",
      "Key:  age\n",
      "Value:  56\n",
      "Key:  salary\n",
      "Value:  10000\n"
     ]
    }
   ],
   "source": [
    "somefun(name='Shan',age=56, salary=10000)"
   ]
  },
  {
   "cell_type": "code",
   "execution_count": 75,
   "id": "9d63b6fa",
   "metadata": {},
   "outputs": [
    {
     "name": "stdout",
     "output_type": "stream",
     "text": [
      "<class 'dict'>\n",
      "{'name': 'Shan', 'age': 56}\n",
      "Key:  name\n",
      "Value:  Shan\n",
      "Key:  age\n",
      "Value:  56\n"
     ]
    }
   ],
   "source": [
    "somefun(name='Shan',age=56)"
   ]
  },
  {
   "cell_type": "markdown",
   "id": "ddc41f77",
   "metadata": {},
   "source": [
    "#### Scope of functions"
   ]
  },
  {
   "cell_type": "code",
   "execution_count": 78,
   "id": "ddbaffe2",
   "metadata": {},
   "outputs": [],
   "source": [
    "a = 10  ##  Global variable\n",
    "def afunction(x):\n",
    "    a = 5  ## Local variable\n",
    "    print(x + a)"
   ]
  },
  {
   "cell_type": "code",
   "execution_count": 79,
   "id": "89a837c5",
   "metadata": {},
   "outputs": [
    {
     "name": "stdout",
     "output_type": "stream",
     "text": [
      "15\n"
     ]
    }
   ],
   "source": [
    "afunction(10)"
   ]
  },
  {
   "cell_type": "code",
   "execution_count": 80,
   "id": "41340e47",
   "metadata": {},
   "outputs": [],
   "source": [
    "## Example of lazy evaluation\n",
    "b = 10\n",
    "def afunction(x):\n",
    "    print(x + a)\n",
    "    print(x + b)\n",
    "    print(x + y)"
   ]
  },
  {
   "cell_type": "code",
   "execution_count": 81,
   "id": "9f26bd61",
   "metadata": {},
   "outputs": [
    {
     "name": "stdout",
     "output_type": "stream",
     "text": [
      "20\n",
      "20\n"
     ]
    },
    {
     "ename": "NameError",
     "evalue": "name 'y' is not defined",
     "output_type": "error",
     "traceback": [
      "\u001b[1;31m---------------------------------------------------------------------------\u001b[0m",
      "\u001b[1;31mNameError\u001b[0m                                 Traceback (most recent call last)",
      "\u001b[1;32m~\\AppData\\Local\\Temp/ipykernel_13100/1227540866.py\u001b[0m in \u001b[0;36m<module>\u001b[1;34m\u001b[0m\n\u001b[1;32m----> 1\u001b[1;33m \u001b[0mafunction\u001b[0m\u001b[1;33m(\u001b[0m\u001b[1;36m10\u001b[0m\u001b[1;33m)\u001b[0m\u001b[1;33m\u001b[0m\u001b[1;33m\u001b[0m\u001b[0m\n\u001b[0m",
      "\u001b[1;32m~\\AppData\\Local\\Temp/ipykernel_13100/3105540476.py\u001b[0m in \u001b[0;36mafunction\u001b[1;34m(x)\u001b[0m\n\u001b[0;32m      3\u001b[0m     \u001b[0mprint\u001b[0m\u001b[1;33m(\u001b[0m\u001b[0mx\u001b[0m \u001b[1;33m+\u001b[0m \u001b[0ma\u001b[0m\u001b[1;33m)\u001b[0m\u001b[1;33m\u001b[0m\u001b[1;33m\u001b[0m\u001b[0m\n\u001b[0;32m      4\u001b[0m     \u001b[0mprint\u001b[0m\u001b[1;33m(\u001b[0m\u001b[0mx\u001b[0m \u001b[1;33m+\u001b[0m \u001b[0mb\u001b[0m\u001b[1;33m)\u001b[0m\u001b[1;33m\u001b[0m\u001b[1;33m\u001b[0m\u001b[0m\n\u001b[1;32m----> 5\u001b[1;33m     \u001b[0mprint\u001b[0m\u001b[1;33m(\u001b[0m\u001b[0mx\u001b[0m \u001b[1;33m+\u001b[0m \u001b[0my\u001b[0m\u001b[1;33m)\u001b[0m\u001b[1;33m\u001b[0m\u001b[1;33m\u001b[0m\u001b[0m\n\u001b[0m",
      "\u001b[1;31mNameError\u001b[0m: name 'y' is not defined"
     ]
    }
   ],
   "source": [
    "afunction(10)"
   ]
  },
  {
   "cell_type": "code",
   "execution_count": 34,
   "id": "45c050a1",
   "metadata": {},
   "outputs": [],
   "source": [
    "def duprem(l):\n",
    "    return set(l)\n"
   ]
  },
  {
   "cell_type": "code",
   "execution_count": 35,
   "id": "0313b3d4",
   "metadata": {},
   "outputs": [
    {
     "data": {
      "text/plain": [
       "{2, 3, 4, 5, 6, 8, 9, 10, 12, 13}"
      ]
     },
     "execution_count": 35,
     "metadata": {},
     "output_type": "execute_result"
    }
   ],
   "source": [
    "from functools import reduce\n",
    "l1 = [[2, 2, 3, 4, 5, 5, 6, 8, 9],[10,2,3,5,6],[10,12,13,4]]\n",
    "reduce(set.union,map(duprem, l1))\n"
   ]
  },
  {
   "cell_type": "code",
   "execution_count": 31,
   "id": "415be43b",
   "metadata": {},
   "outputs": [
    {
     "data": {
      "text/plain": [
       "[2, 3, 4, 5, 6, 8, 9]"
      ]
     },
     "execution_count": 31,
     "metadata": {},
     "output_type": "execute_result"
    }
   ],
   "source": [
    "x = duprem([2, 2, 3, 4, 5, 5, 6, 8, 9])\n",
    "x"
   ]
  },
  {
   "cell_type": "code",
   "execution_count": 36,
   "id": "e4215a33",
   "metadata": {},
   "outputs": [
    {
     "name": "stdout",
     "output_type": "stream",
     "text": [
      "10\n",
      "11.0\n",
      "12.0\n",
      "8.0\n"
     ]
    }
   ],
   "source": [
    "l1 = [10,12,13,4]\n",
    "from itertools import accumulate\n",
    "res = accumulate(l1, lambda x, y: (x + y)/2)\n",
    "for ele in res:\n",
    "    print(ele)"
   ]
  },
  {
   "cell_type": "code",
   "execution_count": null,
   "id": "5426de32",
   "metadata": {},
   "outputs": [],
   "source": []
  }
 ],
 "metadata": {
  "kernelspec": {
   "display_name": "Python 3 (ipykernel)",
   "language": "python",
   "name": "python3"
  },
  "language_info": {
   "codemirror_mode": {
    "name": "ipython",
    "version": 3
   },
   "file_extension": ".py",
   "mimetype": "text/x-python",
   "name": "python",
   "nbconvert_exporter": "python",
   "pygments_lexer": "ipython3",
   "version": "3.8.8"
  }
 },
 "nbformat": 4,
 "nbformat_minor": 5
}
