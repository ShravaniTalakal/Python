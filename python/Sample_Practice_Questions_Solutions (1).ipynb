{
 "cells": [
  {
   "cell_type": "markdown",
   "id": "67622106",
   "metadata": {},
   "source": [
    "**Question: Get the input from users for square of a side and radius of a circle, create dictionary of lambda functions to find area of square and circle and print the total area.**"
   ]
  },
  {
   "cell_type": "code",
   "execution_count": 1,
   "id": "73fe1d40",
   "metadata": {},
   "outputs": [
    {
     "name": "stdout",
     "output_type": "stream",
     "text": [
      "Enter the side of a square: 5.5\n",
      "Enter the radius of a circle: 3.25\n"
     ]
    }
   ],
   "source": [
    "import numpy as np\n",
    "\n",
    "d1 = {'Area_of_Square':lambda x: x ** 2, 'Area_of_Circle':lambda x: (22 / 7)* (x ** 2)}\n",
    "\n",
    "side_of_squre = float(input(\"Enter the side of a square: \"))\n",
    "radius_of_circle = float(input(\"Enter the radius of a circle: \"))\n"
   ]
  },
  {
   "cell_type": "code",
   "execution_count": 2,
   "id": "924fa5e2",
   "metadata": {},
   "outputs": [
    {
     "name": "stdout",
     "output_type": "stream",
     "text": [
      "5.5 3.25\n"
     ]
    }
   ],
   "source": [
    "print(side_of_squre, radius_of_circle)"
   ]
  },
  {
   "cell_type": "code",
   "execution_count": 3,
   "id": "f68e8bdd",
   "metadata": {},
   "outputs": [
    {
     "name": "stdout",
     "output_type": "stream",
     "text": [
      "{'Area_of_Square': <function <lambda> at 0x00000205ECE803A0>, 'Area_of_Circle': <function <lambda> at 0x00000205EE2E9AF0>}\n"
     ]
    }
   ],
   "source": [
    "print(d1)"
   ]
  },
  {
   "cell_type": "code",
   "execution_count": 9,
   "id": "be6778c5",
   "metadata": {},
   "outputs": [
    {
     "name": "stdout",
     "output_type": "stream",
     "text": [
      "The total area of Square and Circle is 63.45\n"
     ]
    }
   ],
   "source": [
    "total_area = d1['Area_of_Square'](side_of_squre) + d1['Area_of_Circle'](radius_of_circle)\n",
    "print(\"The total area of Square and Circle is {0:0.2f}\".format(total_area))"
   ]
  },
  {
   "cell_type": "markdown",
   "id": "0538ed4f",
   "metadata": {},
   "source": [
    "**Question: Print the Sweet fruits.**\n",
    "\n",
    "fruits = (('Lemon','sour'), ('DragonFruit', 'Sweet'), ('Grapes','soUr'), ('Kiwi','Sour'), ('Apples','sweet'), ('Orange','sour'), ('Blueberries','sweet'), ('Limes','Sour') )\n",
    "\n",
    "Expected Output : [DragonFruit, Apples, Blueberries]\n"
   ]
  },
  {
   "cell_type": "code",
   "execution_count": 13,
   "id": "dfd1b59f",
   "metadata": {},
   "outputs": [
    {
     "data": {
      "text/plain": [
       "['DragonFruit', 'Apples', 'Blueberries']"
      ]
     },
     "execution_count": 13,
     "metadata": {},
     "output_type": "execute_result"
    }
   ],
   "source": [
    "fruits = (('Lemon','sour'), ('DragonFruit', 'Sweet'), ('Grapes','soUr'), ('Kiwi','Sour'), ('Apples','sweet'), ('Orange','sour'), ('Blueberries','sweet'), ('Limes','Sour') )\n",
    "[t[0] for t in fruits if t[1].lower() == 'sweet']"
   ]
  },
  {
   "cell_type": "markdown",
   "id": "a2171121",
   "metadata": {},
   "source": [
    "**Question: Find the words with 2nd letters are capital in the given list**\n",
    "\n",
    "lst = ['LIon','Tiger','CHeetah','Peacock','CHimpunsy']\n"
   ]
  },
  {
   "cell_type": "code",
   "execution_count": 18,
   "id": "e71a0943",
   "metadata": {},
   "outputs": [
    {
     "data": {
      "text/plain": [
       "['LIon', 'CHeetah', 'CHimpunsy']"
      ]
     },
     "execution_count": 18,
     "metadata": {},
     "output_type": "execute_result"
    }
   ],
   "source": [
    "lst = ['LIon','Tiger','CHeetah','Peacock','CHimpunsy']\n",
    "\n",
    "[word for word in lst if (word[1].isupper()) ]\n"
   ]
  },
  {
   "cell_type": "markdown",
   "id": "6a6bf5f3",
   "metadata": {},
   "source": [
    "A dictionary of names and their weights on earth is given. Find how much they will weigh on the moon. (Use map and lambda functions)\n",
    "\n",
    "Formula : wMoon = (wEarth * GMoon) / GEarth\n",
    "\n",
    "** Weight of people in kg **\n",
    "\n",
    "WeightOnEarth = {'John':45, 'Shelly':65, 'Marry':35}\n",
    "\n",
    "Gravitational force on the Moon: 1.622 m/s2\n",
    "\n",
    "GMoon = 1.622\n",
    "\n",
    "Gravitational force on the Earth: 9.81 m/s2\n",
    "\n",
    "GEarth = 9.81\n",
    "\n",
    "Output: Weight on Moon: {'John': 7.44, 'Shelly': 10.75, 'Marry': 5.79}\n"
   ]
  },
  {
   "cell_type": "code",
   "execution_count": 29,
   "id": "6aacf519",
   "metadata": {},
   "outputs": [
    {
     "data": {
      "text/plain": [
       "{'John': 7.44, 'Shelly': 10.75, 'Marry': 5.79}"
      ]
     },
     "execution_count": 29,
     "metadata": {},
     "output_type": "execute_result"
    }
   ],
   "source": [
    "WeightOnEarth = {'John':45, 'Shelly':65, 'Marry':35}\n",
    "GMoon = 1.622\n",
    "GEarth = 9.81\n",
    "\n",
    "dict(zip(WeightOnEarth.keys(), list(map(lambda x: round((x * GMoon) / GEarth,2), WeightOnEarth.values()))))\n",
    "#list(map(lambda x: WeightOnEarth[x], WeightOnEarth))\n"
   ]
  },
  {
   "cell_type": "markdown",
   "id": "d87dc89d",
   "metadata": {},
   "source": [
    "**Question:: A list containing multiple lists is given. Convert each inner list into sets and find the intersection of all the sets.**\n",
    "\n",
    "Use reduce function\n",
    "\n",
    "given_sets = [[1, 2, 3, 4, 8], [2, 3, 8, 5, 6], [8, 4, 5, 3, 7], [6, 9, 8, 3], [9, 12, 3, 7, 6, 8, 4, 6, 21, 1, 6]]\n",
    "\n",
    "Output: {8, 3}\n"
   ]
  },
  {
   "cell_type": "code",
   "execution_count": 36,
   "id": "ad515480",
   "metadata": {},
   "outputs": [
    {
     "data": {
      "text/plain": [
       "{3, 8}"
      ]
     },
     "execution_count": 36,
     "metadata": {},
     "output_type": "execute_result"
    }
   ],
   "source": [
    "given_sets = [[1, 2, 3, 4, 8], [2, 3, 8, 5, 6], [8, 4, 5, 3, 7], [6, 9, 8, 3], [9, 12, 3, 7, 6, 8, 4, 6, 21, 1, 6]]\n",
    "\n",
    "reduce(lambda a, b: a.intersection(b), map(set, given_sets))"
   ]
  },
  {
   "cell_type": "code",
   "execution_count": 31,
   "id": "b9ecbd84",
   "metadata": {},
   "outputs": [
    {
     "data": {
      "text/plain": [
       "150"
      ]
     },
     "execution_count": 31,
     "metadata": {},
     "output_type": "execute_result"
    }
   ],
   "source": [
    "from functools import reduce\n",
    "l1 = [10, 20, 30,40,50]\n",
    "reduce(lambda a, b: a+b, l1)"
   ]
  },
  {
   "cell_type": "markdown",
   "id": "57e47cdf",
   "metadata": {},
   "source": [
    "**Question: A list of words is given. Convert the words into uppercase. Use lambda and map functions.**\n",
    "\n",
    "X=[‘Amy’,’Anand’,’Will’,’Bruce’]\n"
   ]
  },
  {
   "cell_type": "code",
   "execution_count": 38,
   "id": "ddae4bff",
   "metadata": {},
   "outputs": [
    {
     "data": {
      "text/plain": [
       "['AMY', 'ANAND', 'WILL', 'BRUCE']"
      ]
     },
     "execution_count": 38,
     "metadata": {},
     "output_type": "execute_result"
    }
   ],
   "source": [
    "X=['Amy','Anand','Will','Bruce']\n",
    "\n",
    "list(map(lambda x: x.upper(), X))\n"
   ]
  },
  {
   "cell_type": "code",
   "execution_count": 39,
   "id": "3ea28b04",
   "metadata": {},
   "outputs": [
    {
     "data": {
      "text/plain": [
       "['AMY', 'ANAND', 'WILL', 'BRUCE']"
      ]
     },
     "execution_count": 39,
     "metadata": {},
     "output_type": "execute_result"
    }
   ],
   "source": [
    "[word.upper() for word in X]  ## Using List Comprehension"
   ]
  },
  {
   "cell_type": "markdown",
   "id": "c640a11d",
   "metadata": {},
   "source": [
    "**Question: Find the cumulative sum of the list [9,8,7,6,5] using accumulate() and lambda function.**\n",
    "\n",
    "Input list: [9, 5, 7, 8, 5]\n"
   ]
  },
  {
   "cell_type": "code",
   "execution_count": 41,
   "id": "9bc46d2f",
   "metadata": {},
   "outputs": [
    {
     "name": "stdout",
     "output_type": "stream",
     "text": [
      "9\n",
      "14\n",
      "21\n",
      "29\n",
      "34\n"
     ]
    }
   ],
   "source": [
    "from itertools import accumulate\n",
    "list = [9, 5, 7, 8, 5]\n",
    "\n",
    "for x in (accumulate(list, lambda a, b: a+b)):\n",
    "    print(x)"
   ]
  },
  {
   "cell_type": "markdown",
   "id": "9c4572ac",
   "metadata": {},
   "source": [
    "Take a string containing punctuation marks as an input from user and write a program to remove all the  punctuation marks from a string"
   ]
  },
  {
   "cell_type": "code",
   "execution_count": 47,
   "id": "9fa84ab3",
   "metadata": {},
   "outputs": [
    {
     "name": "stdout",
     "output_type": "stream",
     "text": [
      "!\"#$%&'()*+,-./:;<=>?@[\\]^_`{|}~\n",
      "Shanmugam\n",
      "Shanmugam\n"
     ]
    }
   ],
   "source": [
    "str = 'Sh@an~m?u!#*g(am)'\n",
    "import string\n",
    "print(string.punctuation)\n",
    "res=''\n",
    "for ltr in str:\n",
    "    if ltr not in string.punctuation:\n",
    "        res += ltr\n",
    "print(res)\n",
    "\n",
    "res=''\n",
    "for ltr in str:\n",
    "    if ltr.isalpha():\n",
    "        res += ltr\n",
    "print(res)"
   ]
  },
  {
   "cell_type": "markdown",
   "id": "12c62148",
   "metadata": {},
   "source": [
    "Write a program to print following pattern\n",
    "\n",
    "a\n",
    "\n",
    "b c\n",
    "\n",
    "d e f\n",
    "\n",
    "g h i j\n",
    "\n",
    "k l m n o\n",
    "\n",
    "p q r s t u\n"
   ]
  },
  {
   "cell_type": "code",
   "execution_count": 49,
   "id": "2b7ed9a4",
   "metadata": {},
   "outputs": [
    {
     "name": "stdout",
     "output_type": "stream",
     "text": [
      "abcdefghijklmnopqrstuvwxyz\n"
     ]
    }
   ],
   "source": [
    "import string\n",
    "\n",
    "print(string.ascii_lowercase)"
   ]
  },
  {
   "cell_type": "code",
   "execution_count": 55,
   "id": "52cbb1ee",
   "metadata": {},
   "outputs": [
    {
     "name": "stdout",
     "output_type": "stream",
     "text": [
      "a\n",
      "bc\n",
      "def\n",
      "ghij\n",
      "klmno\n",
      "pqrstu\n"
     ]
    }
   ],
   "source": [
    "level=6\n",
    "starting_pos = 0\n",
    "for i in range(level):\n",
    "    print(string.ascii_lowercase[starting_pos:starting_pos+i+1])\n",
    "    starting_pos += i+1\n",
    "    "
   ]
  },
  {
   "attachments": {
    "image.png": {
     "image/png": "[encoded data removed]"
    }
   },
   "cell_type": "markdown",
   "id": "05e471ea",
   "metadata": {},
   "source": [
    "Write a program to print following pattern:\n",
    "![image.png](attachment:image.png)\n",
    "Take the level input from user and the levels should be odd number."
   ]
  },
  {
   "cell_type": "code",
   "execution_count": 136,
   "id": "43760699",
   "metadata": {},
   "outputs": [
    {
     "name": "stdout",
     "output_type": "stream",
     "text": [
      "*\n",
      "**\n",
      "***\n",
      "****\n",
      "***\n",
      "**\n",
      "*\n"
     ]
    }
   ],
   "source": [
    "level = 7\n",
    "dlevel= level//2\n",
    "j = 0\n",
    "for i in range(level):\n",
    "    if i > dlevel:\n",
    "        j -= 1\n",
    "    else:\n",
    "        j += 1\n",
    "    print('*' * j)\n"
   ]
  },
  {
   "cell_type": "markdown",
   "id": "702bcbd9",
   "metadata": {},
   "source": [
    "**Below list contains age and name of five students. Convert the list into a dictionary such that the name is taken as key and the age before their name is taken as thier respective value in the dictionary**\n",
    "\n",
    "students = [26,'Jon',34,'Roger',13,'Jessica',24,'Monica',65,'Ashton'] \n",
    "\n",
    "Output: {'Jon':26, 'Roger':34, 'Jessica':13, 'Monica':24, 'Ashton':65}\n"
   ]
  },
  {
   "cell_type": "code",
   "execution_count": 66,
   "id": "f5b44aaf",
   "metadata": {},
   "outputs": [
    {
     "name": "stdout",
     "output_type": "stream",
     "text": [
      "{'Jon': 26, 'Roger': 34, 'Jessica': 13, 'Monica': 24, 'Ashton': 65}\n"
     ]
    }
   ],
   "source": [
    "students = [26,'Jon',34,'Roger',13,'Jessica',24,'Monica',65,'Ashton'] \n",
    "\n",
    "newDct = {students[i+1]: students[i ] for i in range(0, len(students), 2)}\n",
    "\n",
    "print(newDct)"
   ]
  },
  {
   "cell_type": "markdown",
   "id": "ee781632",
   "metadata": {},
   "source": [
    "**Write a program to check whether two strings, taken from user, are anagram or not**\n",
    "\n",
    "dormitory\n",
    "\n",
    "dirtyroom"
   ]
  },
  {
   "cell_type": "code",
   "execution_count": 76,
   "id": "30e3febc",
   "metadata": {},
   "outputs": [],
   "source": [
    "str1 = 'dormitory'\n",
    "str2 = 'dirtyrbom'"
   ]
  },
  {
   "cell_type": "code",
   "execution_count": 77,
   "id": "a2d9f35b",
   "metadata": {},
   "outputs": [
    {
     "data": {
      "text/plain": [
       "'They are not anagram'"
      ]
     },
     "execution_count": 77,
     "metadata": {},
     "output_type": "execute_result"
    }
   ],
   "source": [
    "\"The given strings are anagram\" if sorted(str1) == sorted(str2) else \"They are not anagram\""
   ]
  },
  {
   "cell_type": "code",
   "execution_count": 79,
   "id": "d0c13fbf",
   "metadata": {},
   "outputs": [
    {
     "data": {
      "text/plain": [
       "False"
      ]
     },
     "execution_count": 79,
     "metadata": {},
     "output_type": "execute_result"
    }
   ],
   "source": [
    "True if 1 == 2 else False"
   ]
  },
  {
   "cell_type": "code",
   "execution_count": 80,
   "id": "ac5c51e7",
   "metadata": {},
   "outputs": [
    {
     "name": "stdout",
     "output_type": "stream",
     "text": [
      "\n"
     ]
    }
   ],
   "source": [
    "if True:\n",
    "    print()\n",
    "else:\n",
    "    print()"
   ]
  },
  {
   "cell_type": "markdown",
   "id": "7941caf1",
   "metadata": {},
   "source": [
    "**Write a program that sorts all the elements of the list according to the first letter, irrespective of their cases (uppercase or lowercase). Note: Do not use any inbuilt sorting function**\n",
    "\n",
    "\n",
    "Input:  ['Jon', 'Roger', 'jessica', 'abraham','Monica', 'Ashton']\n",
    "\n",
    "Output: ['abraham', 'Ashton', 'Jon', 'jessica', 'Monica', 'Roger']\n"
   ]
  },
  {
   "cell_type": "code",
   "execution_count": 90,
   "id": "803e4d65",
   "metadata": {},
   "outputs": [
    {
     "name": "stdout",
     "output_type": "stream",
     "text": [
      "['abraham', 'Ashton', 'jessica', 'Jon', 'Monica', 'Roger']\n"
     ]
    }
   ],
   "source": [
    "l1 =  ['Jon', 'Roger', 'jessica', 'abraham','Monica', 'Ashton']\n",
    "for i in range(len(l1) - 1):\n",
    "    for j in range(i+1, len(l1)):\n",
    "        if l1[i].lower()  > l1[j].lower():\n",
    "            l1[i],l1[j] = l1[j],l1[i]\n",
    "print(l1)            \n",
    "    "
   ]
  },
  {
   "cell_type": "code",
   "execution_count": 88,
   "id": "afbcea7c",
   "metadata": {},
   "outputs": [
    {
     "name": "stdout",
     "output_type": "stream",
     "text": [
      " first method \n",
      "['abraham', 'Ashton', 'jessica', 'Jon', 'Monica', 'Roger']\n"
     ]
    }
   ],
   "source": [
    "l = ['Jon', 'Roger', 'jessica', 'abraham','Monica', 'Ashton']\n",
    "\n",
    "print(\" first method \")\n",
    "for i in range(0,len(l)):\n",
    "    for j in range(i+1,len(l)):\n",
    "       if l[i].lower() > l[j].lower():\n",
    "           l[i],l[j]=l[j],l[i] # swapping elements without using third ele\n",
    "print(l)            "
   ]
  },
  {
   "cell_type": "markdown",
   "id": "d95d8327",
   "metadata": {},
   "source": [
    "**Write a program to remove the space from keys of the given dictionary**\n",
    "\n",
    "Employee = {'emp 01' : 'Raj', 'emp 02' : 'Sheela', 'emp 0 3 ': 'Joseph'};\n"
   ]
  },
  {
   "cell_type": "code",
   "execution_count": 91,
   "id": "ca9241d3",
   "metadata": {},
   "outputs": [
    {
     "data": {
      "text/plain": [
       "{'emp01': 'Raj', 'emp02': 'Sheela', 'emp03': 'Joseph'}"
      ]
     },
     "execution_count": 91,
     "metadata": {},
     "output_type": "execute_result"
    }
   ],
   "source": [
    "Employee = {'emp 01' : 'Raj', 'emp 02' : 'Sheela', 'emp 0 3 ': 'Joseph'}\n",
    "\n",
    "{k.replace(' ',''):v for k, v in Employee.items()}"
   ]
  },
  {
   "cell_type": "markdown",
   "id": "6b7d32de",
   "metadata": {},
   "source": [
    "**Write a program to find numbers between 10000 to 20000 from a given array**\n",
    "\n",
    "Use the list given below:\n",
    "\n",
    "Sales = [1432,143223,2043332,1642357,54327,754338,12459,75435,224454,1433,12447,25532,86674,74338,12678]\n"
   ]
  },
  {
   "cell_type": "code",
   "execution_count": 103,
   "id": "a60dc749",
   "metadata": {},
   "outputs": [
    {
     "name": "stdout",
     "output_type": "stream",
     "text": [
      "[12459, 12447, 12678]\n",
      "[12459, 12447, 12678]\n"
     ]
    }
   ],
   "source": [
    "Sales = [1432,143223,2043332,1642357,54327,754338,12459,75435,224454,1433,12447,25532,86674,74338,12678]\n",
    "print([sale for sale in Sales if ((sale >= 10000) &  (sale <= 20000))])\n",
    "print([sale for sale in Sales if 10000 <= sale <= 20000])"
   ]
  },
  {
   "cell_type": "code",
   "execution_count": 101,
   "id": "a8fac367",
   "metadata": {},
   "outputs": [
    {
     "name": "stdout",
     "output_type": "stream",
     "text": [
      "12459\n",
      "12447\n",
      "12678\n"
     ]
    }
   ],
   "source": [
    "for sale in Sales:\n",
    "    if 10000 < sale < 20000:\n",
    "        print(sale)"
   ]
  },
  {
   "cell_type": "code",
   "execution_count": 112,
   "id": "4a01f33e",
   "metadata": {},
   "outputs": [
    {
     "data": {
      "text/plain": [
       "{1: 10, 2: 20, 3: 30, 4: 40, 5: 50, 6: 60}"
      ]
     },
     "execution_count": 112,
     "metadata": {},
     "output_type": "execute_result"
    }
   ],
   "source": [
    "dic1={1:10, 2:20}\n",
    "dic2={3:30, 4:40}\n",
    "dic3={5:50,6:60}\n",
    "\n",
    "res = {}\n",
    "for i in [dic1, dic2, dic3]:\n",
    "    for k,v in i.items():\n",
    "        res[k]=v\n",
    "res"
   ]
  },
  {
   "cell_type": "code",
   "execution_count": 131,
   "id": "69041d14",
   "metadata": {},
   "outputs": [
    {
     "data": {
      "text/plain": [
       "{'a': 2, 'b': 2, 'e': 2, 'i': 2}"
      ]
     },
     "execution_count": 131,
     "metadata": {},
     "output_type": "execute_result"
    }
   ],
   "source": [
    "#from collections import defaultdict\n",
    "\n",
    "str1 = 'aabcdeefgbiij'\n",
    "repltrs = {}\n",
    "\n",
    "for ltr in str1:\n",
    "    if str1.count(ltr) > 1:\n",
    "        repltrs[ltr] = str1.count(ltr)\n",
    "\n",
    "repltrs        "
   ]
  },
  {
   "cell_type": "code",
   "execution_count": null,
   "id": "b2611de3",
   "metadata": {},
   "outputs": [],
   "source": []
  }
 ],
 "metadata": {
  "kernelspec": {
   "display_name": "Python 3 (ipykernel)",
   "language": "python",
   "name": "python3"
  },
  "language_info": {
   "codemirror_mode": {
    "name": "ipython",
    "version": 3
   },
   "file_extension": ".py",
   "mimetype": "text/x-python",
   "name": "python",
   "nbconvert_exporter": "python",
   "pygments_lexer": "ipython3",
   "version": "3.8.8"
  }
 },
 "nbformat": 4,
 "nbformat_minor": 5
}
