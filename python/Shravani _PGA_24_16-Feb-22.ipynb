{
 "cells": [
  {
   "cell_type": "code",
   "execution_count": 4,
   "id": "a864b84a",
   "metadata": {},
   "outputs": [
    {
     "name": "stdout",
     "output_type": "stream",
     "text": [
      "Postive List \n",
      " ['He is a good boy', 'He is an awesome player', 'She is the best', 'These burger are really nice']\n",
      "\n",
      "Negative List \n",
      " ['Food is the worst here', 'This pizza tastes awful']\n"
     ]
    }
   ],
   "source": [
    "## Q1 Given below are a list of positive and negative words. Also a list of comments is provided. Segregate the comments based on positive and\n",
    "#negative sentiments.\n",
    "positive = ['good','awesome', 'best', 'nice']\n",
    "negative = ['worst','awful']\n",
    "poslist = []\n",
    "neglist = []\n",
    "comments = ['He is a good boy','Food is the worst here','He is an awesome player','She is the best','This pizza tastes awful','These burger are really nice']\n",
    "for sen in comments:\n",
    "    for pos in positive:\n",
    "        if pos in sen:\n",
    "            poslist.append(sen)\n",
    "            \n",
    "    for neg in negative:\n",
    "        if neg in sen:\n",
    "            neglist.append(sen)\n",
    "            \n",
    "print(\"Postive List \\n\", poslist) \n",
    "print(\"\\nNegative List \\n\", neglist)  "
   ]
  },
  {
   "cell_type": "code",
   "execution_count": 43,
   "id": "b0a15ec5",
   "metadata": {},
   "outputs": [
    {
     "name": "stdout",
     "output_type": "stream",
     "text": [
      "Enter the number9\n",
      "{'Square': 18, 'Cube': 729, 'Squareroot': 4.5}\n"
     ]
    }
   ],
   "source": [
    "##Q2 Create a dictionary containing three lambda functions square, cube and square root.\n",
    "##E.g. dict = {'Square': function for squaring, 'Cube': function for cube, 'Squareroot': function for square root}\n",
    "##Pass the values (input from the user)to the functions in the dictionary respectively. Then add the outputs of each function and print it.\n",
    "x=int(input(\"Enter the number\"))\n",
    "dict={'Square':(lambda x:x*2)(x),'Cube':(lambda x:x**3)(x),'Squareroot':(lambda x:x*0.5)(x)}\n",
    "print(dict)\n"
   ]
  },
  {
   "cell_type": "code",
   "execution_count": 8,
   "id": "87f0739c",
   "metadata": {},
   "outputs": [
    {
     "data": {
      "text/plain": [
       "['Lemon', 'Grapes', 'Kiwi', 'Orange', 'Limes']"
      ]
     },
     "execution_count": 8,
     "metadata": {},
     "output_type": "execute_result"
    }
   ],
   "source": [
    "##Q3 3. Find the fruits that are sour in taste from the tuple given below.\n",
    "fruits = (('Lemon','sour'),\n",
    "('DragonFruit', 'Sweet'),\n",
    "('Grapes','soUr'),\n",
    "('Kiwi','Sour'),\n",
    "('Apples','sweet'),\n",
    "('Orange','sour'),\n",
    "('Blueberries','sweet'),\n",
    "('Limes','Sour'))\n",
    " ##output = Sour Fruits: ['Lemon', 'Grapes', 'Kiwi', 'Orange', 'Limes']\n",
    "sourfruits=[]\n",
    "for fruit in fruits:\n",
    "    if fruit[1].lower() == 'sour':\n",
    "        sourfruits.append(fruit[0])\n",
    "sourfruits"
   ]
  },
  {
   "cell_type": "code",
   "execution_count": 10,
   "id": "dd432ab4",
   "metadata": {},
   "outputs": [
    {
     "data": {
      "text/plain": [
       "['hOw', 'ARe']"
      ]
     },
     "execution_count": 10,
     "metadata": {},
     "output_type": "execute_result"
    }
   ],
   "source": [
    "##Q4 A list of words is given. Find the words from the list that have their second character in uppercase.\n",
    "##ls = ['hello', 'Dear', 'hOw', 'ARe', 'You']\n",
    "##Output: ['hOw', 'ARe']\n",
    "ls = ['hello', 'Dear', 'hOw', 'ARe', 'You']\n",
    "[word for word in ls if (word[1].isupper()) ]"
   ]
  },
  {
   "cell_type": "code",
   "execution_count": 12,
   "id": "f2ad8533",
   "metadata": {},
   "outputs": [
    {
     "data": {
      "text/plain": [
       "{'John': 7.44, 'Shelly': 10.75, 'Marry': 5.79}"
      ]
     },
     "execution_count": 12,
     "metadata": {},
     "output_type": "execute_result"
    }
   ],
   "source": [
    "## Q5 A dictionary of names and their weights on earth is given. Find how much they will weigh on the moon. (Use map and lambda functions)\n",
    "##Formula : wMoon = (wEarth * GMoon) / GEarth\n",
    "# Weight of people in kg\n",
    "##WeightOnEarth = {'John':45, 'Shelly':65, 'Marry':35}\n",
    "# Gravitational force on the Moon: 1.622 m/s2\n",
    "##GMoon = 1.622\n",
    "# Gravitational force on the Earth: 9.81 m/s2\n",
    "##GEarth = 9.81\n",
    "##Output:\n",
    "##Weight on Moon: {'John': 7.44, 'Shelly': 10.75, 'Marry': 5.79}\n",
    "\n",
    "WeightOnEarth = {'John':45, 'Shelly':65, 'Marry':35}\n",
    "GMoon = 1.622\n",
    "GEarth = 9.81\n",
    "dict(zip(WeightOnEarth.keys(), list(map(lambda x: round((x * GMoon) / GEarth,2), WeightOnEarth.values()))))"
   ]
  },
  {
   "cell_type": "code",
   "execution_count": 50,
   "id": "476efb2b",
   "metadata": {},
   "outputs": [],
   "source": [
    "## Q6 namesList = ['santa Maria', 'Hello World','Merry christmas', 'tHank You']\n",
    "##Output: ['Maria', 'Hello', 'World', 'Merry', 'You']\n",
    "namesList = ['santa Maria', 'Hello World','Merry christmas', 'tHank You']\n",
    "res = [x for x in namesList if namesList[1].isupper()]\n",
    "\n"
   ]
  },
  {
   "cell_type": "code",
   "execution_count": 15,
   "id": "7a74e7fa",
   "metadata": {},
   "outputs": [
    {
     "data": {
      "text/plain": [
       "{3, 8}"
      ]
     },
     "execution_count": 15,
     "metadata": {},
     "output_type": "execute_result"
    }
   ],
   "source": [
    "##Q7 A list containing multiple lists is given. Convert each inner list into sets and find the intersection of all the sets. Use reduce function.\n",
    "##given_sets = [[1, 2, 3, 4, 8], [2, 3, 8, 5, 6], [8, 4, 5, 3, 7], [6, 9, 8, 3], [9,12, 3, 7, 6, 8, 4, 6, 21, 1, 6]]\n",
    "##Output: {8, 3}\n",
    "given_sets = [[1, 2, 3, 4, 8], [2, 3, 8, 5, 6], [8, 4, 5, 3, 7], [6, 9, 8, 3], [9,12, 3, 7, 6, 8, 4, 6, 21, 1, 6]]\n",
    "from functools import reduce\n",
    "reduce(lambda a, b: a.intersection(b), map(set, given_sets))\n"
   ]
  },
  {
   "cell_type": "code",
   "execution_count": 22,
   "id": "90f71a31",
   "metadata": {},
   "outputs": [
    {
     "name": "stdout",
     "output_type": "stream",
     "text": [
      "9\n",
      "8.5\n",
      "7.75\n",
      "6.875\n",
      "5.9375\n"
     ]
    }
   ],
   "source": [
    "##Q8 Find the cumulative average of the list [9,8,7,6,5] using accumulate() and lambda function.\n",
    "list = [9,8,7,6,5]\n",
    "from itertools import accumulate\n",
    "for x in (accumulate(list, lambda a, b: (a+b)/2)):\n",
    "    print(x)\n"
   ]
  },
  {
   "cell_type": "code",
   "execution_count": 48,
   "id": "d8b5a8d0",
   "metadata": {},
   "outputs": [],
   "source": [
    "##Q9 A list of words is given. Convert the words into uppercase. Use lambda and map functions.\n",
    "##lsbool = ['True','FALse','tRUe','tRue','False','faLse']\n",
    "##Output: ['TRUE', 'FALSE', 'TRUE', 'TRUE', 'FALSE', 'FALSE']\n",
    "lsbool = ['True','FALse','tRUe','tRue','False','faLse']\n",
    "output = list(map(lambda x: x.upper(),lsbool))\n",
    "print(output)\n"
   ]
  },
  {
   "cell_type": "code",
   "execution_count": 35,
   "id": "c8ac8446",
   "metadata": {},
   "outputs": [
    {
     "name": "stdout",
     "output_type": "stream",
     "text": [
      "['1997', '2011', '1993', '2020']\n"
     ]
    }
   ],
   "source": [
    "##Q 10 A list of dates (dd-mm-yyyy)in the form of string is given below. Create a new list that stores years i.e. the 'yyyy' part from the dates in the given list.\n",
    "##datesList = ['17-12-1997','22-04-2011','01-05-1993','19-06-2020']\n",
    "##Output: ['1997','2011','1993','2020']\n",
    "datesList = ['17-12-1997','22-04-2011','01-05-1993','19-06-2020']\n",
    "year= []\n",
    "for x in datesList:\n",
    "    year.append(x.split('-')[2])\n",
    "\n",
    "print(year)\n",
    "    \n"
   ]
  },
  {
   "cell_type": "code",
   "execution_count": null,
   "id": "d0e27523",
   "metadata": {},
   "outputs": [],
   "source": []
  }
 ],
 "metadata": {
  "kernelspec": {
   "display_name": "Python 3 (ipykernel)",
   "language": "python",
   "name": "python3"
  },
  "language_info": {
   "codemirror_mode": {
    "name": "ipython",
    "version": 3
   },
   "file_extension": ".py",
   "mimetype": "text/x-python",
   "name": "python",
   "nbconvert_exporter": "python",
   "pygments_lexer": "ipython3",
   "version": "3.9.7"
  }
 },
 "nbformat": 4,
 "nbformat_minor": 5
}
