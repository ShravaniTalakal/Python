{
 "cells": [
  {
   "cell_type": "markdown",
   "id": "ffbe2998",
   "metadata": {},
   "source": [
    "## User Defined Functions"
   ]
  },
  {
   "cell_type": "code",
   "execution_count": 1,
   "id": "42f35ed2",
   "metadata": {},
   "outputs": [],
   "source": [
    "def greet():\n",
    "    print(\"Welcome to python learning!\")"
   ]
  },
  {
   "cell_type": "code",
   "execution_count": 2,
   "id": "91b8bdfc",
   "metadata": {},
   "outputs": [
    {
     "name": "stdout",
     "output_type": "stream",
     "text": [
      "Welcome to python learning!\n"
     ]
    }
   ],
   "source": [
    "## Calling the funciton\n",
    "greet()"
   ]
  },
  {
   "cell_type": "code",
   "execution_count": 7,
   "id": "a2b66241",
   "metadata": {},
   "outputs": [],
   "source": [
    "## Function with Parameter\n",
    "def greet(name):\n",
    "    print(\"Welcoming \", name, \" to  python learning!\")   "
   ]
  },
  {
   "cell_type": "code",
   "execution_count": 8,
   "id": "fbfbf36e",
   "metadata": {},
   "outputs": [
    {
     "name": "stdout",
     "output_type": "stream",
     "text": [
      "Welcoming  Vishal  to  python learning!\n"
     ]
    }
   ],
   "source": [
    "greet(\"Vishal\")"
   ]
  },
  {
   "cell_type": "code",
   "execution_count": 9,
   "id": "4785a5e2",
   "metadata": {},
   "outputs": [
    {
     "ename": "TypeError",
     "evalue": "greet() missing 1 required positional argument: 'name'",
     "output_type": "error",
     "traceback": [
      "\u001b[1;31m---------------------------------------------------------------------------\u001b[0m",
      "\u001b[1;31mTypeError\u001b[0m                                 Traceback (most recent call last)",
      "\u001b[1;32m<ipython-input-9-db845682bfe7>\u001b[0m in \u001b[0;36m<module>\u001b[1;34m\u001b[0m\n\u001b[1;32m----> 1\u001b[1;33m \u001b[0mgreet\u001b[0m\u001b[1;33m(\u001b[0m\u001b[1;33m)\u001b[0m\u001b[1;33m\u001b[0m\u001b[1;33m\u001b[0m\u001b[0m\n\u001b[0m",
      "\u001b[1;31mTypeError\u001b[0m: greet() missing 1 required positional argument: 'name'"
     ]
    }
   ],
   "source": [
    "greet()"
   ]
  },
  {
   "cell_type": "code",
   "execution_count": 10,
   "id": "786245e9",
   "metadata": {},
   "outputs": [],
   "source": [
    "## Function with default Parameter value\n",
    "def greet(name='Guest'):\n",
    "    print(\"Welcoming \", name, \" to  python learning!\")   "
   ]
  },
  {
   "cell_type": "code",
   "execution_count": 11,
   "id": "b072ebfa",
   "metadata": {},
   "outputs": [
    {
     "name": "stdout",
     "output_type": "stream",
     "text": [
      "Welcoming  Guest  to  python learning!\n"
     ]
    }
   ],
   "source": [
    "greet()"
   ]
  },
  {
   "cell_type": "code",
   "execution_count": 12,
   "id": "19f55211",
   "metadata": {},
   "outputs": [
    {
     "name": "stdout",
     "output_type": "stream",
     "text": [
      "Welcoming  Abay  to  python learning!\n"
     ]
    }
   ],
   "source": [
    "greet('Abay')"
   ]
  },
  {
   "cell_type": "code",
   "execution_count": 14,
   "id": "85f9ec17",
   "metadata": {},
   "outputs": [],
   "source": [
    "## Function with return value\n",
    "def area_of_circle(radius = 0):\n",
    "    pi=3.14\n",
    "    return (pi * (radius ** 2))"
   ]
  },
  {
   "cell_type": "code",
   "execution_count": 16,
   "id": "db90b1ac",
   "metadata": {},
   "outputs": [
    {
     "name": "stdout",
     "output_type": "stream",
     "text": [
      "The area of circle with radicus  4  is:  50.24\n"
     ]
    }
   ],
   "source": [
    "radius = 4\n",
    "circle4 = area_of_circle(radius)\n",
    "print(\"The area of circle with radicus \", radius, ' is: ',circle4)"
   ]
  },
  {
   "cell_type": "code",
   "execution_count": 17,
   "id": "0788f7a8",
   "metadata": {},
   "outputs": [
    {
     "name": "stdout",
     "output_type": "stream",
     "text": [
      "The area of circle with default radicus  is:  0.0\n"
     ]
    }
   ],
   "source": [
    "print(\"The area of circle with default radicus  is: \",area_of_circle())"
   ]
  },
  {
   "cell_type": "code",
   "execution_count": 18,
   "id": "162c52d6",
   "metadata": {},
   "outputs": [
    {
     "name": "stdout",
     "output_type": "stream",
     "text": [
      "The area of circle with default radicus  is:  113.04\n"
     ]
    }
   ],
   "source": [
    "print(\"The area of circle with default radicus  is: \",area_of_circle(6))"
   ]
  },
  {
   "cell_type": "code",
   "execution_count": 19,
   "id": "e900a0fe",
   "metadata": {},
   "outputs": [],
   "source": [
    "def addnos(a, b):\n",
    "    sumnos = a + b\n",
    "    print(sumnos)"
   ]
  },
  {
   "cell_type": "code",
   "execution_count": 20,
   "id": "9553489f",
   "metadata": {},
   "outputs": [
    {
     "name": "stdout",
     "output_type": "stream",
     "text": [
      "8\n"
     ]
    }
   ],
   "source": [
    "addnos(3,5)"
   ]
  },
  {
   "cell_type": "code",
   "execution_count": 21,
   "id": "18398bd3",
   "metadata": {},
   "outputs": [
    {
     "name": "stdout",
     "output_type": "stream",
     "text": [
      "30\n"
     ]
    }
   ],
   "source": [
    "## Calling function with keyword arguments\n",
    "addnos(b=10,a=20)"
   ]
  },
  {
   "cell_type": "code",
   "execution_count": 22,
   "id": "09e0798a",
   "metadata": {},
   "outputs": [],
   "source": [
    "## function with any number of arguments\n",
    "def addnos(*args):\n",
    "    sumnos=0\n",
    "    for no in args:\n",
    "        sumnos += no\n",
    "    return sumnos"
   ]
  },
  {
   "cell_type": "code",
   "execution_count": 24,
   "id": "510be028",
   "metadata": {},
   "outputs": [
    {
     "name": "stdout",
     "output_type": "stream",
     "text": [
      "29\n"
     ]
    }
   ],
   "source": [
    "print(addnos(1,3,5, 20))"
   ]
  },
  {
   "cell_type": "code",
   "execution_count": 25,
   "id": "4ad9c377",
   "metadata": {},
   "outputs": [
    {
     "name": "stdout",
     "output_type": "stream",
     "text": [
      "35\n"
     ]
    }
   ],
   "source": [
    "print(addnos(35))"
   ]
  },
  {
   "cell_type": "code",
   "execution_count": 46,
   "id": "eff86f91",
   "metadata": {},
   "outputs": [],
   "source": [
    "## function with key and value arguments\n",
    "def somefun(**argv):\n",
    "    mydict = argv\n",
    "    print(argv.items())\n",
    "    return mydict\n",
    "\n",
    "        "
   ]
  },
  {
   "cell_type": "code",
   "execution_count": 47,
   "id": "914acc00",
   "metadata": {},
   "outputs": [
    {
     "name": "stdout",
     "output_type": "stream",
     "text": [
      "dict_items([('key1', '10'), ('key2', 29)])\n"
     ]
    },
    {
     "data": {
      "text/plain": [
       "{'key1': '10', 'key2': 29}"
      ]
     },
     "execution_count": 47,
     "metadata": {},
     "output_type": "execute_result"
    }
   ],
   "source": [
    "d1 = somefun(key1 = \"10\", key2=29)\n",
    "d1"
   ]
  },
  {
   "cell_type": "markdown",
   "id": "b12ca468",
   "metadata": {},
   "source": [
    "## Lambda Functions\n"
   ]
  },
  {
   "cell_type": "code",
   "execution_count": 49,
   "id": "4ceeafa6",
   "metadata": {},
   "outputs": [],
   "source": [
    "def greater(n1, n2):\n",
    "    if n1 > n2 :\n",
    "        return n1\n",
    "    else:\n",
    "        return n2"
   ]
  },
  {
   "cell_type": "code",
   "execution_count": 50,
   "id": "16b536b1",
   "metadata": {},
   "outputs": [
    {
     "name": "stdout",
     "output_type": "stream",
     "text": [
      "20\n"
     ]
    }
   ],
   "source": [
    "lno = greater(10,20)\n",
    "print(lno)"
   ]
  },
  {
   "cell_type": "code",
   "execution_count": 54,
   "id": "15621dae",
   "metadata": {},
   "outputs": [
    {
     "name": "stdout",
     "output_type": "stream",
     "text": [
      "20\n"
     ]
    },
    {
     "data": {
      "text/plain": [
       "33"
      ]
     },
     "execution_count": 54,
     "metadata": {},
     "output_type": "execute_result"
    }
   ],
   "source": [
    "# Sample lambda function for finding the greater value\n",
    "lno = lambda n1, n2: n1 if n1 > n2 else n2\n",
    "\n",
    "print(lno(10,20))\n",
    "lno(33,23)"
   ]
  },
  {
   "cell_type": "code",
   "execution_count": 56,
   "id": "5a6b362d",
   "metadata": {},
   "outputs": [
    {
     "data": {
      "text/plain": [
       "[1, 4, 9, 16, 25, 36, 49, 64, 81, 100]"
      ]
     },
     "execution_count": 56,
     "metadata": {},
     "output_type": "execute_result"
    }
   ],
   "source": [
    "list(map(lambda x:x*x, range(1,11)))"
   ]
  },
  {
   "cell_type": "code",
   "execution_count": 57,
   "id": "e21467d1",
   "metadata": {},
   "outputs": [
    {
     "data": {
      "text/plain": [
       "[False, True, False, True, False, True, False, True, False, True]"
      ]
     },
     "execution_count": 57,
     "metadata": {},
     "output_type": "execute_result"
    }
   ],
   "source": [
    "list(map(lambda x: x % 2 == 0, range(1,11)))"
   ]
  },
  {
   "cell_type": "code",
   "execution_count": 58,
   "id": "03d8580f",
   "metadata": {},
   "outputs": [
    {
     "data": {
      "text/plain": [
       "[2, 4, 6, 8, 10]"
      ]
     },
     "execution_count": 58,
     "metadata": {},
     "output_type": "execute_result"
    }
   ],
   "source": [
    "list(filter(lambda x: x % 2 == 0, range(1,11)))"
   ]
  },
  {
   "cell_type": "code",
   "execution_count": 59,
   "id": "b0605d71",
   "metadata": {},
   "outputs": [
    {
     "data": {
      "text/plain": [
       "55"
      ]
     },
     "execution_count": 59,
     "metadata": {},
     "output_type": "execute_result"
    }
   ],
   "source": [
    "from functools import reduce\n",
    "\n",
    "## Cumulative sum of given numbers\n",
    "reduce(lambda x,y:x+y, range(1,11))"
   ]
  },
  {
   "cell_type": "code",
   "execution_count": 60,
   "id": "ac7d8d2f",
   "metadata": {},
   "outputs": [
    {
     "data": {
      "text/plain": [
       "120"
      ]
     },
     "execution_count": 60,
     "metadata": {},
     "output_type": "execute_result"
    }
   ],
   "source": [
    "## Factorial value of a given list\n",
    "reduce(lambda a,b: a*b, range(1,6))"
   ]
  },
  {
   "cell_type": "raw",
   "id": "3780943d",
   "metadata": {},
   "source": []
  },
  {
   "cell_type": "code",
   "execution_count": 30,
   "id": "bd26aa75",
   "metadata": {},
   "outputs": [
    {
     "ename": "SyntaxError",
     "evalue": "invalid syntax (Temp/ipykernel_17808/2600058782.py, line 4)",
     "output_type": "error",
     "traceback": [
      "\u001b[1;36m  File \u001b[1;32m\"C:\\Users\\admin\\AppData\\Local\\Temp/ipykernel_17808/2600058782.py\"\u001b[1;36m, line \u001b[1;32m4\u001b[0m\n\u001b[1;33m    map(lambda x: vcount[x] += 1 if x.lower() in 'aeiou' else None, [x for x in str])\u001b[0m\n\u001b[1;37m                            ^\u001b[0m\n\u001b[1;31mSyntaxError\u001b[0m\u001b[1;31m:\u001b[0m invalid syntax\n"
     ]
    }
   ],
   "source": [
    "from collections import defaultdict\n",
    "vcount=defaultdict(int)\n",
    "str = 'I love driving car in snowy conditions'\n",
    "map(lambda x: vcount[x] += 1 if x.lower() in 'aeiou' else None, [x for x in str])\n",
    "vcount"
   ]
  },
  {
   "cell_type": "code",
   "execution_count": null,
   "id": "8cf93a0a",
   "metadata": {},
   "outputs": [],
   "source": []
  }
 ],
 "metadata": {
  "kernelspec": {
   "display_name": "Python 3 (ipykernel)",
   "language": "python",
   "name": "python3"
  },
  "language_info": {
   "codemirror_mode": {
    "name": "ipython",
    "version": 3
   },
   "file_extension": ".py",
   "mimetype": "text/x-python",
   "name": "python",
   "nbconvert_exporter": "python",
   "pygments_lexer": "ipython3",
   "version": "3.8.8"
  }
 },
 "nbformat": 4,
 "nbformat_minor": 5
}
