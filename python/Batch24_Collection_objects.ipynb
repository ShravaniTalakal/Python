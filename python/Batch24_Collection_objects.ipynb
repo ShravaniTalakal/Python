{
 "cells": [
  {
   "cell_type": "markdown",
   "id": "da38bc2c",
   "metadata": {},
   "source": [
    "### Python Collection Objects\n",
    "\n",
    "#### Strings"
   ]
  },
  {
   "cell_type": "code",
   "execution_count": 1,
   "id": "194f8ef2",
   "metadata": {},
   "outputs": [
    {
     "name": "stdout",
     "output_type": "stream",
     "text": [
      "<class 'str'>\n"
     ]
    }
   ],
   "source": [
    "str1 = \"Shanmugam\"\n",
    "print(type(str1))"
   ]
  },
  {
   "cell_type": "code",
   "execution_count": 2,
   "id": "27d5f5f1",
   "metadata": {},
   "outputs": [
    {
     "name": "stdout",
     "output_type": "stream",
     "text": [
      "9\n"
     ]
    }
   ],
   "source": [
    "## Length of a string.  The len is a built-in function, common for all collection objects\n",
    "print(len(str1))"
   ]
  },
  {
   "cell_type": "code",
   "execution_count": 3,
   "id": "f5287ffa",
   "metadata": {},
   "outputs": [
    {
     "name": "stdout",
     "output_type": "stream",
     "text": [
      "S\n"
     ]
    }
   ],
   "source": [
    "print(str1[0])"
   ]
  },
  {
   "cell_type": "code",
   "execution_count": 4,
   "id": "2233269c",
   "metadata": {},
   "outputs": [
    {
     "name": "stdout",
     "output_type": "stream",
     "text": [
      "S\n",
      "h\n",
      "a\n",
      "n\n",
      "m\n",
      "u\n",
      "g\n",
      "a\n",
      "m\n"
     ]
    }
   ],
   "source": [
    "for ltr in str1:\n",
    "    print(ltr)"
   ]
  },
  {
   "cell_type": "code",
   "execution_count": 7,
   "id": "28156788",
   "metadata": {},
   "outputs": [
    {
     "name": "stdout",
     "output_type": "stream",
     "text": [
      "Index :  0  Character:  S\n",
      "Index :  1  Character:  h\n",
      "Index :  2  Character:  a\n",
      "Index :  3  Character:  n\n",
      "Index :  4  Character:  m\n",
      "Index :  5  Character:  u\n",
      "Index :  6  Character:  g\n",
      "Index :  7  Character:  a\n",
      "Index :  8  Character:  m\n"
     ]
    }
   ],
   "source": [
    "for idx in range(len(str1)):\n",
    "    print(\"Index : \", idx, ' Character: ',str1[idx])"
   ]
  },
  {
   "cell_type": "code",
   "execution_count": 8,
   "id": "488aa7e0",
   "metadata": {},
   "outputs": [
    {
     "data": {
      "text/plain": [
       "'Shan'"
      ]
     },
     "execution_count": 8,
     "metadata": {},
     "output_type": "execute_result"
    }
   ],
   "source": [
    "## Slicing\n",
    "str1[0:4]  ## Explicitly giving the starting position"
   ]
  },
  {
   "cell_type": "code",
   "execution_count": 14,
   "id": "c1a43fb8",
   "metadata": {},
   "outputs": [
    {
     "data": {
      "text/plain": [
       "'Shanm'"
      ]
     },
     "execution_count": 14,
     "metadata": {},
     "output_type": "execute_result"
    }
   ],
   "source": [
    "str1[:5]  ## By default, it will start from the index 0"
   ]
  },
  {
   "cell_type": "code",
   "execution_count": 15,
   "id": "e9bf8f16",
   "metadata": {},
   "outputs": [
    {
     "data": {
      "text/plain": [
       "'mugam'"
      ]
     },
     "execution_count": 15,
     "metadata": {},
     "output_type": "execute_result"
    }
   ],
   "source": [
    "str1[4:]  ## By default, it will print from 4th index position to end of the string"
   ]
  },
  {
   "cell_type": "code",
   "execution_count": 17,
   "id": "d57d8a04",
   "metadata": {},
   "outputs": [
    {
     "data": {
      "text/plain": [
       "'mu'"
      ]
     },
     "execution_count": 17,
     "metadata": {},
     "output_type": "execute_result"
    }
   ],
   "source": [
    "str1[4:6]  ## Subsetting the string from 4th position till 5th index position"
   ]
  },
  {
   "cell_type": "code",
   "execution_count": 13,
   "id": "14d53808",
   "metadata": {},
   "outputs": [
    {
     "name": "stdout",
     "output_type": "stream",
     "text": [
      "Shanmugam\n"
     ]
    },
    {
     "data": {
      "text/plain": [
       "'Sng'"
      ]
     },
     "execution_count": 13,
     "metadata": {},
     "output_type": "execute_result"
    }
   ],
   "source": [
    "print(str1)\n",
    "str1[0:len(str1):3]"
   ]
  },
  {
   "cell_type": "code",
   "execution_count": 18,
   "id": "f7cf560f",
   "metadata": {},
   "outputs": [
    {
     "data": {
      "text/plain": [
       "'magumnahS'"
      ]
     },
     "execution_count": 18,
     "metadata": {},
     "output_type": "execute_result"
    }
   ],
   "source": [
    "## Reversing the string\n",
    "str1[::-1]"
   ]
  },
  {
   "cell_type": "code",
   "execution_count": 19,
   "id": "6744e594",
   "metadata": {},
   "outputs": [
    {
     "data": {
      "text/plain": [
       "'gumnahS'"
      ]
     },
     "execution_count": 19,
     "metadata": {},
     "output_type": "execute_result"
    }
   ],
   "source": [
    "## Reversing the string\n",
    "str1[6::-1]"
   ]
  },
  {
   "cell_type": "code",
   "execution_count": 22,
   "id": "48c7a55f",
   "metadata": {},
   "outputs": [
    {
     "data": {
      "text/plain": [
       "True"
      ]
     },
     "execution_count": 22,
     "metadata": {},
     "output_type": "execute_result"
    }
   ],
   "source": [
    "str1.isalpha()"
   ]
  },
  {
   "cell_type": "code",
   "execution_count": 23,
   "id": "3566b142",
   "metadata": {},
   "outputs": [
    {
     "data": {
      "text/plain": [
       "False"
      ]
     },
     "execution_count": 23,
     "metadata": {},
     "output_type": "execute_result"
    }
   ],
   "source": [
    "str2 = 'Shan2'\n",
    "str2.isalpha()"
   ]
  },
  {
   "cell_type": "markdown",
   "id": "a93717a0",
   "metadata": {},
   "source": [
    "#### String Methods"
   ]
  },
  {
   "cell_type": "code",
   "execution_count": 24,
   "id": "db3763b1",
   "metadata": {},
   "outputs": [
    {
     "name": "stdout",
     "output_type": "stream",
     "text": [
      "Shanmugam\n"
     ]
    }
   ],
   "source": [
    "print(str1)"
   ]
  },
  {
   "cell_type": "code",
   "execution_count": 26,
   "id": "52cdceaf",
   "metadata": {},
   "outputs": [
    {
     "name": "stdout",
     "output_type": "stream",
     "text": [
      "SHANMUGAM\n"
     ]
    }
   ],
   "source": [
    "str2 = str1.upper()  ## To convert string into upper case\n",
    "print(str2)"
   ]
  },
  {
   "cell_type": "code",
   "execution_count": 29,
   "id": "6d3d080d",
   "metadata": {},
   "outputs": [
    {
     "name": "stdout",
     "output_type": "stream",
     "text": [
      "shanmugam\n"
     ]
    }
   ],
   "source": [
    "print(str1.lower()) ## To convert string into lower case\n"
   ]
  },
  {
   "cell_type": "code",
   "execution_count": 27,
   "id": "08aab46b",
   "metadata": {},
   "outputs": [
    {
     "name": "stdout",
     "output_type": "stream",
     "text": [
      "Shanmugam\n"
     ]
    }
   ],
   "source": [
    "\n",
    "print(str2.title())  ## Converting string into a title case"
   ]
  },
  {
   "cell_type": "code",
   "execution_count": 28,
   "id": "704c4e8a",
   "metadata": {},
   "outputs": [
    {
     "name": "stdout",
     "output_type": "stream",
     "text": [
      "I Love Python\n"
     ]
    }
   ],
   "source": [
    "str3 = \"I LOVE PYTHON\"\n",
    "print(str3.title()) ## Converting string into a title case"
   ]
  },
  {
   "cell_type": "code",
   "execution_count": 30,
   "id": "5022f4a7",
   "metadata": {},
   "outputs": [
    {
     "data": {
      "text/plain": [
       "'I LOVE BIG DATA'"
      ]
     },
     "execution_count": 30,
     "metadata": {},
     "output_type": "execute_result"
    }
   ],
   "source": [
    "str3.replace(\"PYTHON\",\"BIG DATA\")"
   ]
  },
  {
   "cell_type": "code",
   "execution_count": 31,
   "id": "61c0fede",
   "metadata": {},
   "outputs": [
    {
     "data": {
      "text/plain": [
       "'I LoVE PYTHoN'"
      ]
     },
     "execution_count": 31,
     "metadata": {},
     "output_type": "execute_result"
    }
   ],
   "source": [
    "str3.replace(\"O\",'o')"
   ]
  },
  {
   "cell_type": "code",
   "execution_count": 38,
   "id": "cf4058c5",
   "metadata": {},
   "outputs": [
    {
     "data": {
      "text/plain": [
       "('21', 'Jan', '2022', '10', 'hrs')"
      ]
     },
     "execution_count": 38,
     "metadata": {},
     "output_type": "execute_result"
    }
   ],
   "source": [
    "date = '21','Jan','2022','10','hrs'\n",
    "date  ## I want to print the date 21-Jan-2022"
   ]
  },
  {
   "cell_type": "code",
   "execution_count": 39,
   "id": "3bf0fea0",
   "metadata": {},
   "outputs": [
    {
     "data": {
      "text/plain": [
       "'21-Jan-2022-10-hrs'"
      ]
     },
     "execution_count": 39,
     "metadata": {},
     "output_type": "execute_result"
    }
   ],
   "source": [
    "## Join method will help to join the words with given string\n",
    "'-'.join(date)"
   ]
  },
  {
   "cell_type": "code",
   "execution_count": 41,
   "id": "c86ac2e9",
   "metadata": {},
   "outputs": [
    {
     "data": {
      "text/plain": [
       "'Anand marries Anu'"
      ]
     },
     "execution_count": 41,
     "metadata": {},
     "output_type": "execute_result"
    }
   ],
   "source": [
    "' marries '.join(('Anand','Anu'))"
   ]
  },
  {
   "cell_type": "code",
   "execution_count": 42,
   "id": "d2450a3b",
   "metadata": {},
   "outputs": [
    {
     "name": "stdout",
     "output_type": "stream",
     "text": [
      "\n",
      "  \t  45 \t \n"
     ]
    }
   ],
   "source": [
    "str4 = \"\\n  \\t  45 \\t \"\n",
    "print(str4)"
   ]
  },
  {
   "cell_type": "code",
   "execution_count": 43,
   "id": "154b40f2",
   "metadata": {},
   "outputs": [
    {
     "data": {
      "text/plain": [
       "'45'"
      ]
     },
     "execution_count": 43,
     "metadata": {},
     "output_type": "execute_result"
    }
   ],
   "source": [
    "str4.strip()  ## Strip method by default will remove all leading and trailing whitespace characters and print the string"
   ]
  },
  {
   "cell_type": "code",
   "execution_count": 45,
   "id": "505fb37a",
   "metadata": {},
   "outputs": [
    {
     "name": "stdout",
     "output_type": "stream",
     "text": [
      "Shanmugam~~~~Thiagarajan\n"
     ]
    }
   ],
   "source": [
    "str4 = \"~~~Shanmugam~~~~Thiagarajan~~~~~~\"\n",
    "print(str4.strip('~'))  ## Strip method will also accept a parameter of any character to be removed from the given string."
   ]
  },
  {
   "cell_type": "code",
   "execution_count": 50,
   "id": "e09c3257",
   "metadata": {},
   "outputs": [
    {
     "data": {
      "text/plain": [
       "'Shanmugam Thiagarajan'"
      ]
     },
     "execution_count": 50,
     "metadata": {},
     "output_type": "execute_result"
    }
   ],
   "source": [
    "str4.strip('~').replace('~','').replace(\"T\",\" T\")  ## Chaining of methods."
   ]
  },
  {
   "cell_type": "code",
   "execution_count": 54,
   "id": "78b766d3",
   "metadata": {},
   "outputs": [
    {
     "data": {
      "text/plain": [
       "True"
      ]
     },
     "execution_count": 54,
     "metadata": {},
     "output_type": "execute_result"
    }
   ],
   "source": [
    "str5 = '12345'\n",
    "str5.isdigit()  # To check whether the given string has only numerical characters."
   ]
  },
  {
   "cell_type": "code",
   "execution_count": 56,
   "id": "a7d83cb8",
   "metadata": {},
   "outputs": [
    {
     "name": "stdout",
     "output_type": "stream",
     "text": [
      "Shanmugam\n"
     ]
    },
    {
     "data": {
      "text/plain": [
       "True"
      ]
     },
     "execution_count": 56,
     "metadata": {},
     "output_type": "execute_result"
    }
   ],
   "source": [
    "print(str1)\n",
    "str1.endswith('gam')"
   ]
  },
  {
   "cell_type": "code",
   "execution_count": 58,
   "id": "b0ef0d3a",
   "metadata": {},
   "outputs": [
    {
     "data": {
      "text/plain": [
       "True"
      ]
     },
     "execution_count": 58,
     "metadata": {},
     "output_type": "execute_result"
    }
   ],
   "source": [
    "str1.startswith('Sh')"
   ]
  },
  {
   "cell_type": "code",
   "execution_count": 61,
   "id": "7b22d171",
   "metadata": {},
   "outputs": [
    {
     "data": {
      "text/plain": [
       "b'Shanmugam'"
      ]
     },
     "execution_count": 61,
     "metadata": {},
     "output_type": "execute_result"
    }
   ],
   "source": [
    "str1.encode('big5')"
   ]
  },
  {
   "cell_type": "code",
   "execution_count": 62,
   "id": "db62ea7d",
   "metadata": {},
   "outputs": [],
   "source": [
    "str1 = \"Shanmugam Thiagarajan\"\n",
    "firstname, lastname = str1.split()"
   ]
  },
  {
   "cell_type": "code",
   "execution_count": 64,
   "id": "bac6e6a0",
   "metadata": {},
   "outputs": [
    {
     "name": "stdout",
     "output_type": "stream",
     "text": [
      "Shanmugam\n",
      "Thiagarajan\n"
     ]
    }
   ],
   "source": [
    "print(firstname)\n",
    "print(lastname)"
   ]
  },
  {
   "cell_type": "code",
   "execution_count": 65,
   "id": "50088fa8",
   "metadata": {},
   "outputs": [
    {
     "data": {
      "text/plain": [
       "['Shanmugam', 'Thiagarajan']"
      ]
     },
     "execution_count": 65,
     "metadata": {},
     "output_type": "execute_result"
    }
   ],
   "source": [
    "str1.split()"
   ]
  },
  {
   "cell_type": "code",
   "execution_count": 69,
   "id": "e5762263",
   "metadata": {},
   "outputs": [
    {
     "name": "stdout",
     "output_type": "stream",
     "text": [
      "Number of words in the given sentence is 7\n"
     ]
    }
   ],
   "source": [
    "sen = \"I love using cars for long driving\"\n",
    "print(\"Number of words in the given sentence is {}\".format(len(sen.split())))"
   ]
  },
  {
   "cell_type": "code",
   "execution_count": 70,
   "id": "41e21b61",
   "metadata": {},
   "outputs": [
    {
     "data": {
      "text/plain": [
       "['I', 'love', 'using', 'cars', 'for', 'long', 'driving']"
      ]
     },
     "execution_count": 70,
     "metadata": {},
     "output_type": "execute_result"
    }
   ],
   "source": [
    "sen.split()"
   ]
  },
  {
   "cell_type": "code",
   "execution_count": 77,
   "id": "7297f5e0",
   "metadata": {},
   "outputs": [
    {
     "name": "stdout",
     "output_type": "stream",
     "text": [
      "The Price of the product Apple is 100.3 and the total price is 1002.54\n"
     ]
    }
   ],
   "source": [
    "prdt = 'Apple'\n",
    "qty = 10\n",
    "price = 100.2545\n",
    "print(\"The Price of the product {0:} is {1:.1f} and the total price is {2:.2f}\".format(prdt, price,qty * price))"
   ]
  },
  {
   "cell_type": "code",
   "execution_count": 78,
   "id": "8bbbc8ce",
   "metadata": {},
   "outputs": [
    {
     "name": "stdout",
     "output_type": "stream",
     "text": [
      "The Price of the product Apple is 100.2545 and the total price is  1002.54\n"
     ]
    }
   ],
   "source": [
    "print(\"The Price of the product\",prdt,\"is\",price,\"and the total price is \",round(qty * price,2))"
   ]
  },
  {
   "cell_type": "markdown",
   "id": "2c4dc58e",
   "metadata": {},
   "source": [
    "## Lists\n",
    "\n",
    "Lists are hetrogeneous collection of elements.  A list also contain another list."
   ]
  },
  {
   "cell_type": "code",
   "execution_count": 79,
   "id": "78094e0b",
   "metadata": {},
   "outputs": [
    {
     "data": {
      "text/plain": [
       "list"
      ]
     },
     "execution_count": 79,
     "metadata": {},
     "output_type": "execute_result"
    }
   ],
   "source": [
    "l1 = [10,20,30,40,50]  ## It is a homogeneous collection of elements\n",
    "type(l1)"
   ]
  },
  {
   "cell_type": "code",
   "execution_count": 80,
   "id": "02ea26d8",
   "metadata": {},
   "outputs": [
    {
     "data": {
      "text/plain": [
       "5"
      ]
     },
     "execution_count": 80,
     "metadata": {},
     "output_type": "execute_result"
    }
   ],
   "source": [
    "len(l1)"
   ]
  },
  {
   "cell_type": "code",
   "execution_count": 81,
   "id": "052790ed",
   "metadata": {},
   "outputs": [
    {
     "data": {
      "text/plain": [
       "50"
      ]
     },
     "execution_count": 81,
     "metadata": {},
     "output_type": "execute_result"
    }
   ],
   "source": [
    "max(l1)"
   ]
  },
  {
   "cell_type": "code",
   "execution_count": 82,
   "id": "e46b3fe9",
   "metadata": {},
   "outputs": [
    {
     "data": {
      "text/plain": [
       "10"
      ]
     },
     "execution_count": 82,
     "metadata": {},
     "output_type": "execute_result"
    }
   ],
   "source": [
    "min(l1)"
   ]
  },
  {
   "cell_type": "code",
   "execution_count": 120,
   "id": "d97d0b2c",
   "metadata": {},
   "outputs": [
    {
     "name": "stdout",
     "output_type": "stream",
     "text": [
      "[10, 20, 30, 40, 50, 'Shan', 'Anand']\n"
     ]
    }
   ],
   "source": [
    "l2 = [10,20,30,40,50,'Shan','Anand']\n",
    "print(l2)"
   ]
  },
  {
   "cell_type": "code",
   "execution_count": 84,
   "id": "78d8a6f2",
   "metadata": {},
   "outputs": [
    {
     "data": {
      "text/plain": [
       "7"
      ]
     },
     "execution_count": 84,
     "metadata": {},
     "output_type": "execute_result"
    }
   ],
   "source": [
    "len(l2)"
   ]
  },
  {
   "cell_type": "code",
   "execution_count": 85,
   "id": "feca9c1e",
   "metadata": {},
   "outputs": [
    {
     "data": {
      "text/plain": [
       "'Shan'"
      ]
     },
     "execution_count": 85,
     "metadata": {},
     "output_type": "execute_result"
    }
   ],
   "source": [
    "l2[5]"
   ]
  },
  {
   "cell_type": "code",
   "execution_count": 86,
   "id": "039d9d39",
   "metadata": {},
   "outputs": [
    {
     "data": {
      "text/plain": [
       "str"
      ]
     },
     "execution_count": 86,
     "metadata": {},
     "output_type": "execute_result"
    }
   ],
   "source": [
    "type(l2[5])"
   ]
  },
  {
   "cell_type": "code",
   "execution_count": 87,
   "id": "5884a662",
   "metadata": {},
   "outputs": [
    {
     "data": {
      "text/plain": [
       "'SHAN'"
      ]
     },
     "execution_count": 87,
     "metadata": {},
     "output_type": "execute_result"
    }
   ],
   "source": [
    "l2[5].upper()"
   ]
  },
  {
   "cell_type": "code",
   "execution_count": 92,
   "id": "7fbf519c",
   "metadata": {},
   "outputs": [
    {
     "data": {
      "text/plain": [
       "'Anan'"
      ]
     },
     "execution_count": 92,
     "metadata": {},
     "output_type": "execute_result"
    }
   ],
   "source": [
    "l2[5].replace('Sh','An')"
   ]
  },
  {
   "cell_type": "code",
   "execution_count": 121,
   "id": "8ed01c27",
   "metadata": {},
   "outputs": [
    {
     "name": "stdout",
     "output_type": "stream",
     "text": [
      "[10, 20, 30, 40, 50, 'Shan', 'Anand']\n"
     ]
    }
   ],
   "source": [
    "print(l2)"
   ]
  },
  {
   "cell_type": "code",
   "execution_count": 93,
   "id": "1cadec9e",
   "metadata": {},
   "outputs": [
    {
     "name": "stdout",
     "output_type": "stream",
     "text": [
      "10\n",
      "20\n",
      "30\n",
      "40\n",
      "50\n",
      "Shan\n",
      "Anand\n"
     ]
    }
   ],
   "source": [
    "for ele in l2:\n",
    "    print(ele)"
   ]
  },
  {
   "cell_type": "code",
   "execution_count": 94,
   "id": "5e31d499",
   "metadata": {},
   "outputs": [
    {
     "name": "stdout",
     "output_type": "stream",
     "text": [
      "10\n",
      "20\n",
      "30\n",
      "40\n",
      "50\n",
      "Shan\n",
      "Anand\n"
     ]
    }
   ],
   "source": [
    "for idx in range(len(l2)):\n",
    "    print(l2[idx])"
   ]
  },
  {
   "cell_type": "code",
   "execution_count": 95,
   "id": "65d38fe5",
   "metadata": {},
   "outputs": [
    {
     "name": "stdout",
     "output_type": "stream",
     "text": [
      "[10, 20, 30, 40, 50]\n",
      "[10, 20, 30, 40, 50, 'Shan', 'Anand']\n",
      "[10, 20, 30, 40, 50, 10, 20, 30, 40, 50, 'Shan', 'Anand']\n"
     ]
    }
   ],
   "source": [
    "## Appending two lists\n",
    "print(l1)\n",
    "print(l2)\n",
    "l3 = l1 + l2\n",
    "print(l3)"
   ]
  },
  {
   "cell_type": "code",
   "execution_count": 96,
   "id": "23b68181",
   "metadata": {},
   "outputs": [
    {
     "name": "stdout",
     "output_type": "stream",
     "text": [
      "[10, 20, 30, 40, 50, 60]\n"
     ]
    }
   ],
   "source": [
    "l1.append(60)  ## Using append() we can add an element to an existing list\n",
    "print(l1)"
   ]
  },
  {
   "cell_type": "code",
   "execution_count": 98,
   "id": "4ab71a4b",
   "metadata": {},
   "outputs": [
    {
     "name": "stdout",
     "output_type": "stream",
     "text": [
      "[10, 20, 30, 40, 50, 60, 60, 70]\n"
     ]
    }
   ],
   "source": [
    "## Suppose I  want to add 2 elements together?\n",
    "l1.extend([60,70])  ## Using extend method, we can multiple elements to a list.\n",
    "print(l1)"
   ]
  },
  {
   "cell_type": "code",
   "execution_count": 104,
   "id": "cc46295a",
   "metadata": {},
   "outputs": [
    {
     "name": "stdout",
     "output_type": "stream",
     "text": [
      "None\n",
      "None\n"
     ]
    }
   ],
   "source": [
    "print(l1.sort())\n",
    "## Sorting the elements in a list\n",
    "sorted_l1 = l1.sort()\n",
    "print(sorted_l1)"
   ]
  },
  {
   "cell_type": "code",
   "execution_count": 106,
   "id": "3ff00762",
   "metadata": {},
   "outputs": [
    {
     "data": {
      "text/plain": [
       "[10, 20, 30, 40, 50, 60, 60, 70]"
      ]
     },
     "execution_count": 106,
     "metadata": {},
     "output_type": "execute_result"
    }
   ],
   "source": [
    "l1"
   ]
  },
  {
   "cell_type": "code",
   "execution_count": 111,
   "id": "da125993",
   "metadata": {},
   "outputs": [],
   "source": [
    "l3 = l1.sort()  ## Sort method will sort the elements in a list.  The optional paramenter is reverse and it is default to False.\n",
    "## You can use the reverse = True for reverse sorting."
   ]
  },
  {
   "cell_type": "code",
   "execution_count": 109,
   "id": "84650723",
   "metadata": {},
   "outputs": [
    {
     "name": "stdout",
     "output_type": "stream",
     "text": [
      "None\n"
     ]
    }
   ],
   "source": [
    "print(l3)"
   ]
  },
  {
   "cell_type": "code",
   "execution_count": 110,
   "id": "935d6be5",
   "metadata": {},
   "outputs": [
    {
     "data": {
      "text/plain": [
       "[10, 20, 30, 40, 50, 60, 60, 70]"
      ]
     },
     "execution_count": 110,
     "metadata": {},
     "output_type": "execute_result"
    }
   ],
   "source": [
    "sorted(l1)  ## Will return the sorted list"
   ]
  },
  {
   "cell_type": "code",
   "execution_count": 113,
   "id": "57429a40",
   "metadata": {},
   "outputs": [
    {
     "name": "stdout",
     "output_type": "stream",
     "text": [
      "None\n"
     ]
    }
   ],
   "source": [
    "print(l1.reverse())  ## To reverse a list"
   ]
  },
  {
   "cell_type": "code",
   "execution_count": 114,
   "id": "3bf9dd46",
   "metadata": {},
   "outputs": [
    {
     "name": "stdout",
     "output_type": "stream",
     "text": [
      "[10, 20, 30, 40, 50, 60, 60, 70]\n"
     ]
    }
   ],
   "source": [
    "print(l1)"
   ]
  },
  {
   "cell_type": "code",
   "execution_count": 115,
   "id": "36bb6fa2",
   "metadata": {},
   "outputs": [
    {
     "data": {
      "text/plain": [
       "1"
      ]
     },
     "execution_count": 115,
     "metadata": {},
     "output_type": "execute_result"
    }
   ],
   "source": [
    "l1.index(20)"
   ]
  },
  {
   "cell_type": "code",
   "execution_count": 116,
   "id": "10796ed1",
   "metadata": {},
   "outputs": [
    {
     "name": "stdout",
     "output_type": "stream",
     "text": [
      "[10, 20, 30, 35, 40, 50, 60, 60, 70]\n"
     ]
    }
   ],
   "source": [
    "## Insert method is used to insert an element between two elements in a list.  Usage is list.insert(Index of an element, element to be inserted)\n",
    "l1.insert(l1.index(40),35)  ## Index method in a list will help to find the index of an element.\n",
    "print(l1)"
   ]
  },
  {
   "cell_type": "code",
   "execution_count": 122,
   "id": "71ee7b81",
   "metadata": {},
   "outputs": [
    {
     "name": "stdout",
     "output_type": "stream",
     "text": [
      "Before Clear: [10, 20, 30, 40, 50, 'Shan', 'Anand']\n",
      "After Clear: []\n"
     ]
    }
   ],
   "source": [
    "print(\"Before Clear:\",l2)\n",
    "l2.clear()\n",
    "print(\"After Clear:\",l2)"
   ]
  },
  {
   "cell_type": "code",
   "execution_count": 126,
   "id": "e8bd4e52",
   "metadata": {},
   "outputs": [
    {
     "name": "stdout",
     "output_type": "stream",
     "text": [
      "[3, 4, 5]\n"
     ]
    }
   ],
   "source": [
    "l5 = [5, 4, 3]\n",
    "l5.sort()  ## The sort method will sort and overwrite the same list in the sorted order.\n",
    "print(l5)"
   ]
  },
  {
   "cell_type": "code",
   "execution_count": 127,
   "id": "7dce6e59",
   "metadata": {},
   "outputs": [
    {
     "name": "stdout",
     "output_type": "stream",
     "text": [
      "[3, 4, 5]\n",
      "[5, 4, 3]\n"
     ]
    }
   ],
   "source": [
    "l5 = [5, 4, 3]\n",
    "print(sorted(l5))  ## Whereas the sorted(), will not overwrite the list\n",
    "print(l5)"
   ]
  },
  {
   "cell_type": "code",
   "execution_count": 128,
   "id": "12f1428b",
   "metadata": {},
   "outputs": [],
   "source": [
    "l5_sorted = sorted(l5)"
   ]
  },
  {
   "cell_type": "code",
   "execution_count": 129,
   "id": "b78c0916",
   "metadata": {},
   "outputs": [
    {
     "name": "stdout",
     "output_type": "stream",
     "text": [
      "[3, 4, 5]\n"
     ]
    }
   ],
   "source": [
    "print(l5_sorted)"
   ]
  },
  {
   "cell_type": "code",
   "execution_count": 130,
   "id": "78ce5a4d",
   "metadata": {},
   "outputs": [
    {
     "name": "stdout",
     "output_type": "stream",
     "text": [
      "[3, 4]\n"
     ]
    }
   ],
   "source": [
    "## pop()\n",
    "l5_sorted.pop() ## pop() will, by default, remove the last element in the list.\n",
    "print(l5_sorted)"
   ]
  },
  {
   "cell_type": "code",
   "execution_count": 132,
   "id": "64e48cfb",
   "metadata": {},
   "outputs": [
    {
     "name": "stdout",
     "output_type": "stream",
     "text": [
      "[4]\n"
     ]
    }
   ],
   "source": [
    "l5_sorted.pop(l5_sorted.index(3))  ## To remove a particular element using pop, we have to provide the index of the element.\n",
    "print(l5_sorted)"
   ]
  },
  {
   "cell_type": "code",
   "execution_count": 133,
   "id": "e615c93f",
   "metadata": {},
   "outputs": [
    {
     "name": "stdout",
     "output_type": "stream",
     "text": [
      "[10, 20, 30, 35, 40, 50, 60, 60, 70]\n"
     ]
    }
   ],
   "source": [
    "print(l1)"
   ]
  },
  {
   "cell_type": "code",
   "execution_count": 134,
   "id": "1bd0be9d",
   "metadata": {},
   "outputs": [
    {
     "name": "stdout",
     "output_type": "stream",
     "text": [
      "[10, 20, 30, 35, 40, 50, 60, 70]\n"
     ]
    }
   ],
   "source": [
    "l1.remove(60)  ## remove() will remove the given element.\n",
    "print(l1)"
   ]
  },
  {
   "cell_type": "code",
   "execution_count": 135,
   "id": "36d4d47a",
   "metadata": {},
   "outputs": [
    {
     "data": {
      "text/plain": [
       "[10, 20, 30]"
      ]
     },
     "execution_count": 135,
     "metadata": {},
     "output_type": "execute_result"
    }
   ],
   "source": [
    "## Slicing and indexing of a list\n",
    "\n",
    "l1[:3]  ## Return the first 3 elements"
   ]
  },
  {
   "cell_type": "code",
   "execution_count": 136,
   "id": "802cd32f",
   "metadata": {},
   "outputs": [
    {
     "data": {
      "text/plain": [
       "[35, 40, 50, 60, 70]"
      ]
     },
     "execution_count": 136,
     "metadata": {},
     "output_type": "execute_result"
    }
   ],
   "source": [
    "l1[3:]  ## will return from 4th element to end of the list"
   ]
  },
  {
   "cell_type": "code",
   "execution_count": 137,
   "id": "b76d816d",
   "metadata": {},
   "outputs": [
    {
     "data": {
      "text/plain": [
       "[70, 60, 50, 40, 35, 30, 20, 10]"
      ]
     },
     "execution_count": 137,
     "metadata": {},
     "output_type": "execute_result"
    }
   ],
   "source": [
    "l1[::-1]  ## Reversing the elements in the list"
   ]
  },
  {
   "cell_type": "code",
   "execution_count": 138,
   "id": "975c95df",
   "metadata": {},
   "outputs": [
    {
     "data": {
      "text/plain": [
       "[10, 20, 30, 35, 40, 50, 60, 70, 50, 60]"
      ]
     },
     "execution_count": 138,
     "metadata": {},
     "output_type": "execute_result"
    }
   ],
   "source": [
    "l1.extend([50,60])\n",
    "l1"
   ]
  },
  {
   "cell_type": "code",
   "execution_count": 140,
   "id": "0d85fbd6",
   "metadata": {},
   "outputs": [
    {
     "data": {
      "text/plain": [
       "2"
      ]
     },
     "execution_count": 140,
     "metadata": {},
     "output_type": "execute_result"
    }
   ],
   "source": [
    "l1.count(50)"
   ]
  },
  {
   "cell_type": "code",
   "execution_count": 148,
   "id": "32248814",
   "metadata": {},
   "outputs": [
    {
     "name": "stdout",
     "output_type": "stream",
     "text": [
      "[50, 60, 50, 60]\n",
      "[10, 20, 30, 35, 40, 50, 60, 70, 50, 60]\n"
     ]
    }
   ],
   "source": [
    "## Getting the duplicate elements from the given list\n",
    "l1 = [10, 20, 30, 35, 40, 50, 60, 70, 50, 60]\n",
    "dup_elements=[]  ## Declaring an empty list\n",
    "for ele in l1:\n",
    "    if l1.count(ele) > 1:\n",
    "        dup_elements.append(ele)\n",
    "\n",
    "print(dup_elements)\n",
    "print(l1)\n"
   ]
  },
  {
   "cell_type": "code",
   "execution_count": 153,
   "id": "19f6de2b",
   "metadata": {},
   "outputs": [
    {
     "name": "stdout",
     "output_type": "stream",
     "text": [
      "10 0\n",
      "20 1\n",
      "30 2\n",
      "35 3\n",
      "40 4\n",
      "50 5\n",
      "[10, 20, 30, 35, 40, 60, 70, 50, 60, 60, 50]\n",
      "70 6\n",
      "50 7\n",
      "[10, 20, 30, 35, 40, 60, 70, 60, 60, 50]\n",
      "60 5\n",
      "[10, 20, 30, 35, 40, 70, 60, 60, 50]\n",
      "[10, 20, 30, 35, 40, 70, 60, 60, 50]\n"
     ]
    }
   ],
   "source": [
    "## Remove the duplicate elements from the given list\n",
    "l1 = [10, 20, 30, 35, 40, 50, 60, 70, 50, 60, 60,50]\n",
    "l1_copy = l1.copy()\n",
    "for ele in l1_copy:\n",
    "    print(ele, l1.index(ele))\n",
    "    if l1.count(ele) > 1:\n",
    "        l1.remove(ele)\n",
    "        print(l1)\n",
    "print(l1)        "
   ]
  },
  {
   "cell_type": "code",
   "execution_count": 154,
   "id": "c463be37",
   "metadata": {},
   "outputs": [
    {
     "data": {
      "text/plain": [
       "[10, 20, 30, 35, 40, 70, 60, 60, 50]"
      ]
     },
     "execution_count": 154,
     "metadata": {},
     "output_type": "execute_result"
    }
   ],
   "source": [
    "l1"
   ]
  },
  {
   "cell_type": "code",
   "execution_count": 155,
   "id": "d4b6f3af",
   "metadata": {},
   "outputs": [
    {
     "data": {
      "text/plain": [
       "False"
      ]
     },
     "execution_count": 155,
     "metadata": {},
     "output_type": "execute_result"
    }
   ],
   "source": [
    "25 in l1  ## To check the existence of an element in a list"
   ]
  },
  {
   "cell_type": "code",
   "execution_count": 156,
   "id": "02f6f270",
   "metadata": {},
   "outputs": [
    {
     "data": {
      "text/plain": [
       "True"
      ]
     },
     "execution_count": 156,
     "metadata": {},
     "output_type": "execute_result"
    }
   ],
   "source": [
    "35 in l1"
   ]
  },
  {
   "cell_type": "code",
   "execution_count": 157,
   "id": "0ed7b711",
   "metadata": {},
   "outputs": [
    {
     "data": {
      "text/plain": [
       "True"
      ]
     },
     "execution_count": 157,
     "metadata": {},
     "output_type": "execute_result"
    }
   ],
   "source": [
    "25 not in l1  ## To check the non-existence of an element in a list"
   ]
  },
  {
   "cell_type": "code",
   "execution_count": 158,
   "id": "4e0dd00c",
   "metadata": {},
   "outputs": [
    {
     "data": {
      "text/plain": [
       "False"
      ]
     },
     "execution_count": 158,
     "metadata": {},
     "output_type": "execute_result"
    }
   ],
   "source": [
    "35 not in l1"
   ]
  },
  {
   "cell_type": "markdown",
   "id": "d67c911a",
   "metadata": {},
   "source": [
    "### Tuples\n",
    "\n",
    "Tuples are immutable"
   ]
  },
  {
   "cell_type": "code",
   "execution_count": 159,
   "id": "76a551b5",
   "metadata": {},
   "outputs": [
    {
     "data": {
      "text/plain": [
       "tuple"
      ]
     },
     "execution_count": 159,
     "metadata": {},
     "output_type": "execute_result"
    }
   ],
   "source": [
    "t1 = (10, 20, 30)\n",
    "type(t1)"
   ]
  },
  {
   "cell_type": "code",
   "execution_count": 160,
   "id": "60a60ea1",
   "metadata": {},
   "outputs": [
    {
     "data": {
      "text/plain": [
       "tuple"
      ]
     },
     "execution_count": 160,
     "metadata": {},
     "output_type": "execute_result"
    }
   ],
   "source": [
    "t2 = 30, 40, 50\n",
    "type(t2)"
   ]
  },
  {
   "cell_type": "code",
   "execution_count": 164,
   "id": "5f7275d6",
   "metadata": {},
   "outputs": [
    {
     "data": {
      "text/plain": [
       "(10, 20, 30, [40, 50, 60])"
      ]
     },
     "execution_count": 164,
     "metadata": {},
     "output_type": "execute_result"
    }
   ],
   "source": [
    "t3 = (10, 20, 30, [40, 50, 60])\n",
    "t3"
   ]
  },
  {
   "cell_type": "code",
   "execution_count": 165,
   "id": "fdec2d22",
   "metadata": {},
   "outputs": [
    {
     "data": {
      "text/plain": [
       "tuple"
      ]
     },
     "execution_count": 165,
     "metadata": {},
     "output_type": "execute_result"
    }
   ],
   "source": [
    "type(t3)"
   ]
  },
  {
   "cell_type": "code",
   "execution_count": 166,
   "id": "c708bcc9",
   "metadata": {},
   "outputs": [
    {
     "data": {
      "text/plain": [
       "4"
      ]
     },
     "execution_count": 166,
     "metadata": {},
     "output_type": "execute_result"
    }
   ],
   "source": [
    "len(t3)"
   ]
  },
  {
   "cell_type": "code",
   "execution_count": 167,
   "id": "02711f4e",
   "metadata": {},
   "outputs": [
    {
     "data": {
      "text/plain": [
       "[40, 50, 60]"
      ]
     },
     "execution_count": 167,
     "metadata": {},
     "output_type": "execute_result"
    }
   ],
   "source": [
    "t3[-1] ## Accessing the last element in a tuple"
   ]
  },
  {
   "cell_type": "code",
   "execution_count": 168,
   "id": "126438de",
   "metadata": {},
   "outputs": [
    {
     "data": {
      "text/plain": [
       "list"
      ]
     },
     "execution_count": 168,
     "metadata": {},
     "output_type": "execute_result"
    }
   ],
   "source": [
    "type(t3[-1])"
   ]
  },
  {
   "cell_type": "code",
   "execution_count": 169,
   "id": "0b0a3d74",
   "metadata": {},
   "outputs": [],
   "source": [
    "t3[-1].append(90)"
   ]
  },
  {
   "cell_type": "code",
   "execution_count": 170,
   "id": "516d5383",
   "metadata": {},
   "outputs": [
    {
     "data": {
      "text/plain": [
       "[40, 50, 60, 90]"
      ]
     },
     "execution_count": 170,
     "metadata": {},
     "output_type": "execute_result"
    }
   ],
   "source": [
    "t3[-1]"
   ]
  },
  {
   "cell_type": "code",
   "execution_count": 171,
   "id": "78831e60",
   "metadata": {},
   "outputs": [
    {
     "data": {
      "text/plain": [
       "(10, 20, 30, [40, 50, 60, 90])"
      ]
     },
     "execution_count": 171,
     "metadata": {},
     "output_type": "execute_result"
    }
   ],
   "source": [
    "t3"
   ]
  },
  {
   "cell_type": "code",
   "execution_count": null,
   "id": "4080f6d9",
   "metadata": {},
   "outputs": [],
   "source": []
  }
 ],
 "metadata": {
  "kernelspec": {
   "display_name": "Python 3 (ipykernel)",
   "language": "python",
   "name": "python3"
  },
  "language_info": {
   "codemirror_mode": {
    "name": "ipython",
    "version": 3
   },
   "file_extension": ".py",
   "mimetype": "text/x-python",
   "name": "python",
   "nbconvert_exporter": "python",
   "pygments_lexer": "ipython3",
   "version": "3.8.8"
  }
 },
 "nbformat": 4,
 "nbformat_minor": 5
}
