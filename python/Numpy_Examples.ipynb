{
 "cells": [
  {
   "cell_type": "markdown",
   "id": "hidden-energy",
   "metadata": {},
   "source": [
    "## Python Numpy"
   ]
  },
  {
   "cell_type": "code",
   "execution_count": 1,
   "id": "democratic-register",
   "metadata": {},
   "outputs": [],
   "source": [
    "## First let us import Numpy LIbrary\n",
    "import numpy as np"
   ]
  },
  {
   "cell_type": "code",
   "execution_count": 14,
   "id": "ba5e7677",
   "metadata": {},
   "outputs": [
    {
     "name": "stdout",
     "output_type": "stream",
     "text": [
      "<class 'list'>\n",
      "<class 'numpy.ndarray'>\n",
      "[[23 42 25]\n",
      " [26 29 31]]\n",
      "2\n",
      "6\n",
      "(2, 3)\n"
     ]
    }
   ],
   "source": [
    "agelist = [23,42,25,26,29,31]\n",
    "print(type(agelist))\n",
    "agearray = np.array(agelist).reshape(2,3)  ## np.array() is used to create the numpy array\n",
    "print(type(agearray))\n",
    "print(agearray)\n",
    "print(agearray.ndim)  ## provides the dimention of the array\n",
    "print(agearray.size)  ## Provides the number of elements in the array\n",
    "print(agearray.shape)  ## Shape of the array"
   ]
  },
  {
   "cell_type": "markdown",
   "id": "425e920a",
   "metadata": {},
   "source": [
    "A random module in Numpy has many functions to create random numbers."
   ]
  },
  {
   "cell_type": "code",
   "execution_count": 15,
   "id": "vanilla-armenia",
   "metadata": {},
   "outputs": [
    {
     "name": "stdout",
     "output_type": "stream",
     "text": [
      "[35, 36, 32, 44, 38, 18, 44, 30, 42, 25]\n",
      "<class 'list'>\n",
      "[35 36 32 44 38 18 44 30 42 25]\n",
      "<class 'numpy.ndarray'>\n",
      "(10,)\n"
     ]
    }
   ],
   "source": [
    "# Declaring a list\n",
    "agelist = list(np.random.randint(18, 45, 10))\n",
    "\n",
    "print(agelist)\n",
    "print(type(agelist))\n",
    "\n",
    "## Creating array\n",
    "agearray = np.array(agelist)\n",
    "\n",
    "print(agearray)  # Printing the array\n",
    "print(type(agearray))  # Printing the type\n",
    "print(agearray.shape)"
   ]
  },
  {
   "cell_type": "code",
   "execution_count": 16,
   "id": "intelligent-fitness",
   "metadata": {},
   "outputs": [
    {
     "name": "stdout",
     "output_type": "stream",
     "text": [
      "['Python for Data Science' 'Intro to Machine Learning'\n",
      " 'Intro to Deep Learning']\n"
     ]
    },
    {
     "data": {
      "text/plain": [
       "numpy.ndarray"
      ]
     },
     "execution_count": 16,
     "metadata": {},
     "output_type": "execute_result"
    }
   ],
   "source": [
    "## String Array\n",
    "books = np.array(['Python for Data Science','Intro to Machine Learning','Intro to Deep Learning'])\n",
    "\n",
    "print(books)  ## Printing the array\n",
    "type(books)   ## Printing the Type "
   ]
  },
  {
   "cell_type": "markdown",
   "id": "listed-rachel",
   "metadata": {},
   "source": [
    "**random()** is used to create random numbers.  It will create the random numbers from [0.0, 1.0]."
   ]
  },
  {
   "cell_type": "code",
   "execution_count": 8,
   "id": "electric-hayes",
   "metadata": {},
   "outputs": [
    {
     "data": {
      "text/plain": [
       "array([[0.24827786, 0.19213742, 0.24852955, 0.2682431 ],\n",
       "       [0.37327547, 0.37546978, 0.814489  , 0.18824161],\n",
       "       [0.92744714, 0.29742177, 0.85253286, 0.31587512]])"
      ]
     },
     "execution_count": 8,
     "metadata": {},
     "output_type": "execute_result"
    }
   ],
   "source": [
    "## Creating 20 random numbers.  It will create 1-d array.\n",
    "np.random.random(size=(3,4))  ## Size is an optional parameeter and it will create the random numbers for the given size"
   ]
  },
  {
   "cell_type": "code",
   "execution_count": 19,
   "id": "6643ce09",
   "metadata": {},
   "outputs": [
    {
     "name": "stdout",
     "output_type": "stream",
     "text": [
      "[16 18 14 15 13]\n"
     ]
    }
   ],
   "source": [
    "x1 = np.random.randint(10,20,5)  ## Randint is a function to generate random integers in the given range.\n",
    "type(x1)\n",
    "print(x1)"
   ]
  },
  {
   "cell_type": "code",
   "execution_count": 20,
   "id": "0bf3cbc6",
   "metadata": {},
   "outputs": [
    {
     "data": {
      "text/plain": [
       "0.8213004662805756"
      ]
     },
     "execution_count": 20,
     "metadata": {},
     "output_type": "execute_result"
    }
   ],
   "source": [
    "np.random.random()  ## It generates only one random number between 0 and 1."
   ]
  },
  {
   "cell_type": "code",
   "execution_count": 17,
   "id": "1c70a4bb",
   "metadata": {},
   "outputs": [
    {
     "data": {
      "text/plain": [
       "array([0.09015352, 0.41969073, 0.7342097 , 0.39119742, 0.99172101,\n",
       "       0.63433028, 0.48729125, 0.10220525, 0.5400017 , 0.13573074])"
      ]
     },
     "execution_count": 17,
     "metadata": {},
     "output_type": "execute_result"
    }
   ],
   "source": [
    "## Creating 20 random numbers.  It will create 1-d array.\n",
    "np.random.random(size=(10),)"
   ]
  },
  {
   "cell_type": "code",
   "execution_count": 30,
   "id": "3f66707e",
   "metadata": {},
   "outputs": [
    {
     "name": "stdout",
     "output_type": "stream",
     "text": [
      "[[27 51 50 74 25]\n",
      " [89 47 69 66 67]\n",
      " [20 97 31 77 78]\n",
      " [33 29 33 44 92]\n",
      " [47 56 85 53 79]]\n",
      "(5, 5)\n",
      "25\n",
      "2\n"
     ]
    }
   ],
   "source": [
    "## To generate random integer numbers in the given range and the number of elements.\n",
    "x1 = np.random.randint(20,100,25).reshape(5,5)\n",
    "print(x1)\n",
    "print(x1.shape)\n",
    "print(x1.size)\n",
    "print(x1.ndim)"
   ]
  },
  {
   "cell_type": "code",
   "execution_count": 31,
   "id": "304eb07d",
   "metadata": {},
   "outputs": [
    {
     "name": "stdout",
     "output_type": "stream",
     "text": [
      "[[[98 61 53]\n",
      "  [85 41 62]\n",
      "  [56 30 94]]\n",
      "\n",
      " [[25 55 53]\n",
      "  [70 90 22]\n",
      "  [74 30 30]]\n",
      "\n",
      " [[98 66 99]\n",
      "  [79 28 86]\n",
      "  [93 88 96]]]\n",
      "(3, 3, 3)\n",
      "27\n",
      "3\n"
     ]
    }
   ],
   "source": [
    "## To generate random integer numbers in the given range and the number of elements.\n",
    "x1 = np.random.randint(20,100,27).reshape(3,3,3)\n",
    "print(x1)\n",
    "print(x1.shape)\n",
    "print(x1.size)\n",
    "print(x1.ndim)"
   ]
  },
  {
   "cell_type": "code",
   "execution_count": 34,
   "id": "f92c3e37",
   "metadata": {},
   "outputs": [
    {
     "data": {
      "text/plain": [
       "array([-14, -12, -14, -14, -12, -13, -13, -16, -11, -11])"
      ]
     },
     "execution_count": 34,
     "metadata": {},
     "output_type": "execute_result"
    }
   ],
   "source": [
    "np.random.randint(-20,-10,10)  ## generating negative integers"
   ]
  },
  {
   "cell_type": "markdown",
   "id": "efficient-christianity",
   "metadata": {},
   "source": [
    "**rand()** is used to create random numbers between 0 and 1 in a given shape."
   ]
  },
  {
   "cell_type": "code",
   "execution_count": 21,
   "id": "67367d29",
   "metadata": {},
   "outputs": [
    {
     "data": {
      "text/plain": [
       "0.8441986804283775"
      ]
     },
     "execution_count": 21,
     "metadata": {},
     "output_type": "execute_result"
    }
   ],
   "source": [
    "np.random.rand()"
   ]
  },
  {
   "cell_type": "code",
   "execution_count": 6,
   "id": "dying-endorsement",
   "metadata": {},
   "outputs": [
    {
     "name": "stdout",
     "output_type": "stream",
     "text": [
      "[[0.77850307 0.76480494 0.54416206]\n",
      " [0.29286049 0.69049545 0.04370611]\n",
      " [0.06614182 0.20875652 0.77488169]]\n"
     ]
    },
    {
     "data": {
      "text/plain": [
       "0.23260120145969643"
      ]
     },
     "execution_count": 6,
     "metadata": {},
     "output_type": "execute_result"
    }
   ],
   "source": [
    "## Creating array using rand()\n",
    "print(np.random.rand(3,3))\n",
    "\n",
    "## To generate a single random number\n",
    "np.random.rand()"
   ]
  },
  {
   "cell_type": "markdown",
   "id": "soviet-jungle",
   "metadata": {},
   "source": [
    "**randint()** is used to create random integer numbers from the given range."
   ]
  },
  {
   "cell_type": "code",
   "execution_count": 8,
   "id": "american-allah",
   "metadata": {},
   "outputs": [
    {
     "name": "stdout",
     "output_type": "stream",
     "text": [
      "34\n"
     ]
    },
    {
     "data": {
      "text/plain": [
       "array([52,  8, 63, 99, 64, 18, 44, 95, 50, 79,  6, 26, 81, 84, 67, 90, 72,\n",
       "       66, 33, 56, 81, 74, 27, 90, 82])"
      ]
     },
     "execution_count": 8,
     "metadata": {},
     "output_type": "execute_result"
    }
   ],
   "source": [
    "## Generating single random number\n",
    "print(np.random.randint(10,100))\n",
    "\n",
    "## Creating ramdom integers of size 25\n",
    "np.random.randint(1,100,25)"
   ]
  },
  {
   "cell_type": "code",
   "execution_count": 12,
   "id": "9946080c",
   "metadata": {},
   "outputs": [
    {
     "data": {
      "text/plain": [
       "array([11, 34, 77, 50, 30, 47, 99, 92, 45, 72])"
      ]
     },
     "execution_count": 12,
     "metadata": {},
     "output_type": "execute_result"
    }
   ],
   "source": [
    "np.random.randint(10,100,10)"
   ]
  },
  {
   "cell_type": "code",
   "execution_count": 36,
   "id": "2a2683b8",
   "metadata": {},
   "outputs": [
    {
     "data": {
      "text/plain": [
       "[0, 1, 2, 3, 4, 5, 6, 7, 8, 9]"
      ]
     },
     "execution_count": 36,
     "metadata": {},
     "output_type": "execute_result"
    }
   ],
   "source": [
    "list(range(10))"
   ]
  },
  {
   "cell_type": "markdown",
   "id": "f9c29d74",
   "metadata": {},
   "source": [
    "**numpy.arange()** is also used to create sequence of  numbers.\n",
    "\n",
    "**numpy.arange(start, stop, step, dtype)**\n",
    "\n",
    "- start = starting number\n",
    "- stop =  ending number\n",
    "- step =  incremental number\n",
    "- dtype = data type we want to generate; the default datatype is int"
   ]
  },
  {
   "cell_type": "code",
   "execution_count": 39,
   "id": "opened-modeling",
   "metadata": {},
   "outputs": [
    {
     "name": "stdout",
     "output_type": "stream",
     "text": [
      "[ 1  3  5  7  9 11 13 15 17 19 21 23 25 27 29 31 33 35 37 39 41 43 45 47\n",
      " 49 51 53 55 57 59 61 63 65 67 69 71 73 75 77 79 81 83 85 87 89 91 93 95\n",
      " 97 99]\n"
     ]
    },
    {
     "data": {
      "text/plain": [
       "array([ 0,  2,  4,  6,  8, 10, 12, 14, 16, 18, 20, 22, 24, 26, 28, 30, 32,\n",
       "       34, 36, 38, 40, 42, 44, 46, 48, 50, 52, 54, 56, 58, 60, 62, 64, 66,\n",
       "       68, 70, 72, 74, 76, 78, 80, 82, 84, 86, 88, 90, 92, 94, 96, 98])"
      ]
     },
     "execution_count": 39,
     "metadata": {},
     "output_type": "execute_result"
    }
   ],
   "source": [
    "## Creating Odd numbers\n",
    "print(np.arange(1,100,2,int))\n",
    "\n",
    "## Creating even numbers\n",
    "np.arange(0,100,2)"
   ]
  },
  {
   "cell_type": "code",
   "execution_count": 43,
   "id": "e78b69d9",
   "metadata": {},
   "outputs": [
    {
     "name": "stdout",
     "output_type": "stream",
     "text": [
      "[ 1.  3.  5.  7.  9. 11. 13. 15. 17. 19. 21. 23. 25. 27. 29. 31. 33. 35.\n",
      " 37. 39. 41. 43. 45. 47. 49. 51. 53. 55. 57. 59. 61. 63. 65. 67. 69. 71.\n",
      " 73. 75. 77. 79. 81. 83. 85. 87. 89. 91. 93. 95. 97. 99.]\n"
     ]
    },
    {
     "data": {
      "text/plain": [
       "array([0.  , 0.01, 0.02, 0.03, 0.04, 0.05, 0.06, 0.07, 0.08, 0.09, 0.1 ,\n",
       "       0.11, 0.12, 0.13, 0.14, 0.15, 0.16, 0.17, 0.18, 0.19, 0.2 , 0.21,\n",
       "       0.22, 0.23, 0.24, 0.25, 0.26, 0.27, 0.28, 0.29, 0.3 , 0.31, 0.32,\n",
       "       0.33, 0.34, 0.35, 0.36, 0.37, 0.38, 0.39, 0.4 , 0.41, 0.42, 0.43,\n",
       "       0.44, 0.45, 0.46, 0.47, 0.48, 0.49, 0.5 , 0.51, 0.52, 0.53, 0.54,\n",
       "       0.55, 0.56, 0.57, 0.58, 0.59, 0.6 , 0.61, 0.62, 0.63, 0.64, 0.65,\n",
       "       0.66, 0.67, 0.68, 0.69, 0.7 , 0.71, 0.72, 0.73, 0.74, 0.75, 0.76,\n",
       "       0.77, 0.78, 0.79, 0.8 , 0.81, 0.82, 0.83, 0.84, 0.85, 0.86, 0.87,\n",
       "       0.88, 0.89, 0.9 , 0.91, 0.92, 0.93, 0.94, 0.95, 0.96, 0.97, 0.98,\n",
       "       0.99])"
      ]
     },
     "execution_count": 43,
     "metadata": {},
     "output_type": "execute_result"
    }
   ],
   "source": [
    "## Creating Odd numbers\n",
    "print(np.arange(1,100,2,float))\n",
    "\n",
    "## Creating even numbers\n",
    "np.arange(0,100,2)  # \n",
    "\n",
    "np.arange(0,1,0.01)"
   ]
  },
  {
   "cell_type": "markdown",
   "id": "excellent-methodology",
   "metadata": {},
   "source": [
    "#### linspace()\n",
    "To create evenly spaced numbers in a given range, we can use linspace function\n",
    "\n",
    "**linspace(start, end, number_of_elements).**\n",
    "\n",
    "- start: starting number\n",
    "- end: ending number\n",
    "- number_of_elements:  Number of elements to be generated"
   ]
  },
  {
   "cell_type": "code",
   "execution_count": 59,
   "id": "public-robinson",
   "metadata": {},
   "outputs": [
    {
     "name": "stdout",
     "output_type": "stream",
     "text": [
      "[  0.  10.  20.  30.  40.  50.  60.  70.  80.  90. 100.]\n",
      "[0. 0. 0. 0. 0. 0. 0. 0. 0. 0.]\n",
      "[1. 1. 1. 1. 1. 1. 1. 1. 1. 1.]\n"
     ]
    }
   ],
   "source": [
    "## Creating evenly spaced numbers using linspace\n",
    "print(np.linspace(0, 100, 11))\n",
    "\n",
    "## Creating zero array\n",
    "print(np.zeros(10))\n",
    "\n",
    "## Creating 1 arragy\n",
    "print(np.ones(10))"
   ]
  },
  {
   "cell_type": "code",
   "execution_count": 50,
   "id": "diverse-share",
   "metadata": {},
   "outputs": [
    {
     "data": {
      "text/plain": [
       "11.11111111111111"
      ]
     },
     "execution_count": 50,
     "metadata": {},
     "output_type": "execute_result"
    }
   ],
   "source": [
    "(100-0)/(10-1)"
   ]
  },
  {
   "cell_type": "code",
   "execution_count": 60,
   "id": "loose-antigua",
   "metadata": {},
   "outputs": [
    {
     "name": "stdout",
     "output_type": "stream",
     "text": [
      "[[11 11 11]\n",
      " [11 11 11]\n",
      " [11 11 11]]\n"
     ]
    }
   ],
   "source": [
    "## Creating arbitrary 3 x 3 array using empty\n",
    "print(np.empty((3,3), dtype=int))"
   ]
  },
  {
   "cell_type": "code",
   "execution_count": 64,
   "id": "dominican-board",
   "metadata": {},
   "outputs": [
    {
     "name": "stdout",
     "output_type": "stream",
     "text": [
      "[[5 5 5 5]\n",
      " [5 5 5 5]\n",
      " [5 5 5 5]]\n"
     ]
    }
   ],
   "source": [
    "## Creating 3 x 3 matrix using fill_value\n",
    "print(np.full((3,4),fill_value = 5))"
   ]
  },
  {
   "cell_type": "code",
   "execution_count": 66,
   "id": "super-bulletin",
   "metadata": {},
   "outputs": [
    {
     "name": "stdout",
     "output_type": "stream",
     "text": [
      "[[1. 0. 0. 0.]\n",
      " [0. 1. 0. 0.]\n",
      " [0. 0. 1. 0.]\n",
      " [0. 0. 0. 1.]]\n"
     ]
    }
   ],
   "source": [
    "## Creating an identity matrix\n",
    "print(np.identity(4))"
   ]
  },
  {
   "cell_type": "code",
   "execution_count": 122,
   "id": "d8e2b928",
   "metadata": {},
   "outputs": [
    {
     "data": {
      "text/plain": [
       "array([[1., 0., 0., 0., 0.],\n",
       "       [0., 1., 0., 0., 0.],\n",
       "       [0., 0., 1., 0., 0.],\n",
       "       [0., 0., 0., 1., 0.]])"
      ]
     },
     "execution_count": 122,
     "metadata": {},
     "output_type": "execute_result"
    }
   ],
   "source": [
    "## np.eye(Rows, Columns, Identity_Index)\n",
    "np.eye(4,5,0)  ## It will also create the identity matrix with identity in the kth index"
   ]
  },
  {
   "cell_type": "code",
   "execution_count": 123,
   "id": "c50a91c9",
   "metadata": {},
   "outputs": [
    {
     "data": {
      "text/plain": [
       "array([[0., 1., 0., 0., 0.],\n",
       "       [0., 0., 1., 0., 0.],\n",
       "       [0., 0., 0., 1., 0.],\n",
       "       [0., 0., 0., 0., 1.]])"
      ]
     },
     "execution_count": 123,
     "metadata": {},
     "output_type": "execute_result"
    }
   ],
   "source": [
    "np.eye(4,5,1)"
   ]
  },
  {
   "cell_type": "code",
   "execution_count": 126,
   "id": "09ae8f8e",
   "metadata": {},
   "outputs": [
    {
     "data": {
      "text/plain": [
       "array([[0., 0., 0., 0., 0.],\n",
       "       [1., 0., 0., 0., 0.],\n",
       "       [0., 1., 0., 0., 0.],\n",
       "       [0., 0., 1., 0., 0.]])"
      ]
     },
     "execution_count": 126,
     "metadata": {},
     "output_type": "execute_result"
    }
   ],
   "source": [
    "np.eye(4,5,-1)  ## the -kth index is for the column identity"
   ]
  },
  {
   "cell_type": "code",
   "execution_count": 69,
   "id": "ebcb1ced",
   "metadata": {},
   "outputs": [
    {
     "data": {
      "text/plain": [
       "array([10.  , 20.  , 25.  , 10.25])"
      ]
     },
     "execution_count": 69,
     "metadata": {},
     "output_type": "execute_result"
    }
   ],
   "source": [
    "l1 = [10,20,25,10.25]\n",
    "np.array(l1)"
   ]
  },
  {
   "cell_type": "markdown",
   "id": "brief-minimum",
   "metadata": {},
   "source": [
    "### Array Attributes"
   ]
  },
  {
   "cell_type": "code",
   "execution_count": 70,
   "id": "spectacular-romance",
   "metadata": {},
   "outputs": [
    {
     "name": "stdout",
     "output_type": "stream",
     "text": [
      "[['Python for Data science' 'Intro to Deep Learning' 'Python Handbook']\n",
      " ['35' '55' '20']]\n",
      "The shape of the array is :  (2, 3)\n",
      "The number of elements in the array is :  6\n",
      "The data type of the array is :  float64\n",
      "The dimension of the array is :  2\n"
     ]
    }
   ],
   "source": [
    "## Creating an array with books and its prices\n",
    "books = np.array([('Python for Data science','Intro to Deep Learning','Python Handbook'),(35,55,20)])\n",
    "\n",
    "print(books)\n",
    "\n",
    "## Printing the shape of the array\n",
    "print(\"The shape of the array is : \",books.shape)\n",
    "\n",
    "## Printing the size of the array\n",
    "print(\"The number of elements in the array is : \",books.size)\n",
    "\n",
    "books = np.array([(1.5, 2.5,4.6),(7.9,8,9.0)])\n",
    "\n",
    "## Printing the data type of the array\n",
    "print(\"The data type of the array is : \",books.dtype)\n",
    "\n",
    "## Printing the dimension of the array\n",
    "print(\"The dimension of the array is : \",books.ndim)"
   ]
  },
  {
   "cell_type": "markdown",
   "id": "closing-rolling",
   "metadata": {},
   "source": [
    "### Array Operations"
   ]
  },
  {
   "cell_type": "code",
   "execution_count": 77,
   "id": "considerable-consultancy",
   "metadata": {},
   "outputs": [
    {
     "name": "stdout",
     "output_type": "stream",
     "text": [
      "[[1 3]\n",
      " [5 7]] \n",
      " [[8 6]\n",
      " [2 4]]\n",
      "Sum of arrays :  [[ 9  9]\n",
      " [ 7 11]]\n",
      "Odd array - Even Array :  [[-7 -3]\n",
      " [ 3  3]]\n",
      "Odd array multiplied by 5 : [[ 5 15]\n",
      " [25 35]]\n",
      "[[ 8 18]\n",
      " [10 28]]\n",
      "[[14 18]\n",
      " [54 58]]\n"
     ]
    }
   ],
   "source": [
    "## Creating odd and even number arrays\n",
    "oddnumber = np.array([1, 3, 5, 7]).reshape(2,2)\n",
    "evennumber = np.array([8,6,2,4]).reshape(2,2)\n",
    "print(oddnumber,'\\n', evennumber)\n",
    "\n",
    "## Adding two arrays\n",
    "sum = oddnumber + evennumber\n",
    "print(\"Sum of arrays : \", sum)\n",
    "\n",
    "## Substracting even array from odd array\n",
    "sub = oddnumber - evennumber\n",
    "print(\"Odd array - Even Array : \", sub)\n",
    "\n",
    "## Multiplying each element of odd array by 5\n",
    "print(\"Odd array multiplied by 5 :\", oddnumber * 5)\n",
    "\n",
    "## Multiplying two arrays\n",
    "print(oddnumber * evennumber)  ## This is normal element wise multiplication\n",
    "\n",
    "## Matrix Multiplication\n",
    "print(oddnumber.dot(evennumber))\n"
   ]
  },
  {
   "cell_type": "code",
   "execution_count": 23,
   "id": "amazing-senegal",
   "metadata": {},
   "outputs": [
    {
     "name": "stdout",
     "output_type": "stream",
     "text": [
      "[[1 2 4]\n",
      " [3 5 2]]\n",
      "[[3 1]\n",
      " [7 2]\n",
      " [4 5]]\n",
      "\n",
      " Matrix multiplication : \n",
      "\n",
      " [[33 25]\n",
      " [52 23]]\n"
     ]
    }
   ],
   "source": [
    "## Matrix Multiplication\n",
    "n1 = np.array([[1, 2, 4],[3,5,2]])\n",
    "n2 = np.array([[3, 1],[7,2],[4,5]])\n",
    "\n",
    "print(n1)\n",
    "print(n2)\n",
    "\n",
    "prod = n1.dot(n2)\n",
    "print(\"\\n Matrix multiplication : \\n\\n\",prod)"
   ]
  },
  {
   "cell_type": "code",
   "execution_count": 22,
   "id": "fa40cc35",
   "metadata": {},
   "outputs": [
    {
     "data": {
      "text/plain": [
       "array([[33, 25],\n",
       "       [52, 23]])"
      ]
     },
     "execution_count": 22,
     "metadata": {},
     "output_type": "execute_result"
    }
   ],
   "source": [
    "np.matmul(n1,n2)"
   ]
  },
  {
   "cell_type": "code",
   "execution_count": 24,
   "id": "fd1d2b90",
   "metadata": {},
   "outputs": [
    {
     "ename": "ValueError",
     "evalue": "operands could not be broadcast together with shapes (2,3) (3,2) ",
     "output_type": "error",
     "traceback": [
      "\u001b[1;31m---------------------------------------------------------------------------\u001b[0m",
      "\u001b[1;31mValueError\u001b[0m                                Traceback (most recent call last)",
      "\u001b[1;32m<ipython-input-24-2005a683f43e>\u001b[0m in \u001b[0;36m<module>\u001b[1;34m\u001b[0m\n\u001b[1;32m----> 1\u001b[1;33m \u001b[0mn1\u001b[0m\u001b[1;33m*\u001b[0m\u001b[0mn2\u001b[0m\u001b[1;33m\u001b[0m\u001b[1;33m\u001b[0m\u001b[0m\n\u001b[0m",
      "\u001b[1;31mValueError\u001b[0m: operands could not be broadcast together with shapes (2,3) (3,2) "
     ]
    }
   ],
   "source": [
    "n1*n2  ## this is normal multiplication"
   ]
  },
  {
   "cell_type": "code",
   "execution_count": 82,
   "id": "supported-increase",
   "metadata": {},
   "outputs": [
    {
     "name": "stdout",
     "output_type": "stream",
     "text": [
      "[[1 2 4]\n",
      " [3 5 2]]\n",
      "[[3 1 7]\n",
      " [2 4 5]]\n",
      "\n",
      "Elementwise multiplication : \n",
      "\n",
      " [[ 3  2 28]\n",
      " [ 6 20 10]]\n"
     ]
    }
   ],
   "source": [
    "## Element wise multiplication\n",
    "n1 = np.array([[1, 2, 4],[3,5,2]])\n",
    "n2 = np.array([[3, 1, 7],[2,4,5]])\n",
    "\n",
    "print(n1)\n",
    "print(n2)\n",
    "\n",
    "prod = n1 * n2\n",
    "print(\"\\nElementwise multiplication : \\n\\n\",prod)"
   ]
  },
  {
   "cell_type": "markdown",
   "id": "d698cc55",
   "metadata": {},
   "source": [
    "Elementwise Multiplication will work only with same dimension arrays."
   ]
  },
  {
   "cell_type": "code",
   "execution_count": 23,
   "id": "together-harbor",
   "metadata": {},
   "outputs": [
    {
     "name": "stdout",
     "output_type": "stream",
     "text": [
      "[[1 2 4]\n",
      " [3 5 2]]\n",
      "[[3 1]\n",
      " [2 4]]\n"
     ]
    },
    {
     "ename": "ValueError",
     "evalue": "operands could not be broadcast together with shapes (2,3) (2,2) ",
     "output_type": "error",
     "traceback": [
      "\u001b[1;31m---------------------------------------------------------------------------\u001b[0m",
      "\u001b[1;31mValueError\u001b[0m                                Traceback (most recent call last)",
      "\u001b[1;32m<ipython-input-23-5dd61d7e328a>\u001b[0m in \u001b[0;36m<module>\u001b[1;34m\u001b[0m\n\u001b[0;32m      7\u001b[0m \u001b[0mprint\u001b[0m\u001b[1;33m(\u001b[0m\u001b[0mn2\u001b[0m\u001b[1;33m)\u001b[0m\u001b[1;33m\u001b[0m\u001b[1;33m\u001b[0m\u001b[0m\n\u001b[0;32m      8\u001b[0m \u001b[1;33m\u001b[0m\u001b[0m\n\u001b[1;32m----> 9\u001b[1;33m \u001b[0mprint\u001b[0m\u001b[1;33m(\u001b[0m\u001b[0mn1\u001b[0m \u001b[1;33m*\u001b[0m \u001b[0mn2\u001b[0m\u001b[1;33m)\u001b[0m\u001b[1;33m\u001b[0m\u001b[1;33m\u001b[0m\u001b[0m\n\u001b[0m",
      "\u001b[1;31mValueError\u001b[0m: operands could not be broadcast together with shapes (2,3) (2,2) "
     ]
    }
   ],
   "source": [
    "## Element wise multiplication\n",
    "n1 = np.array([[1, 2, 4],[3,5,2]])\n",
    "n2 = np.array([[3, 1],[2,4]])\n",
    "\n",
    "\n",
    "print(n1)\n",
    "print(n2)\n",
    "\n",
    "print(n1 * n2)"
   ]
  },
  {
   "cell_type": "code",
   "execution_count": 78,
   "id": "governmental-pound",
   "metadata": {},
   "outputs": [
    {
     "name": "stdout",
     "output_type": "stream",
     "text": [
      "[22 23 34 19 34 23 33 19 34 21 30 21 28 22 27 23]\n",
      "[23 23 21 22]\n",
      "16\n"
     ]
    },
    {
     "data": {
      "text/plain": [
       "array([[22, 23, 34, 19],\n",
       "       [34, 23, 33, 19],\n",
       "       [34, 21, 30, 21],\n",
       "       [28, 22, 27, 23]])"
      ]
     },
     "execution_count": 78,
     "metadata": {},
     "output_type": "execute_result"
    }
   ],
   "source": [
    "## Creating a 1D array\n",
    "agearray = np.random.randint(18,35,16)\n",
    "print(agearray)\n",
    "\n",
    "print(agearray[1::4])\n",
    "print(len(agearray))\n",
    "\n",
    "## Convering 1D array to 4 x 4 array\n",
    "reshaped_array = agearray.reshape(4,4)\n",
    "reshaped_array"
   ]
  },
  {
   "cell_type": "code",
   "execution_count": 79,
   "id": "0adceaab",
   "metadata": {},
   "outputs": [
    {
     "name": "stdout",
     "output_type": "stream",
     "text": [
      "[[19 26 27 27]\n",
      " [27 24 29 19]\n",
      " [24 22 22 25]\n",
      " [18 19 33 22]]\n"
     ]
    }
   ],
   "source": [
    "agearray=np.random.randint(18,35,16).reshape(4,4)\n",
    "print(agearray)"
   ]
  },
  {
   "cell_type": "code",
   "execution_count": 32,
   "id": "sharp-millennium",
   "metadata": {},
   "outputs": [
    {
     "data": {
      "text/plain": [
       "array([33, 29, 27, 19])"
      ]
     },
     "execution_count": 32,
     "metadata": {},
     "output_type": "execute_result"
    }
   ],
   "source": [
    "reshaped_array[:,0]"
   ]
  },
  {
   "cell_type": "markdown",
   "id": "3edcd8c2",
   "metadata": {},
   "source": [
    "## Slicing and Indexing\n",
    "\n",
    "- slicing[rows, columns]"
   ]
  },
  {
   "cell_type": "code",
   "execution_count": 81,
   "id": "7f87654c",
   "metadata": {},
   "outputs": [
    {
     "name": "stdout",
     "output_type": "stream",
     "text": [
      "[[19 26 27 27]\n",
      " [27 24 29 19]\n",
      " [24 22 22 25]\n",
      " [18 19 33 22]]\n"
     ]
    }
   ],
   "source": [
    "print(agearray)"
   ]
  },
  {
   "cell_type": "code",
   "execution_count": 82,
   "id": "880d60b9",
   "metadata": {},
   "outputs": [
    {
     "data": {
      "text/plain": [
       "array([24, 22, 22, 25])"
      ]
     },
     "execution_count": 82,
     "metadata": {},
     "output_type": "execute_result"
    }
   ],
   "source": [
    "## get the 3rd row from the array\n",
    "agearray[2]"
   ]
  },
  {
   "cell_type": "code",
   "execution_count": 83,
   "id": "960520e3",
   "metadata": {},
   "outputs": [
    {
     "data": {
      "text/plain": [
       "29"
      ]
     },
     "execution_count": 83,
     "metadata": {},
     "output_type": "execute_result"
    }
   ],
   "source": [
    "## Select the element 29\n",
    "agearray[1,2]"
   ]
  },
  {
   "cell_type": "code",
   "execution_count": 84,
   "id": "de56f6cd",
   "metadata": {},
   "outputs": [
    {
     "name": "stdout",
     "output_type": "stream",
     "text": [
      "[[19 26 27 27]\n",
      " [27 24 35 19]\n",
      " [24 22 22 25]\n",
      " [18 19 33 22]]\n"
     ]
    }
   ],
   "source": [
    "## Select the elem = 35nt 29\n",
    "agearray[1,2] = 35\n",
    "print(agearray)"
   ]
  },
  {
   "cell_type": "code",
   "execution_count": 87,
   "id": "75f819f2",
   "metadata": {},
   "outputs": [
    {
     "data": {
      "text/plain": [
       "array([[ 95, 130, 135, 135],\n",
       "       [135, 120, 175,  95],\n",
       "       [120, 110, 110, 125],\n",
       "       [ 90,  95, 165, 110]])"
      ]
     },
     "execution_count": 87,
     "metadata": {},
     "output_type": "execute_result"
    }
   ],
   "source": [
    "agearray*5"
   ]
  },
  {
   "cell_type": "code",
   "execution_count": 94,
   "id": "c96cc2f7",
   "metadata": {},
   "outputs": [
    {
     "data": {
      "text/plain": [
       "(18, 35, 4.713262537775718, 22.21484375)"
      ]
     },
     "execution_count": 94,
     "metadata": {},
     "output_type": "execute_result"
    }
   ],
   "source": [
    "## simple statistical values from the given array\n",
    "agearray.min(), agearray.max(), agearray.std(), agearray.var()"
   ]
  },
  {
   "cell_type": "code",
   "execution_count": 97,
   "id": "39921c55",
   "metadata": {},
   "outputs": [
    {
     "data": {
      "text/plain": [
       "array([ 99, 105,  93,  92])"
      ]
     },
     "execution_count": 97,
     "metadata": {},
     "output_type": "execute_result"
    }
   ],
   "source": [
    "agearray.sum(axis=1)"
   ]
  },
  {
   "cell_type": "code",
   "execution_count": 101,
   "id": "cab7bb58",
   "metadata": {},
   "outputs": [
    {
     "name": "stdout",
     "output_type": "stream",
     "text": [
      "[[19 26 27 27]\n",
      " [27 24 35 19]\n",
      " [24 22 22 25]\n",
      " [18 19 33 22]]\n",
      "[[ 19  45  72  99]\n",
      " [ 27  51  86 105]\n",
      " [ 24  46  68  93]\n",
      " [ 18  37  70  92]]\n",
      "[[ 19  26  27  27]\n",
      " [ 46  50  62  46]\n",
      " [ 70  72  84  71]\n",
      " [ 88  91 117  93]]\n"
     ]
    }
   ],
   "source": [
    "print(agearray)\n",
    "print(agearray.cumsum(axis=1))  ## Row-wise cumulative sum\n",
    "print(agearray.cumsum(axis=0)) ## Column-wise cumulative sum"
   ]
  },
  {
   "cell_type": "markdown",
   "id": "solid-jaguar",
   "metadata": {},
   "source": [
    "Simple Statistical analysis"
   ]
  },
  {
   "cell_type": "code",
   "execution_count": 34,
   "id": "naval-pickup",
   "metadata": {},
   "outputs": [
    {
     "name": "stdout",
     "output_type": "stream",
     "text": [
      "[100000  75000  24000  15000  45000  16000]\n",
      "\n",
      "The minimum Salary is :  15000\n",
      "\n",
      "The maximum Salary is :  100000\n",
      "\n",
      "The variance in Salary is :  1017138888.8888888\n",
      "\n",
      "The Standard Deviation in Salary is :  31892.61495846474\n"
     ]
    }
   ],
   "source": [
    "## Creating one dimentinal arrary\n",
    "salaries = np.array([100000,75000,24000,15000,45000,16000])\n",
    "\n",
    "## Printing the salaries array\n",
    "print(salaries)\n",
    "\n",
    "## Finding the minimum value\n",
    "print(\"\\nThe minimum Salary is : \", salaries.min())\n",
    "\n",
    "## Finding the minimum value\n",
    "print(\"\\nThe maximum Salary is : \", salaries.max())\n",
    "\n",
    "## The variance in salaries\n",
    "print(\"\\nThe variance in Salary is : \", salaries.var())\n",
    "\n",
    "## The variance in salaries\n",
    "print(\"\\nThe Standard Deviation in Salary is : \", salaries.std())"
   ]
  },
  {
   "cell_type": "code",
   "execution_count": 90,
   "id": "tender-reach",
   "metadata": {},
   "outputs": [
    {
     "name": "stdout",
     "output_type": "stream",
     "text": [
      "The area of squares are :  [100 529 225  64 441]\n"
     ]
    }
   ],
   "source": [
    "## More mathematical functions. np.square()\n",
    "\n",
    "## Creating an array of sides of square\n",
    "side_sq = np.array([10,23,15,8,21])\n",
    "\n",
    "## Printing the area of squares\n",
    "print(\"The area of squares are : \", np.square(side_sq))"
   ]
  },
  {
   "cell_type": "code",
   "execution_count": 92,
   "id": "attached-reggae",
   "metadata": {},
   "outputs": [
    {
     "name": "stdout",
     "output_type": "stream",
     "text": [
      "\n",
      "The volume of cube sides are :  [  27  125  343   64 1000]\n"
     ]
    }
   ],
   "source": [
    "## np.power()\n",
    "\n",
    "## Finding the volume of cubes\n",
    "cube_sides = np.array([3,5,7,4,10])\n",
    "\n",
    "## The volume of cube sides\n",
    "print(\"\\nThe volume of cube sides are : \", np.power(cube_sides, 3))"
   ]
  },
  {
   "cell_type": "code",
   "execution_count": 35,
   "id": "exact-prefix",
   "metadata": {},
   "outputs": [
    {
     "name": "stdout",
     "output_type": "stream",
     "text": [
      "The matrix is : \n",
      " [[1 2 3]\n",
      " [4 5 6]]\n",
      "The transposed matrix is : \n",
      " [[1 4]\n",
      " [2 5]\n",
      " [3 6]]\n"
     ]
    }
   ],
   "source": [
    "## np.transpose() reverses the order of the matrix.  Suppose if we have M x N, the transpose will change it to N x M\n",
    "\n",
    "## Creating 2 x 3 matrix\n",
    "matrix = np.array([(1, 2, 3),(4, 5, 6)])\n",
    "\n",
    "## Printing the matrix\n",
    "print(\"The matrix is : \\n\",matrix)\n",
    "\n",
    "## Printing the transpose of the matrix\n",
    "print(\"The transposed matrix is : \\n\", np.transpose(matrix))"
   ]
  },
  {
   "cell_type": "code",
   "execution_count": 106,
   "id": "567f403f",
   "metadata": {},
   "outputs": [],
   "source": [
    "matrix = np.random.randint(10,20,16).reshape(4,4)  ## generating a 4 x 4 matrix"
   ]
  },
  {
   "cell_type": "code",
   "execution_count": 108,
   "id": "2d860702",
   "metadata": {},
   "outputs": [
    {
     "name": "stdout",
     "output_type": "stream",
     "text": [
      "Original Matrix \n",
      "\n",
      " [[17 16 19 17]\n",
      " [19 16 12 17]\n",
      " [12 14 17 15]\n",
      " [17 12 18 17]]\n",
      "\n",
      " Flipped Matrix \n",
      "\n",
      " [[17 18 12 17]\n",
      " [15 17 14 12]\n",
      " [17 12 16 19]\n",
      " [17 19 16 17]]\n"
     ]
    }
   ],
   "source": [
    "#matrix = np.random.randint(10,20,16).reshape(4,4)\n",
    "print('Original Matrix','\\n\\n',matrix)\n",
    "print('\\n','Flipped Matrix','\\n\\n',np.flip(matrix))  ## Flipping both rows and columns"
   ]
  },
  {
   "cell_type": "code",
   "execution_count": 113,
   "id": "e912a5d5",
   "metadata": {},
   "outputs": [
    {
     "data": {
      "text/plain": [
       "array([[17, 12, 18, 17],\n",
       "       [12, 14, 17, 15],\n",
       "       [19, 16, 12, 17],\n",
       "       [17, 16, 19, 17]])"
      ]
     },
     "execution_count": 113,
     "metadata": {},
     "output_type": "execute_result"
    }
   ],
   "source": [
    "np.flipud(matrix)  ## Only flipping the rows"
   ]
  },
  {
   "cell_type": "code",
   "execution_count": 115,
   "id": "683ed86e",
   "metadata": {},
   "outputs": [
    {
     "data": {
      "text/plain": [
       "array([[17, 12, 18, 17],\n",
       "       [12, 14, 17, 15],\n",
       "       [19, 16, 12, 17],\n",
       "       [17, 16, 19, 17]])"
      ]
     },
     "execution_count": 115,
     "metadata": {},
     "output_type": "execute_result"
    }
   ],
   "source": [
    "np.flip(matrix,0)  ## Only flipping the rows"
   ]
  },
  {
   "cell_type": "code",
   "execution_count": 114,
   "id": "305b4f95",
   "metadata": {},
   "outputs": [
    {
     "data": {
      "text/plain": [
       "array([[17, 19, 16, 17],\n",
       "       [17, 12, 16, 19],\n",
       "       [15, 17, 14, 12],\n",
       "       [17, 18, 12, 17]])"
      ]
     },
     "execution_count": 114,
     "metadata": {},
     "output_type": "execute_result"
    }
   ],
   "source": [
    "np.flip(matrix,1)  ## Only flipping the columns"
   ]
  },
  {
   "cell_type": "code",
   "execution_count": 38,
   "id": "smaller-queens",
   "metadata": {},
   "outputs": [
    {
     "name": "stdout",
     "output_type": "stream",
     "text": [
      "The concatenated array \n",
      " [ 23   4  76  21  55 150 267  35  98 256 750]\n"
     ]
    }
   ],
   "source": [
    "## Concatenating array\n",
    "a1 = np.array([23, 4, 76,21, 55])\n",
    "a2 = np.array([150, 267, 35, 98,256, 750])\n",
    "\n",
    "## Concatenating the array using concatenate()\n",
    "a1a2 = np.concatenate([a1, a2])\n",
    "\n",
    "## Printing the concatenated array\n",
    "print(\"The concatenated array \\n\",a1a2)"
   ]
  },
  {
   "cell_type": "code",
   "execution_count": 39,
   "id": "patient-monkey",
   "metadata": {},
   "outputs": [
    {
     "name": "stdout",
     "output_type": "stream",
     "text": [
      "[[1 2 3]\n",
      " [3 4 5]]\n",
      "[[ 2  4  6]\n",
      " [ 6  8 10]]\n",
      "[[ 1  2  3]\n",
      " [ 3  4  5]\n",
      " [ 2  4  6]\n",
      " [ 6  8 10]]\n",
      "[[  1   2   3]\n",
      " [  3 100   5]]\n"
     ]
    }
   ],
   "source": [
    "a1 = np.array([(1,2,3),(3,4,5)])\n",
    "a2 = a1 * 2\n",
    "print(a1)\n",
    "print(a2)\n",
    "a1a2 = np.concatenate([a1,a2])  ## Concatnating two 2 x 3 array.  The resultant array will be 4 x 3\n",
    "print(a1a2)\n",
    "\n",
    "a1[1,1] = 100\n",
    "\n",
    "print(a1)"
   ]
  },
  {
   "cell_type": "code",
   "execution_count": 116,
   "id": "textile-assault",
   "metadata": {},
   "outputs": [
    {
     "name": "stdout",
     "output_type": "stream",
     "text": [
      "The concatenated 2D array\n",
      " [['James' '24']\n",
      " ['Smith' '21']\n",
      " ['Bob' '45']\n",
      " ['Amy' '21']\n",
      " ['Charles' '28']]\n",
      "The dimension of the concatenated array is  (5, 2)\n"
     ]
    }
   ],
   "source": [
    "## Concatenating 2D array\n",
    "\n",
    "a1 = np.array([['James', 24], ['Smith',21], ['Bob',45]])\n",
    "a2 = np.array([['Amy',21],['Charles', 28]])\n",
    "\n",
    "## Concatenating the 2D array using concatenate()\n",
    "a1a2 = np.concatenate([a1, a2])   \n",
    "               \n",
    "## Printing the concatenated 2d Array\n",
    "print(\"The concatenated 2D array\\n\",a1a2)\n",
    "print(\"The dimension of the concatenated array is \",a1a2.shape)"
   ]
  },
  {
   "cell_type": "code",
   "execution_count": 103,
   "id": "fifth-serve",
   "metadata": {},
   "outputs": [
    {
     "name": "stdout",
     "output_type": "stream",
     "text": [
      "The 2D array \n",
      " [[150 267]\n",
      " [ 35  98]\n",
      " [256 750]]\n",
      "\n",
      "The flattened array \n",
      " [150 267  35  98 256 750]\n"
     ]
    }
   ],
   "source": [
    "## Using flatten() to convert multi dimentional array to a single dimention array\n",
    "a1 = np.array([[150, 267], [35, 98],[256, 750]])\n",
    "\n",
    "## Printing the array\n",
    "print(\"The 2D array \\n\", a1)\n",
    "\n",
    "## The flattened array\n",
    "print(\"\\nThe flattened array \\n\", np.ndarray.flatten(a1))"
   ]
  },
  {
   "cell_type": "code",
   "execution_count": 118,
   "id": "45917d77",
   "metadata": {},
   "outputs": [
    {
     "name": "stdout",
     "output_type": "stream",
     "text": [
      "[['James' '24']\n",
      " ['Smith' '21']\n",
      " ['Bob' '45']]\n",
      "James\n",
      "24\n",
      "Smith\n",
      "21\n",
      "Bob\n",
      "45\n"
     ]
    }
   ],
   "source": [
    "## Processing the array elements\n",
    "print(a1)\n",
    "for row in a1:\n",
    "    for col in row:\n",
    "        print(col)"
   ]
  },
  {
   "cell_type": "code",
   "execution_count": 107,
   "id": "convertible-steam",
   "metadata": {},
   "outputs": [
    {
     "name": "stdout",
     "output_type": "stream",
     "text": [
      "The dimension of 'books' array is :  2 \n",
      "\n",
      "\n",
      "['Python for Data Science' 'Intro to Machine Learning'\n",
      " 'Intro to Deep Learning']\n",
      "['35' '51.5' '43']\n",
      "\n",
      "\n",
      "Printing each element in 2D array separately\n",
      "\n",
      "Python for Data Science\n",
      "Intro to Machine Learning\n",
      "Intro to Deep Learning\n",
      "35\n",
      "51.5\n",
      "43\n"
     ]
    }
   ],
   "source": [
    "## Books Array\n",
    "books = np.array([['Python for Data Science','Intro to Machine Learning','Intro to Deep Learning'],[35, 51.5, 43]])\n",
    "\n",
    "## Printing the dimension of Books array\n",
    "print(\"The dimension of 'books' array is : \",books.ndim,'\\n\\n')\n",
    "\n",
    "## We can iterate the array using for loop\n",
    "## Printing each element of the array using for loop\n",
    "for i in books:\n",
    "    print(i)\n",
    "    \n",
    "## Printing each element separately\n",
    "print(\"\\n\\nPrinting each element in 2D array separately\\n\")\n",
    "for i in books:\n",
    "    for j in i:\n",
    "        print(j)"
   ]
  },
  {
   "cell_type": "code",
   "execution_count": 1,
   "id": "fdd2c9f7",
   "metadata": {},
   "outputs": [
    {
     "name": "stdout",
     "output_type": "stream",
     "text": [
      "(1, 4)\n",
      "(2, 5)\n",
      "(3, 6)\n"
     ]
    }
   ],
   "source": [
    "a1 = [1,2,3]\n",
    "a2 = [4,5,6]\n",
    "a1a2 = zip(a1, a2)\n",
    "for i in a1a2:\n",
    "    print(i)"
   ]
  },
  {
   "cell_type": "markdown",
   "id": "expensive-things",
   "metadata": {},
   "source": [
    "The Numpy arrays are faster than lists.  We can see through an example."
   ]
  },
  {
   "cell_type": "code",
   "execution_count": 120,
   "id": "occasional-grass",
   "metadata": {},
   "outputs": [
    {
     "name": "stdout",
     "output_type": "stream",
     "text": [
      "<class 'list'>\n",
      "<class 'list'>\n",
      "The time taken for processing lists :  0.15015220642089844 seconds\n"
     ]
    }
   ],
   "source": [
    "import time\n",
    "\n",
    "## Declaring size of an array and lists\n",
    "size = 1000000\n",
    "\n",
    "## Creating a lists\n",
    "l1 = list(range(size))\n",
    "l2 = list(range(size))\n",
    "\n",
    "print(type(l1))\n",
    "print(type(l2))\n",
    "\n",
    "starttime = time.time()\n",
    "resultlist = [(a * b) for a, b in zip(l1, l2)]\n",
    "\n",
    "## Calculating the time taken for processing lists\n",
    "print(\"The time taken for processing lists : \",(time.time() - starttime),'seconds')"
   ]
  },
  {
   "cell_type": "code",
   "execution_count": 121,
   "id": "respective-universe",
   "metadata": {},
   "outputs": [
    {
     "name": "stdout",
     "output_type": "stream",
     "text": [
      "<class 'numpy.ndarray'> <class 'numpy.ndarray'>\n",
      "The time taken for processing arrays :  0.00199127197265625 seconds\n"
     ]
    }
   ],
   "source": [
    "## Creating 2 arrays\n",
    "a1 = np.arange(size)\n",
    "a2 = np.arange(size)\n",
    "print(type(a1),type(a2))\n",
    "\n",
    "starttime = time.time()\n",
    "resultarray = a1 * a2\n",
    "\n",
    "## Calculating the time taken for processing array\n",
    "print(\"The time taken for processing arrays : \",(time.time() - starttime),'seconds')"
   ]
  },
  {
   "cell_type": "code",
   "execution_count": null,
   "id": "adult-request",
   "metadata": {},
   "outputs": [],
   "source": []
  }
 ],
 "metadata": {
  "kernelspec": {
   "display_name": "Python 3 (ipykernel)",
   "language": "python",
   "name": "python3"
  },
  "language_info": {
   "codemirror_mode": {
    "name": "ipython",
    "version": 3
   },
   "file_extension": ".py",
   "mimetype": "text/x-python",
   "name": "python",
   "nbconvert_exporter": "python",
   "pygments_lexer": "ipython3",
   "version": "3.8.8"
  }
 },
 "nbformat": 4,
 "nbformat_minor": 5
}
