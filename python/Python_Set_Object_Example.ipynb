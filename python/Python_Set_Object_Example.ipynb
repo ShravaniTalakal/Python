{
 "cells": [
  {
   "cell_type": "markdown",
   "id": "fallen-departure",
   "metadata": {},
   "source": [
    "## Python Set Object\n",
    "\n",
    "Sets are another standard Python data type that also store values. The major difference is that sets, unlike lists or tuples, cannot have multiple occurrences of the same element and store unordered values.\n",
    "\n",
    "The set() is used to create set object in python.\n"
   ]
  },
  {
   "cell_type": "code",
   "execution_count": 1,
   "id": "unauthorized-thought",
   "metadata": {},
   "outputs": [],
   "source": [
    "## To initialize an empty set\n",
    "emptySet = set()"
   ]
  },
  {
   "cell_type": "code",
   "execution_count": 4,
   "id": "recreational-providence",
   "metadata": {},
   "outputs": [
    {
     "data": {
      "text/plain": [
       "{'R'}"
      ]
     },
     "execution_count": 4,
     "metadata": {},
     "output_type": "execute_result"
    }
   ],
   "source": [
    "## Using add() to add an element to set.\n",
    "emptySet.add(\"R\")\n",
    "emptySet"
   ]
  },
  {
   "cell_type": "code",
   "execution_count": 6,
   "id": "english-unknown",
   "metadata": {},
   "outputs": [],
   "source": [
    "## Creating two sets\n",
    "dataScientist = set(['Python', 'R', 'SQL', 'Git', 'Tableau', 'SAS'])\n",
    "dataEngineer = set(['Python', 'Java', 'Scala', 'Git', 'SQL', 'Hadoop'])"
   ]
  },
  {
   "cell_type": "code",
   "execution_count": 7,
   "id": "stopped-provider",
   "metadata": {},
   "outputs": [
    {
     "data": {
      "text/plain": [
       "{'Git', 'Python', 'R', 'SAS', 'SQL', 'Tableau'}"
      ]
     },
     "execution_count": 7,
     "metadata": {},
     "output_type": "execute_result"
    }
   ],
   "source": [
    "dataScientist"
   ]
  },
  {
   "cell_type": "code",
   "execution_count": 8,
   "id": "binary-flexibility",
   "metadata": {},
   "outputs": [
    {
     "data": {
      "text/plain": [
       "{'Git', 'Hadoop', 'Java', 'Python', 'SQL', 'Scala'}"
      ]
     },
     "execution_count": 8,
     "metadata": {},
     "output_type": "execute_result"
    }
   ],
   "source": [
    "dataEngineer"
   ]
  },
  {
   "cell_type": "markdown",
   "id": "bibliographic-budget",
   "metadata": {},
   "source": [
    "Set object can also be created using {}.  The curly braces are used to create dictionary object too, but we have to use key, value pair to create dictionary object."
   ]
  },
  {
   "cell_type": "code",
   "execution_count": 9,
   "id": "timely-pillow",
   "metadata": {},
   "outputs": [],
   "source": [
    "dataScientist = {'Python', 'R', 'SQL', 'Git', 'Tableau', 'SAS'}\n",
    "dataEngineer = {'Python', 'Java', 'Scala', 'Git', 'SQL', 'Hadoop'}"
   ]
  },
  {
   "cell_type": "code",
   "execution_count": 10,
   "id": "acceptable-tamil",
   "metadata": {},
   "outputs": [
    {
     "data": {
      "text/plain": [
       "set"
      ]
     },
     "execution_count": 10,
     "metadata": {},
     "output_type": "execute_result"
    }
   ],
   "source": [
    "type(dataScientist)"
   ]
  },
  {
   "cell_type": "code",
   "execution_count": 11,
   "id": "graduate-experience",
   "metadata": {},
   "outputs": [
    {
     "data": {
      "text/plain": [
       "set"
      ]
     },
     "execution_count": 11,
     "metadata": {},
     "output_type": "execute_result"
    }
   ],
   "source": [
    "type(dataEngineer)"
   ]
  },
  {
   "cell_type": "code",
   "execution_count": 1,
   "id": "textile-underwear",
   "metadata": {},
   "outputs": [],
   "source": [
    "# Initialize set with values\n",
    "graphicDesigner = {'InDesign', 'Photoshop', 'Acrobat', 'Premiere', 'Bridge'}"
   ]
  },
  {
   "cell_type": "code",
   "execution_count": 2,
   "id": "labeled-interim",
   "metadata": {},
   "outputs": [
    {
     "data": {
      "text/plain": [
       "{'Acrobat', 'Bridge', 'Illustrator', 'InDesign', 'Photoshop', 'Premiere'}"
      ]
     },
     "execution_count": 2,
     "metadata": {},
     "output_type": "execute_result"
    }
   ],
   "source": [
    "## Adding value to exisitng set\n",
    "graphicDesigner.add('Illustrator')\n",
    "graphicDesigner"
   ]
  },
  {
   "cell_type": "markdown",
   "id": "native-friend",
   "metadata": {},
   "source": [
    "If you notice the output, the set will automatically order the elements.\n",
    "\n",
    "To remove an element from existing set, you can use either remove(), discard() or pop()."
   ]
  },
  {
   "cell_type": "code",
   "execution_count": 3,
   "id": "green-marking",
   "metadata": {},
   "outputs": [
    {
     "data": {
      "text/plain": [
       "{'Acrobat', 'Bridge', 'InDesign', 'Photoshop', 'Premiere'}"
      ]
     },
     "execution_count": 3,
     "metadata": {},
     "output_type": "execute_result"
    }
   ],
   "source": [
    "## Removing element using remove()\n",
    "graphicDesigner.remove('Illustrator')\n",
    "graphicDesigner"
   ]
  },
  {
   "cell_type": "code",
   "execution_count": 4,
   "id": "regular-straight",
   "metadata": {},
   "outputs": [
    {
     "data": {
      "text/plain": [
       "{'Acrobat', 'Bridge', 'InDesign', 'Photoshop'}"
      ]
     },
     "execution_count": 4,
     "metadata": {},
     "output_type": "execute_result"
    }
   ],
   "source": [
    "## Removing element using discard()\n",
    "graphicDesigner.discard('Premiere')\n",
    "graphicDesigner"
   ]
  },
  {
   "cell_type": "code",
   "execution_count": 5,
   "id": "protecting-custom",
   "metadata": {},
   "outputs": [
    {
     "name": "stdout",
     "output_type": "stream",
     "text": [
      "{'InDesign', 'Acrobat', 'Photoshop', 'Bridge'}\n"
     ]
    },
    {
     "data": {
      "text/plain": [
       "{'Acrobat', 'Bridge', 'Photoshop'}"
      ]
     },
     "execution_count": 5,
     "metadata": {},
     "output_type": "execute_result"
    }
   ],
   "source": [
    "## First let us print the existing elements of the set\n",
    "print(graphicDesigner)\n",
    "\n",
    "## Let us remove an element from pop()\n",
    "graphicDesigner.pop()\n",
    "graphicDesigner"
   ]
  },
  {
   "cell_type": "code",
   "execution_count": 21,
   "id": "applicable-motel",
   "metadata": {},
   "outputs": [
    {
     "data": {
      "text/plain": [
       "set()"
      ]
     },
     "execution_count": 21,
     "metadata": {},
     "output_type": "execute_result"
    }
   ],
   "source": [
    "## To remove all elements\n",
    "graphicDesigner.clear()\n",
    "graphicDesigner"
   ]
  },
  {
   "cell_type": "markdown",
   "id": "unexpected-cooking",
   "metadata": {},
   "source": [
    "Python set is a collection object.  Hence we can iterate all the elements using for loop."
   ]
  },
  {
   "cell_type": "code",
   "execution_count": 1,
   "id": "official-complement",
   "metadata": {},
   "outputs": [
    {
     "name": "stdout",
     "output_type": "stream",
     "text": [
      "SAS\n",
      "R\n",
      "Git\n",
      "Python\n",
      "SQL\n",
      "Tableau\n"
     ]
    }
   ],
   "source": [
    "# Initialize a set\n",
    "dataScientist = {'Python', 'R', 'SQL', 'Git', 'Tableau', 'SAS'}\n",
    "\n",
    "for skill in dataScientist:\n",
    "    print(skill)"
   ]
  },
  {
   "cell_type": "code",
   "execution_count": 6,
   "id": "national-insulin",
   "metadata": {},
   "outputs": [
    {
     "data": {
      "text/plain": [
       "['SAS', 'R']"
      ]
     },
     "execution_count": 6,
     "metadata": {},
     "output_type": "execute_result"
    }
   ],
   "source": [
    "list(dataScientist)[0:2]"
   ]
  },
  {
   "cell_type": "code",
   "execution_count": null,
   "id": "bdd558f8",
   "metadata": {},
   "outputs": [],
   "source": []
  },
  {
   "cell_type": "code",
   "execution_count": 24,
   "id": "injured-fields",
   "metadata": {},
   "outputs": [
    {
     "data": {
      "text/plain": [
       "['Tableau', 'SQL', 'SAS', 'R', 'Python', 'Git']"
      ]
     },
     "execution_count": 24,
     "metadata": {},
     "output_type": "execute_result"
    }
   ],
   "source": [
    "## You can use sorted function to sort the values in a set\n",
    "sorted(dataScientist, reverse=True)"
   ]
  },
  {
   "cell_type": "markdown",
   "id": "editorial-clerk",
   "metadata": {},
   "source": [
    "The List object will allow duplicates.  To remove duplicates, you can use set() to remove duplicates."
   ]
  },
  {
   "cell_type": "code",
   "execution_count": 7,
   "id": "ecological-factor",
   "metadata": {},
   "outputs": [
    {
     "data": {
      "text/plain": [
       "[1, 2, 3, 5, 3, 2, 1]"
      ]
     },
     "execution_count": 7,
     "metadata": {},
     "output_type": "execute_result"
    }
   ],
   "source": [
    "## Creating a list with duplicates\n",
    "l1 = [1,2,3,5,3,2,1]\n",
    "l1"
   ]
  },
  {
   "cell_type": "code",
   "execution_count": 8,
   "id": "worth-showcase",
   "metadata": {},
   "outputs": [
    {
     "data": {
      "text/plain": [
       "[1, 2, 3, 5]"
      ]
     },
     "execution_count": 8,
     "metadata": {},
     "output_type": "execute_result"
    }
   ],
   "source": [
    "## Converting the l1 as a set and the again converting as a list.\n",
    "l1=list(set(l1))\n",
    "l1"
   ]
  },
  {
   "cell_type": "markdown",
   "id": "cardiovascular-kennedy",
   "metadata": {},
   "source": [
    "### Set Operations\n",
    "\n",
    "##### Union\n",
    "\n",
    "Union will combine all elements from both sets without any duplicate."
   ]
  },
  {
   "cell_type": "code",
   "execution_count": 9,
   "id": "psychological-hostel",
   "metadata": {},
   "outputs": [],
   "source": [
    "dataScientist = set(['Python', 'R', 'SQL', 'Git', 'Tableau', 'SAS'])\n",
    "dataEngineer = set(['Python', 'Java', 'Scala', 'Git', 'SQL', 'Hadoop'])"
   ]
  },
  {
   "cell_type": "code",
   "execution_count": 7,
   "id": "revolutionary-passenger",
   "metadata": {},
   "outputs": [
    {
     "data": {
      "text/plain": [
       "{'Git', 'Hadoop', 'Java', 'Python', 'R', 'SAS', 'SQL', 'Scala', 'Tableau'}"
      ]
     },
     "execution_count": 7,
     "metadata": {},
     "output_type": "execute_result"
    }
   ],
   "source": [
    "combinedSkills = dataScientist.union(dataEngineer)\n",
    "combinedSkills"
   ]
  },
  {
   "cell_type": "markdown",
   "id": "curious-motion",
   "metadata": {},
   "source": [
    "##### Intersection\n",
    "\n",
    "Intersection will provide the common elements from both the sets"
   ]
  },
  {
   "cell_type": "code",
   "execution_count": 8,
   "id": "binding-mailman",
   "metadata": {},
   "outputs": [
    {
     "data": {
      "text/plain": [
       "{'Git', 'Python', 'SQL'}"
      ]
     },
     "execution_count": 8,
     "metadata": {},
     "output_type": "execute_result"
    }
   ],
   "source": [
    "differentialSkills = dataScientist.intersection(dataEngineer)\n",
    "differentialSkills\n"
   ]
  },
  {
   "cell_type": "markdown",
   "id": "physical-hamilton",
   "metadata": {},
   "source": [
    "##### isdisjoint()\n",
    "\n",
    "isdisjoint() is used to check two sets if there is any common elements."
   ]
  },
  {
   "cell_type": "code",
   "execution_count": 33,
   "id": "aging-latin",
   "metadata": {},
   "outputs": [
    {
     "data": {
      "text/plain": [
       "False"
      ]
     },
     "execution_count": 33,
     "metadata": {},
     "output_type": "execute_result"
    }
   ],
   "source": [
    "# Initialize a set\n",
    "graphicDesigner = {'Illustrator', 'InDesign', 'Photoshop'}\n",
    "\n",
    "# These sets have elements in common so it would return False\n",
    "dataScientist.isdisjoint(dataEngineer)\n"
   ]
  },
  {
   "cell_type": "code",
   "execution_count": 34,
   "id": "referenced-eugene",
   "metadata": {},
   "outputs": [
    {
     "data": {
      "text/plain": [
       "True"
      ]
     },
     "execution_count": 34,
     "metadata": {},
     "output_type": "execute_result"
    }
   ],
   "source": [
    "# These sets have no elements in common so it would return True\n",
    "dataScientist.isdisjoint(graphicDesigner)"
   ]
  },
  {
   "cell_type": "markdown",
   "id": "running-cycle",
   "metadata": {},
   "source": [
    "##### difference\n",
    "\n",
    "A difference of two sets dataScientist and dataEngineer, denoted dataScientist \\ dataEngineer, is the set of all values of dataScientist that are not values of dataEngineer."
   ]
  },
  {
   "cell_type": "code",
   "execution_count": 35,
   "id": "unlimited-parallel",
   "metadata": {},
   "outputs": [
    {
     "data": {
      "text/plain": [
       "{'R', 'SAS', 'Tableau'}"
      ]
     },
     "execution_count": 35,
     "metadata": {},
     "output_type": "execute_result"
    }
   ],
   "source": [
    "# Difference Operation\n",
    "dataScientist.difference(dataEngineer)\n"
   ]
  },
  {
   "cell_type": "code",
   "execution_count": 36,
   "id": "southwest-welding",
   "metadata": {},
   "outputs": [
    {
     "data": {
      "text/plain": [
       "{'R', 'SAS', 'Tableau'}"
      ]
     },
     "execution_count": 36,
     "metadata": {},
     "output_type": "execute_result"
    }
   ],
   "source": [
    "# Equivalent Result\n",
    "dataScientist - dataEngineer"
   ]
  },
  {
   "cell_type": "markdown",
   "id": "interested-shopping",
   "metadata": {},
   "source": [
    "##### symmetric_difference\n",
    "A symmetric difference of two sets dataScientist and dataEngineer, denoted dataScientist △ dataEngineer, is the set of all values that are values of exactly one of two sets, but not both.  In other words, the symmetric_difference will combine both set elements without common elements.\n",
    "\n",
    "(a union b) - (a intersection b)"
   ]
  },
  {
   "cell_type": "code",
   "execution_count": 37,
   "id": "female-withdrawal",
   "metadata": {},
   "outputs": [
    {
     "data": {
      "text/plain": [
       "{'Hadoop', 'Java', 'R', 'SAS', 'Scala', 'Tableau'}"
      ]
     },
     "execution_count": 37,
     "metadata": {},
     "output_type": "execute_result"
    }
   ],
   "source": [
    "# Symmetric Difference Operation\n",
    "dataScientist.symmetric_difference(dataEngineer)\n",
    "\n"
   ]
  },
  {
   "cell_type": "code",
   "execution_count": 38,
   "id": "selected-place",
   "metadata": {},
   "outputs": [
    {
     "data": {
      "text/plain": [
       "{'Hadoop', 'Java', 'R', 'SAS', 'Scala', 'Tableau'}"
      ]
     },
     "execution_count": 38,
     "metadata": {},
     "output_type": "execute_result"
    }
   ],
   "source": [
    "# Equivalent Result\n",
    "dataScientist ^ dataEngineer"
   ]
  },
  {
   "cell_type": "markdown",
   "id": "massive-template",
   "metadata": {},
   "source": [
    "### Set Comprehension"
   ]
  },
  {
   "cell_type": "code",
   "execution_count": 39,
   "id": "according-division",
   "metadata": {},
   "outputs": [
    {
     "data": {
      "text/plain": [
       "{'PYTHON', 'SQL'}"
      ]
     },
     "execution_count": 39,
     "metadata": {},
     "output_type": "execute_result"
    }
   ],
   "source": [
    "{skill for skill in ['SQL', 'SQL', 'PYTHON', 'PYTHON']}"
   ]
  },
  {
   "cell_type": "code",
   "execution_count": 40,
   "id": "looking-candidate",
   "metadata": {},
   "outputs": [
    {
     "data": {
      "text/plain": [
       "{'SQL'}"
      ]
     },
     "execution_count": 40,
     "metadata": {},
     "output_type": "execute_result"
    }
   ],
   "source": [
    "{skill for skill in ['GIT', 'PYTHON', 'SQL'] if skill not in {'GIT', 'PYTHON', 'JAVA'}}"
   ]
  },
  {
   "cell_type": "code",
   "execution_count": 41,
   "id": "developed-training",
   "metadata": {},
   "outputs": [
    {
     "data": {
      "text/plain": [
       "True"
      ]
     },
     "execution_count": 41,
     "metadata": {},
     "output_type": "execute_result"
    }
   ],
   "source": [
    "# Initialize a list\n",
    "possibleList = ['Python', 'R', 'SQL', 'Git', 'Tableau', 'SAS', 'Java', 'Spark', 'Scala']\n",
    "\n",
    "# Membership test\n",
    "'Python' in possibleList"
   ]
  },
  {
   "cell_type": "code",
   "execution_count": 42,
   "id": "demographic-termination",
   "metadata": {},
   "outputs": [
    {
     "data": {
      "text/plain": [
       "True"
      ]
     },
     "execution_count": 42,
     "metadata": {},
     "output_type": "execute_result"
    }
   ],
   "source": [
    "# Initialize a set\n",
    "possibleSet = {'Python', 'R', 'SQL', 'Git', 'Tableau', 'SAS', 'Java', 'Spark', 'Scala'}\n",
    "\n",
    "# Membership test\n",
    "'Python' in possibleSet"
   ]
  },
  {
   "cell_type": "markdown",
   "id": "minus-nature",
   "metadata": {},
   "source": [
    "#### issubset"
   ]
  },
  {
   "cell_type": "code",
   "execution_count": 9,
   "id": "suspected-landscape",
   "metadata": {},
   "outputs": [],
   "source": [
    "possibleSkills = {'Python', 'R', 'SQL', 'Git', 'Tableau', 'SAS'}\n",
    "mySkills = {'Python', 'R'}"
   ]
  },
  {
   "cell_type": "code",
   "execution_count": 10,
   "id": "vocational-sentence",
   "metadata": {},
   "outputs": [
    {
     "data": {
      "text/plain": [
       "True"
      ]
     },
     "execution_count": 10,
     "metadata": {},
     "output_type": "execute_result"
    }
   ],
   "source": [
    "mySkills.issubset(possibleSkills)"
   ]
  },
  {
   "cell_type": "markdown",
   "id": "proper-omega",
   "metadata": {},
   "source": [
    "If all the elements of subset is present in parent set, then it will return true.  Otherwise it will return false."
   ]
  },
  {
   "cell_type": "code",
   "execution_count": 11,
   "id": "endless-constraint",
   "metadata": {},
   "outputs": [],
   "source": [
    "possibleSkills = {'Python', 'R', 'SQL', 'Git', 'Tableau', 'SAS'}\n",
    "mySkills = {'Python', 'R','Power BI'}"
   ]
  },
  {
   "cell_type": "code",
   "execution_count": 12,
   "id": "dynamic-packaging",
   "metadata": {},
   "outputs": [
    {
     "data": {
      "text/plain": [
       "False"
      ]
     },
     "execution_count": 12,
     "metadata": {},
     "output_type": "execute_result"
    }
   ],
   "source": [
    "## It will return False since the subset mySkills has an extra element which is not present in parent set.\n",
    "mySkills.issubset(possibleSkills)"
   ]
  },
  {
   "cell_type": "code",
   "execution_count": null,
   "id": "optimum-exploration",
   "metadata": {},
   "outputs": [],
   "source": []
  }
 ],
 "metadata": {
  "kernelspec": {
   "display_name": "Python 3 (ipykernel)",
   "language": "python",
   "name": "python3"
  },
  "language_info": {
   "codemirror_mode": {
    "name": "ipython",
    "version": 3
   },
   "file_extension": ".py",
   "mimetype": "text/x-python",
   "name": "python",
   "nbconvert_exporter": "python",
   "pygments_lexer": "ipython3",
   "version": "3.8.8"
  }
 },
 "nbformat": 4,
 "nbformat_minor": 5
}
