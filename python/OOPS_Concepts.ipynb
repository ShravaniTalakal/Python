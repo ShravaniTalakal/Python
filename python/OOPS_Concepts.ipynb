{
 "cells": [
  {
   "cell_type": "markdown",
   "id": "a28a817a",
   "metadata": {},
   "source": [
    "## Class and Instance\n"
   ]
  },
  {
   "cell_type": "code",
   "execution_count": 1,
   "id": "604ec5c3",
   "metadata": {},
   "outputs": [],
   "source": [
    "# Class Definition\n",
    "class Customer:\n",
    "    ## Defining Methods\n",
    "    def set_name(self, name):\n",
    "        self.name = name #  Property or Attribute\n",
    "        \n",
    "    def set_phoneno(self, phoneno):\n",
    "        self.phoneno = phoneno # Property or Attribute\n",
    "        \n",
    "    def print_customer(self):\n",
    "        print(\"The Customer Name is {} and his contact number is {}\".format(self.name, self.phoneno))"
   ]
  },
  {
   "cell_type": "code",
   "execution_count": 2,
   "id": "3907570a",
   "metadata": {},
   "outputs": [
    {
     "name": "stdout",
     "output_type": "stream",
     "text": [
      "The Customer Name is Shanmugam and his contact number is 9845036391\n"
     ]
    }
   ],
   "source": [
    "# Creating Customer Instance\n",
    "c1 = Customer() # c1 is the instance of class Customer\n",
    "\n",
    "## Calling object methods to set the properties\n",
    "c1.set_name(\"Shanmugam\")\n",
    "c1.set_phoneno(9845036391)\n",
    "c1.print_customer()"
   ]
  },
  {
   "cell_type": "code",
   "execution_count": 4,
   "id": "e1206eb5",
   "metadata": {},
   "outputs": [
    {
     "name": "stdout",
     "output_type": "stream",
     "text": [
      "The Customer Name is Anand and his contact number is 1234567890\n",
      "The Customer Name is Shanmugam and his contact number is 9845036391\n"
     ]
    }
   ],
   "source": [
    "c2 = Customer()\n",
    "c2.set_name('Anand')\n",
    "c2.set_phoneno(1234567890)\n",
    "c2.print_customer()\n",
    "c1.print_customer()"
   ]
  },
  {
   "cell_type": "code",
   "execution_count": 10,
   "id": "bcbd509e",
   "metadata": {},
   "outputs": [],
   "source": [
    "class Car:\n",
    "    def set_driver_name(self,name):\n",
    "        self.name = name\n",
    "    \n",
    "    def set_speed(self, speed):\n",
    "        self.speed = speed\n",
    "        \n",
    "    def is_car_speeding(self):\n",
    "        if self.speed <= 70:\n",
    "            print(\"{0} driving at normal speed\".format(self.name))\n",
    "        else:\n",
    "            print(\"{0} driving at over speed\".format(self.name))"
   ]
  },
  {
   "cell_type": "code",
   "execution_count": 11,
   "id": "4472df71",
   "metadata": {},
   "outputs": [
    {
     "name": "stdout",
     "output_type": "stream",
     "text": [
      "Anand driving at normal speed\n",
      "Akshay driving at over speed\n"
     ]
    }
   ],
   "source": [
    "car1 = Car()\n",
    "car1.set_driver_name('Anand')\n",
    "car1.set_speed(65)\n",
    "car1.is_car_speeding()\n",
    "\n",
    "car2 = Car()\n",
    "car2.set_driver_name('Akshay')\n",
    "car2.set_speed(80)\n",
    "car2.is_car_speeding()"
   ]
  },
  {
   "cell_type": "code",
   "execution_count": 16,
   "id": "59479012",
   "metadata": {},
   "outputs": [],
   "source": [
    "class Car:\n",
    "    ## Class level variable\n",
    "    PERM_SPEED = 70\n",
    "    def __init__(self, name, speed):\n",
    "        self.name = name\n",
    "        self.speed = speed\n",
    "        \n",
    "    def print_perm_speed(self):\n",
    "        print(\"The Permissible Speed for this region is {0}\".format(Car.PERM_SPEED))\n",
    "        \n",
    "    def is_car_speeding(self):\n",
    "        if self.speed <= Car.PERM_SPEED:\n",
    "            print(\"{0} driving at normal speed\".format(self.name))\n",
    "        else:\n",
    "            print(\"{0} driving at over speed\".format(self.name))"
   ]
  },
  {
   "cell_type": "code",
   "execution_count": 17,
   "id": "85d847af",
   "metadata": {},
   "outputs": [
    {
     "name": "stdout",
     "output_type": "stream",
     "text": [
      "The Permissible Speed for this region is 70\n",
      "Anand driving at normal speed\n",
      "The Permissible Speed for this region is 70\n",
      "Akshay driving at over speed\n"
     ]
    }
   ],
   "source": [
    "car1 = Car('Anand', 70)\n",
    "car1.print_perm_speed()\n",
    "car1.is_car_speeding()\n",
    "\n",
    "car2 = Car('Akshay', 100)\n",
    "car2.print_perm_speed()\n",
    "car2.is_car_speeding()"
   ]
  },
  {
   "cell_type": "markdown",
   "id": "dc6d061b",
   "metadata": {},
   "source": [
    "### Class with Constructor\n",
    "Constructors will help us to initialize the object variables"
   ]
  },
  {
   "cell_type": "code",
   "execution_count": 92,
   "id": "61ad1a26",
   "metadata": {},
   "outputs": [],
   "source": [
    "# Class with Constructor\n",
    "class Customer:\n",
    "    ## Constructor method\n",
    "    def __init__(self, name, phoneno):\n",
    "        self.name = name #  Property or Attribute    \n",
    "        self.phoneno = phoneno # Property or Attribute        \n",
    "        \n",
    "    ## Defining Methods\n",
    "    def set_name(self, name):\n",
    "        self.name = name #  Property or Attribute\n",
    "        \n",
    "    def set_phoneno(self, phoneno):\n",
    "        self.phoneno = phoneno # Property or Attribute\n",
    "        \n",
    "    def print_customer(self):\n",
    "        print(\"The Customer Name is {} and his contact number is {}\".format(self.name, self.phoneno))"
   ]
  },
  {
   "cell_type": "code",
   "execution_count": 93,
   "id": "e64216d8",
   "metadata": {},
   "outputs": [
    {
     "name": "stdout",
     "output_type": "stream",
     "text": [
      "Shanmukgam\n",
      "The Customer Name is Shanmukgam and his contact number is 9845036391\n"
     ]
    }
   ],
   "source": [
    "## Creating Customer Instance using Constructor\n",
    "c1 = Customer(\"Shanmukgam\", 9845036391)\n",
    "print(c1.name)\n",
    "c1.print_customer()"
   ]
  },
  {
   "cell_type": "markdown",
   "id": "13652598",
   "metadata": {},
   "source": [
    "### Class Level Attributes\n",
    "Class level attributes is like a global variable for the class."
   ]
  },
  {
   "cell_type": "code",
   "execution_count": 11,
   "id": "c1b2cbfc",
   "metadata": {},
   "outputs": [],
   "source": [
    "class Employee:\n",
    "    \n",
    "    # Class Level variable\n",
    "    MIN_SALARY = 30000\n",
    "    \n",
    "    # Constructor Method\n",
    "    def __init__(self,name, salary):\n",
    "        self.name = name\n",
    "        # Classname.variable Name should be used for Classlevel variables\n",
    "        if (salary > 0 and salary > Employee.MIN_SALARY):\n",
    "            self.salary = salary\n",
    "        else:\n",
    "            print(\"Salary set to {} since the given salary is less than Minimum Salary\".format(Employee.MIN_SALARY))\n",
    "            self.salary = Employee.MIN_SALARY\n",
    "\n",
    "    def print_emp(self):\n",
    "        print(\"The Employee name is {}, and his salary is {}\".format(self.name, self.salary))\n"
   ]
  },
  {
   "cell_type": "code",
   "execution_count": 12,
   "id": "b42ddb40",
   "metadata": {},
   "outputs": [
    {
     "name": "stdout",
     "output_type": "stream",
     "text": [
      "Salary set to 30000 since the given salary is less than Minimum Salary\n",
      "The Employee name is Anand, and his salary is 30000\n",
      "None\n",
      "The Employee name is Akshay, and his salary is 50000\n",
      "None\n"
     ]
    }
   ],
   "source": [
    "e1 = Employee(\"Anand\",20000)\n",
    "print(e1.print_emp())\n",
    "e2 = Employee(\"Akshay\",50000)\n",
    "print(e2.print_emp())"
   ]
  },
  {
   "cell_type": "markdown",
   "id": "ab9743d9",
   "metadata": {},
   "source": [
    "### Class Methods\n",
    "\n",
    "Class methods will help us to create alternate constructors."
   ]
  },
  {
   "cell_type": "code",
   "execution_count": 36,
   "id": "a00947c2",
   "metadata": {},
   "outputs": [],
   "source": [
    "# Importing Date from Datetime Package\n",
    "from datetime import date\n",
    "\n",
    "# random Person\n",
    "class Person:\n",
    "    def __init__(self, name, age):\n",
    "        self.name = name\n",
    "        self.age = age\n",
    "\n",
    "    @classmethod\n",
    "    def fromBirthYear(cls, name, birthYear):\n",
    "        return cls(name, date.today().year - birthYear)\n",
    "\n",
    "    def display(self):\n",
    "        print(self.name + \"'s age is: \" + str(self.age))\n",
    "\n"
   ]
  },
  {
   "cell_type": "code",
   "execution_count": 39,
   "id": "7959aa8c",
   "metadata": {},
   "outputs": [
    {
     "name": "stdout",
     "output_type": "stream",
     "text": [
      "Adam's age is: 19\n",
      "John's age is: 36\n",
      "Amy's age is: 45\n"
     ]
    }
   ],
   "source": [
    "## Instantiating a person Instance with COnstructor\n",
    "person = Person('Adam', 19)\n",
    "person.display()\n",
    "\n",
    "## Instantiating a person instance with class method\n",
    "person1 = Person.fromBirthYear('John',  1985)\n",
    "person1.display()\n",
    "\n",
    "person2 = Person.fromBirthYear('Amy',1976)\n",
    "person2.display()"
   ]
  },
  {
   "cell_type": "markdown",
   "id": "c8791d14",
   "metadata": {},
   "source": [
    "## Class Inheritance\n",
    "\n",
    "Inheritance is the procedure in which one class inherits the attributes and methods of another class.  The class whose properties and methods are inherited is known as Parent class. And the class that inherits the properties from the parent class is the Child class. Inheritance will help us to create drived classes from Parent class with additional functionalities."
   ]
  },
  {
   "cell_type": "code",
   "execution_count": 23,
   "id": "bb57b3aa",
   "metadata": {},
   "outputs": [],
   "source": [
    "class Employee:\n",
    "    MIN_SALARY = 30000\n",
    "\n",
    "    def __init__(self, name, salary=MIN_SALARY):\n",
    "        self.name = name\n",
    "        if salary >= Employee.MIN_SALARY:\n",
    "            self.salary = salary\n",
    "        else:\n",
    "            self.salary = Employee.MIN_SALARY\n",
    "\n",
    "    def give_raise(self, amount):\n",
    "        self.salary += amount\n",
    "\n",
    "# Define a new class Manager inheriting from Employee\n",
    "class Manager(Employee):\n",
    "    def print_manager(self):\n",
    "        print(\"{0} and his salary is {1}\".format(self.name, self.salary))\n",
    "\n"
   ]
  },
  {
   "cell_type": "code",
   "execution_count": 28,
   "id": "a94da135",
   "metadata": {},
   "outputs": [
    {
     "name": "stdout",
     "output_type": "stream",
     "text": [
      "Debbie Lashko\n",
      "86500\n",
      "96500\n",
      "Debbie Lashko and his salary is 96500\n",
      "John and his salary is 30000\n"
     ]
    }
   ],
   "source": [
    "# Define a Manager object\n",
    "mng = Manager(\"Debbie Lashko\", 86500)\n",
    "\n",
    "# Print mng's name\n",
    "print(mng.name)\n",
    "print(mng.salary)\n",
    "\n",
    "mng.give_raise(10000)\n",
    "print(mng.salary)\n",
    "\n",
    "mng.print_manager()\n",
    "\n",
    "emp = Employee('John',20000)\n",
    "print(\"{0} and his salary is {1}\".format(emp.name,emp.salary))"
   ]
  },
  {
   "cell_type": "code",
   "execution_count": 34,
   "id": "55278fc9",
   "metadata": {},
   "outputs": [],
   "source": [
    "class Employee:\n",
    "    def __init__(self, name, salary=30000):\n",
    "        self.name = name\n",
    "        self.salary = salary\n",
    "\n",
    "    def give_raise(self, amount):\n",
    "        self.salary += amount\n",
    "        \n",
    "# Creating Manager Class inheriting Employee Class\n",
    "class Manager(Employee):\n",
    "\n",
    "    def __init__(self, name, salary=50000, project=None):\n",
    "        Employee.__init__(self, name, salary)\n",
    "        self.project = project\n",
    "        \n",
    "    def display(self):\n",
    "        print(\"Manager \", self.name)        \n",
    "\n",
    "    # Add a give_raise method\n",
    "    def give_raise(self, amount, bonus=1.05):\n",
    "        Employee.give_raise(self, amount * bonus)\n",
    "\n",
    "# Creating Team Lead Class inheriting Employee Class\n",
    "class TeamLead(Employee):\n",
    "\n",
    "    def __init__(self, name, salary):\n",
    "        Employee.__init__(self, name, salary)\n",
    "        \n",
    "    def display(self):\n",
    "        print(\"Team Lead \", self.name)        \n"
   ]
  },
  {
   "cell_type": "code",
   "execution_count": 35,
   "id": "5498347d",
   "metadata": {},
   "outputs": [
    {
     "name": "stdout",
     "output_type": "stream",
     "text": [
      "79550.0\n",
      "81610.0\n",
      "Team Lead  John\n",
      "Amy 30000\n",
      "\n",
      "The Team Lead John's new salary is 63000.\n"
     ]
    }
   ],
   "source": [
    "## Creating Manager Instance\n",
    "mngr = Manager(\"Ashta Dunbar\", 78500)\n",
    "mngr.give_raise(1000)\n",
    "print(mngr.salary)\n",
    "mngr.give_raise(2000, bonus=1.03)\n",
    "print(mngr.salary)\n",
    "\n",
    "## Creating TeamLead Instance\n",
    "tl = TeamLead(\"John\",60000)\n",
    "tl.display()\n",
    "\n",
    "t2 = Employee('Amy')\n",
    "print(t2.name, t2.salary)\n",
    "\n",
    "## Giving raise to TeamLead\n",
    "tl.give_raise(3000)  ## Calling parent class method.\n",
    "\n",
    "## Printing Team Leads new Salary\n",
    "print(\"\\nThe Team Lead {}'s new salary is {}.\".format(tl.name, tl.salary))"
   ]
  },
  {
   "cell_type": "markdown",
   "id": "673b2e7c",
   "metadata": {},
   "source": [
    "## Polymorphism\n",
    "Polymorphism means having many forms. In OOP it refers to the functions having the same names but carrying different functionalities."
   ]
  },
  {
   "cell_type": "code",
   "execution_count": 29,
   "id": "9260fa2c",
   "metadata": {},
   "outputs": [],
   "source": [
    "class Customer:\n",
    "    def __init__(self, id, name):\n",
    "        self.id = id\n",
    "        self.name = name\n"
   ]
  },
  {
   "cell_type": "code",
   "execution_count": 30,
   "id": "ab17cca9",
   "metadata": {},
   "outputs": [
    {
     "name": "stdout",
     "output_type": "stream",
     "text": [
      "False\n"
     ]
    }
   ],
   "source": [
    "c1 = Customer(1, 'Shan')\n",
    "c2 = Customer(1, 'Shan')\n",
    "print(c1 == c2)"
   ]
  },
  {
   "cell_type": "code",
   "execution_count": 31,
   "id": "b215400b",
   "metadata": {},
   "outputs": [
    {
     "name": "stdout",
     "output_type": "stream",
     "text": [
      "<__main__.Customer object at 0x0000026B61AC5370>\n",
      "<__main__.Customer object at 0x0000026B61AC50D0>\n"
     ]
    }
   ],
   "source": [
    "print(c1)\n",
    "print(c2)"
   ]
  },
  {
   "cell_type": "markdown",
   "id": "99eb5089",
   "metadata": {},
   "source": [
    "The output was false, because both instances have different memory addresses.  So, it can be solved by operator (__eq__) overloading.  When we compare two objects with same properties using (==), the method __eq__ will be called."
   ]
  },
  {
   "cell_type": "code",
   "execution_count": 32,
   "id": "338746d6",
   "metadata": {},
   "outputs": [],
   "source": [
    "class Customer:\n",
    "    def __init__(self, id, name):\n",
    "        self.id = id\n",
    "        self.name = name\n",
    "\n",
    "    def __eq__(self, other):\n",
    "        print(\"__eq__ operator is called!\")\n",
    "        return (self.id == other.id and self.name == other.name)\n"
   ]
  },
  {
   "cell_type": "code",
   "execution_count": 33,
   "id": "e092c839",
   "metadata": {},
   "outputs": [
    {
     "name": "stdout",
     "output_type": "stream",
     "text": [
      "__eq__ operator is called!\n",
      "True\n",
      "__eq__ operator is called!\n",
      "False\n"
     ]
    }
   ],
   "source": [
    "c1 = Customer(1, 'Shan')\n",
    "c2 = Customer(1, 'Shan')\n",
    "print(c1 == c2)\n",
    "\n",
    "c3 = Customer(2, \"Anand\")\n",
    "print(c1 == c3)"
   ]
  },
  {
   "cell_type": "markdown",
   "id": "30715a84",
   "metadata": {},
   "source": [
    "Objects c1 and c2 have same properties, so it returned True where as object c1 and c3 have different properties, it returned False."
   ]
  },
  {
   "cell_type": "markdown",
   "id": "511bb6ad",
   "metadata": {},
   "source": [
    "## Inheritance and Comparision"
   ]
  },
  {
   "cell_type": "code",
   "execution_count": 40,
   "id": "f75477a4",
   "metadata": {},
   "outputs": [],
   "source": [
    "class Parent:\n",
    "    def __eq__(self, other):\n",
    "        print(\"Parent's __eq__() called\")\n",
    "        return True\n",
    "\n",
    "class Child(Parent):\n",
    "    def __eq__(self, other):\n",
    "        print(\"Child's __eq__() called\")\n",
    "        return True\n",
    "\n"
   ]
  },
  {
   "cell_type": "code",
   "execution_count": 45,
   "id": "1903f80d",
   "metadata": {},
   "outputs": [
    {
     "name": "stdout",
     "output_type": "stream",
     "text": [
      "Child's __eq__() called\n",
      "True\n"
     ]
    }
   ],
   "source": [
    "# Creating parent and child instances and comparing both.\n",
    "p = Parent()\n",
    "c = Child()\n",
    "print(p == c)"
   ]
  },
  {
   "cell_type": "markdown",
   "id": "c8183d68",
   "metadata": {},
   "source": [
    "When Parent and Child have same methods, Child method is always called.\n",
    "\n",
    "### Operator Overloading: String Representation\n"
   ]
  },
  {
   "cell_type": "code",
   "execution_count": 48,
   "id": "e7afa99c",
   "metadata": {},
   "outputs": [],
   "source": [
    "class Customer:\n",
    "    def __init__(self, id, name):\n",
    "        self.id = id\n",
    "        self.name = name\n",
    "\n",
    "    def __str__(self):\n",
    "        cust_str = \"\"\"\n",
    "        Customer :\n",
    "            ID: {id}\n",
    "            Name: {name}\n",
    "            \"\"\".format(id = self.id, name = self.name)\n",
    "        return cust_str\n"
   ]
  },
  {
   "cell_type": "code",
   "execution_count": 49,
   "id": "d9acd905",
   "metadata": {},
   "outputs": [
    {
     "name": "stdout",
     "output_type": "stream",
     "text": [
      "\n",
      "        Customer :\n",
      "            ID: 1\n",
      "            Name: Shan\n",
      "            \n",
      "\n",
      "        Customer :\n",
      "            ID: 1\n",
      "            Name: Shan\n",
      "            \n"
     ]
    }
   ],
   "source": [
    "## Creating customer instance\n",
    "c1 = Customer(1, 'Shan')\n",
    "print(c1)\n",
    "print(str(c1))"
   ]
  },
  {
   "cell_type": "code",
   "execution_count": 63,
   "id": "3947ac4a",
   "metadata": {},
   "outputs": [],
   "source": [
    "class Customer:\n",
    "    def __init__(self, id, name):\n",
    "        self.id = id\n",
    "        self.name = name \n",
    "\n",
    "    def __repr__(self):\n",
    "        return \"Customer({id}, '{name}')\".format(id = self.id, name = self.name)"
   ]
  },
  {
   "cell_type": "code",
   "execution_count": 64,
   "id": "c6dd5705",
   "metadata": {},
   "outputs": [
    {
     "name": "stdout",
     "output_type": "stream",
     "text": [
      "Customer(1, 'Anand')\n"
     ]
    }
   ],
   "source": [
    "c1 = Customer(1, \"Anand\")\n",
    "print(c1)"
   ]
  },
  {
   "cell_type": "code",
   "execution_count": 61,
   "id": "4a30a4c5",
   "metadata": {},
   "outputs": [],
   "source": [
    "class Customer:\n",
    "    def __init__(self, id, name):\n",
    "        self.id = id\n",
    "        self.name = name\n",
    "        \n",
    "    def __str__(self):\n",
    "        cust_str = \"\"\"Customer :\\n\\tID: {id}\\n\\tName: {name}\\n\"\"\".format(id = self.id, name = self.name)\n",
    "        return cust_str        \n",
    "\n",
    "    def __repr__(self):\n",
    "        return \"Customer({id}, '{name}')\".format(id = self.id, name = self.name)\n"
   ]
  },
  {
   "cell_type": "code",
   "execution_count": 62,
   "id": "050d39f9",
   "metadata": {},
   "outputs": [
    {
     "name": "stdout",
     "output_type": "stream",
     "text": [
      "Customer :\n",
      "\tID: 1\n",
      "\tName: Shan\n",
      "\n",
      "Customer(1, 'Shan')\n"
     ]
    }
   ],
   "source": [
    "## Creating customer instance\n",
    "c1 = Customer(1, 'Shan')\n",
    "print(c1)\n",
    "print(repr(c1))"
   ]
  },
  {
   "cell_type": "markdown",
   "id": "9979d6cb",
   "metadata": {},
   "source": [
    "When both __str__ and __repr__ is available in the same class, the print statement uses __str__ method to print the object.\n",
    "\n",
    "## Exception Handling"
   ]
  },
  {
   "cell_type": "code",
   "execution_count": 71,
   "id": "354039b3",
   "metadata": {},
   "outputs": [],
   "source": [
    "def invert_at_index(x, ind):\n",
    "    try:\n",
    "        return 1 / x[ind]\n",
    "    except ZeroDivisionError:\n",
    "        print(\"Cannot divide by zero!\")\n",
    "    except IndexError:\n",
    "        print(\"Index out of range!\")\n"
   ]
  },
  {
   "cell_type": "code",
   "execution_count": 72,
   "id": "36d0f3e4",
   "metadata": {},
   "outputs": [
    {
     "name": "stdout",
     "output_type": "stream",
     "text": [
      "0.16666666666666666\n",
      "Cannot divide by zero!\n",
      "None\n",
      "Index out of range!\n",
      "None\n"
     ]
    }
   ],
   "source": [
    "a = [5, 6, 0, 7]\n",
    "\n",
    "# Works okay\n",
    "print(invert_at_index(a, 1))\n",
    "\n",
    "# Potential ZeroDivisionError\n",
    "print(invert_at_index(a, 2))\n",
    "\n",
    "# Potential IndexError\n",
    "print(invert_at_index(a, 5))"
   ]
  },
  {
   "cell_type": "markdown",
   "id": "188af6ea",
   "metadata": {},
   "source": [
    "### Custom Exceptions"
   ]
  },
  {
   "cell_type": "code",
   "execution_count": 75,
   "id": "f471ba8c",
   "metadata": {},
   "outputs": [],
   "source": [
    "class SalaryError(ValueError): pass\n",
    "class BonusError(SalaryError): pass\n",
    "\n",
    "class Employee:\n",
    "    MIN_SALARY = 30000\n",
    "    MAX_BONUS = 5000\n",
    "\n",
    "    # Constructor\n",
    "    def __init__(self,name, salary):\n",
    "        self.name = name\n",
    "        if salary < Employee.MIN_SALARY:\n",
    "            raise SalaryError(\"Salary is too low!\")\n",
    "        self.salary = salary\n",
    "\n",
    "    # using exceptions\n",
    "    def give_bonus(self, amount):\n",
    "        if amount > Employee.MAX_BONUS:\n",
    "            raise BonusError(\"The bonus amount is too high!\")\n",
    "        elif self.salary + amount < Employee.MIN_SALARY:\n",
    "            raise SalaryError(\"The salary after bonus is too low!\")\n",
    "        else:\n",
    "            self.salary += amount\n"
   ]
  },
  {
   "cell_type": "code",
   "execution_count": 77,
   "id": "2c848cad",
   "metadata": {},
   "outputs": [
    {
     "name": "stdout",
     "output_type": "stream",
     "text": [
      "SalaryError caught!\n",
      "BonusError caught!\n",
      "SalaryError caught again!\n"
     ]
    },
    {
     "ename": "SalaryError",
     "evalue": "The salary after bonus is too low!",
     "output_type": "error",
     "traceback": [
      "\u001b[1;31m---------------------------------------------------------------------------\u001b[0m",
      "\u001b[1;31mSalaryError\u001b[0m                               Traceback (most recent call last)",
      "\u001b[1;32m<ipython-input-77-fe44479957ce>\u001b[0m in \u001b[0;36m<module>\u001b[1;34m\u001b[0m\n\u001b[0;32m     16\u001b[0m \u001b[1;33m\u001b[0m\u001b[0m\n\u001b[0;32m     17\u001b[0m \u001b[1;32mtry\u001b[0m\u001b[1;33m:\u001b[0m\u001b[1;33m\u001b[0m\u001b[1;33m\u001b[0m\u001b[0m\n\u001b[1;32m---> 18\u001b[1;33m   \u001b[0memp\u001b[0m\u001b[1;33m.\u001b[0m\u001b[0mgive_bonus\u001b[0m\u001b[1;33m(\u001b[0m\u001b[1;33m-\u001b[0m\u001b[1;36m100000\u001b[0m\u001b[1;33m)\u001b[0m\u001b[1;33m\u001b[0m\u001b[1;33m\u001b[0m\u001b[0m\n\u001b[0m\u001b[0;32m     19\u001b[0m \u001b[1;32mexcept\u001b[0m \u001b[0mBonusError\u001b[0m\u001b[1;33m:\u001b[0m\u001b[1;33m\u001b[0m\u001b[1;33m\u001b[0m\u001b[0m\n\u001b[0;32m     20\u001b[0m   \u001b[0mprint\u001b[0m\u001b[1;33m(\u001b[0m\u001b[1;34m\"BonusError caught again!\"\u001b[0m\u001b[1;33m)\u001b[0m\u001b[1;33m\u001b[0m\u001b[1;33m\u001b[0m\u001b[0m\n",
      "\u001b[1;32m<ipython-input-75-904ef2059509>\u001b[0m in \u001b[0;36mgive_bonus\u001b[1;34m(self, amount)\u001b[0m\n\u001b[0;32m     18\u001b[0m             \u001b[1;32mraise\u001b[0m \u001b[0mBonusError\u001b[0m\u001b[1;33m(\u001b[0m\u001b[1;34m\"The bonus amount is too high!\"\u001b[0m\u001b[1;33m)\u001b[0m\u001b[1;33m\u001b[0m\u001b[1;33m\u001b[0m\u001b[0m\n\u001b[0;32m     19\u001b[0m         \u001b[1;32melif\u001b[0m \u001b[0mself\u001b[0m\u001b[1;33m.\u001b[0m\u001b[0msalary\u001b[0m \u001b[1;33m+\u001b[0m \u001b[0mamount\u001b[0m \u001b[1;33m<\u001b[0m \u001b[0mEmployee\u001b[0m\u001b[1;33m.\u001b[0m\u001b[0mMIN_SALARY\u001b[0m\u001b[1;33m:\u001b[0m\u001b[1;33m\u001b[0m\u001b[1;33m\u001b[0m\u001b[0m\n\u001b[1;32m---> 20\u001b[1;33m             \u001b[1;32mraise\u001b[0m \u001b[0mSalaryError\u001b[0m\u001b[1;33m(\u001b[0m\u001b[1;34m\"The salary after bonus is too low!\"\u001b[0m\u001b[1;33m)\u001b[0m\u001b[1;33m\u001b[0m\u001b[1;33m\u001b[0m\u001b[0m\n\u001b[0m\u001b[0;32m     21\u001b[0m         \u001b[1;32melse\u001b[0m\u001b[1;33m:\u001b[0m\u001b[1;33m\u001b[0m\u001b[1;33m\u001b[0m\u001b[0m\n\u001b[0;32m     22\u001b[0m             \u001b[0mself\u001b[0m\u001b[1;33m.\u001b[0m\u001b[0msalary\u001b[0m \u001b[1;33m+=\u001b[0m \u001b[0mamount\u001b[0m\u001b[1;33m\u001b[0m\u001b[1;33m\u001b[0m\u001b[0m\n",
      "\u001b[1;31mSalaryError\u001b[0m: The salary after bonus is too low!"
     ]
    }
   ],
   "source": [
    "emp = Employee(\"Katze Rik\", salary=50000)\n",
    "try:\n",
    "  emp.give_bonus(7000)\n",
    "except SalaryError:\n",
    "  print(\"SalaryError caught!\")\n",
    "\n",
    "try:\n",
    "  emp.give_bonus(7000)\n",
    "except BonusError:\n",
    "  print(\"BonusError caught!\")\n",
    "\n",
    "try:\n",
    "  emp.give_bonus(-100000)\n",
    "except SalaryError:\n",
    "  print(\"SalaryError caught again!\")\n",
    "\n",
    "try:\n",
    "  emp.give_bonus(-100000)\n",
    "except BonusError:\n",
    "  print(\"BonusError caught again!\")"
   ]
  },
  {
   "cell_type": "markdown",
   "id": "7ce3418a",
   "metadata": {},
   "source": [
    "## Data Access"
   ]
  },
  {
   "cell_type": "code",
   "execution_count": 79,
   "id": "b78197d0",
   "metadata": {},
   "outputs": [],
   "source": [
    "# Add class attributes for max number of days and months\n",
    "class BetterDate:\n",
    "    _MAX_DAYS = 30\n",
    "    _MAX_MONTHS = 12\n",
    "\n",
    "    def __init__(self, year, month, day):\n",
    "        self.year, self.month, self.day = year, month, day\n",
    "\n",
    "    @classmethod\n",
    "    def from_str(cls, datestr):\n",
    "        year, month, day = map(int, datestr.split(\"-\"))\n",
    "        return cls(year, month, day)\n",
    "\n",
    "    # Add _is_valid() checking day and month values\n",
    "    def _is_valid(self):\n",
    "        if (self.day <= self._MAX_DAYS and self.month <= self._MAX_MONTHS):\n",
    "            return True\n",
    "        else:\n",
    "            return False\n"
   ]
  },
  {
   "cell_type": "code",
   "execution_count": 80,
   "id": "e3eedc73",
   "metadata": {},
   "outputs": [
    {
     "name": "stdout",
     "output_type": "stream",
     "text": [
      "True\n",
      "False\n",
      "2020 4 12\n",
      "True\n"
     ]
    }
   ],
   "source": [
    "bd1 = BetterDate(2020, 4, 30)\n",
    "print(bd1._is_valid())\n",
    "\n",
    "bd2 = BetterDate(2020, 6, 45)\n",
    "print(bd2._is_valid())\n",
    "\n",
    "bd3 = BetterDate.from_str(\"2020-04-12\")\n",
    "print(bd3.year, bd3.month, bd3.day)\n",
    "print(bd3._is_valid())"
   ]
  },
  {
   "cell_type": "code",
   "execution_count": 81,
   "id": "a00adeac",
   "metadata": {},
   "outputs": [],
   "source": [
    "class Car:\n",
    "\n",
    "    def __init__(self, name, mileage):\n",
    "        self.__name = name              #private variable        \n",
    "        self.mileage = mileage \n",
    "\n",
    "    def description(self):                \n",
    "        return f\"The {self.__name} car gives the mileage of {self.mileage}km/l\""
   ]
  },
  {
   "cell_type": "code",
   "execution_count": 82,
   "id": "fc963033",
   "metadata": {},
   "outputs": [
    {
     "name": "stdout",
     "output_type": "stream",
     "text": [
      "The BMW 7-series car gives the mileage of 39.53km/l\n",
      "39.53\n"
     ]
    },
    {
     "ename": "AttributeError",
     "evalue": "'Car' object has no attribute '__name'",
     "output_type": "error",
     "traceback": [
      "\u001b[1;31m---------------------------------------------------------------------------\u001b[0m",
      "\u001b[1;31mAttributeError\u001b[0m                            Traceback (most recent call last)",
      "\u001b[1;32m<ipython-input-82-6b93afc7f62c>\u001b[0m in \u001b[0;36m<module>\u001b[1;34m\u001b[0m\n\u001b[0;32m      6\u001b[0m \u001b[1;31m#accessing private variable directly from outside\u001b[0m\u001b[1;33m\u001b[0m\u001b[1;33m\u001b[0m\u001b[1;33m\u001b[0m\u001b[0m\n\u001b[0;32m      7\u001b[0m \u001b[0mprint\u001b[0m\u001b[1;33m(\u001b[0m\u001b[0mobj\u001b[0m\u001b[1;33m.\u001b[0m\u001b[0mmileage\u001b[0m\u001b[1;33m)\u001b[0m\u001b[1;33m\u001b[0m\u001b[1;33m\u001b[0m\u001b[0m\n\u001b[1;32m----> 8\u001b[1;33m \u001b[0mprint\u001b[0m\u001b[1;33m(\u001b[0m\u001b[0mobj\u001b[0m\u001b[1;33m.\u001b[0m\u001b[0m__name\u001b[0m\u001b[1;33m)\u001b[0m\u001b[1;33m\u001b[0m\u001b[1;33m\u001b[0m\u001b[0m\n\u001b[0m",
      "\u001b[1;31mAttributeError\u001b[0m: 'Car' object has no attribute '__name'"
     ]
    }
   ],
   "source": [
    "obj = Car(\"BMW 7-series\",39.53)\n",
    "\n",
    "#accessing private variable via class method \n",
    "print(obj.description())\n",
    "\n",
    "#accessing private variable directly from outside\n",
    "print(obj.mileage)\n",
    "print(obj.__name)"
   ]
  },
  {
   "cell_type": "code",
   "execution_count": 83,
   "id": "4cfc799f",
   "metadata": {},
   "outputs": [
    {
     "name": "stdout",
     "output_type": "stream",
     "text": [
      "BMW 7-series\n"
     ]
    }
   ],
   "source": [
    "print(obj._Car__name)"
   ]
  },
  {
   "cell_type": "markdown",
   "id": "b1650644",
   "metadata": {},
   "source": [
    "It's called Name Mangling in Python.  All the private variables can be accessed using the above notation."
   ]
  },
  {
   "cell_type": "code",
   "execution_count": 88,
   "id": "c769a378",
   "metadata": {},
   "outputs": [],
   "source": [
    "class Customer:\n",
    "    def __init__(self, name, new_bal):\n",
    "        self.name = name\n",
    "        if new_bal < 0:\n",
    "           raise ValueError(\"Invalid balance!\")\n",
    "        self._balance = new_bal\n",
    "\n",
    "    # Add a decorated balance() method returning _balance\n",
    "    @property\n",
    "    def balance(self):\n",
    "        return self._balance\n"
   ]
  },
  {
   "cell_type": "code",
   "execution_count": 89,
   "id": "77b3a756",
   "metadata": {},
   "outputs": [
    {
     "ename": "AttributeError",
     "evalue": "can't set attribute",
     "output_type": "error",
     "traceback": [
      "\u001b[1;31m---------------------------------------------------------------------------\u001b[0m",
      "\u001b[1;31mAttributeError\u001b[0m                            Traceback (most recent call last)",
      "\u001b[1;32m<ipython-input-89-e7c75802b5fd>\u001b[0m in \u001b[0;36m<module>\u001b[1;34m\u001b[0m\n\u001b[0;32m      3\u001b[0m \u001b[1;33m\u001b[0m\u001b[0m\n\u001b[0;32m      4\u001b[0m \u001b[1;31m# Assign 3000 to the balance property\u001b[0m\u001b[1;33m\u001b[0m\u001b[1;33m\u001b[0m\u001b[1;33m\u001b[0m\u001b[0m\n\u001b[1;32m----> 5\u001b[1;33m \u001b[0mcust\u001b[0m\u001b[1;33m.\u001b[0m\u001b[0mbalance\u001b[0m \u001b[1;33m=\u001b[0m \u001b[1;36m3000\u001b[0m\u001b[1;33m\u001b[0m\u001b[1;33m\u001b[0m\u001b[0m\n\u001b[0m\u001b[0;32m      6\u001b[0m \u001b[1;33m\u001b[0m\u001b[0m\n\u001b[0;32m      7\u001b[0m \u001b[1;31m# Print the balance property\u001b[0m\u001b[1;33m\u001b[0m\u001b[1;33m\u001b[0m\u001b[1;33m\u001b[0m\u001b[0m\n",
      "\u001b[1;31mAttributeError\u001b[0m: can't set attribute"
     ]
    }
   ],
   "source": [
    "# Create a Customer\n",
    "cust = Customer(\"Belinda Lutz\",2000)\n",
    "\n",
    "# Assign 3000 to the balance property\n",
    "cust.balance = 3000\n",
    "\n",
    "# Print the balance property\n",
    "print(cust.balance)"
   ]
  },
  {
   "cell_type": "code",
   "execution_count": 90,
   "id": "2ae5ad78",
   "metadata": {},
   "outputs": [],
   "source": [
    "class Customer:\n",
    "    def __init__(self, name, new_bal):\n",
    "        self.name = name\n",
    "        if new_bal < 0:\n",
    "           raise ValueError(\"Invalid balance!\")\n",
    "        self._balance = new_bal\n",
    "\n",
    "    # Add a decorated balance() method returning _balance\n",
    "    @property\n",
    "    def balance(self):\n",
    "        return self._balance\n",
    "\n",
    "    # Add a setter balance() method\n",
    "    @balance.setter\n",
    "    def balance(self, new_bal):\n",
    "        # Validate the parameter value\n",
    "        if new_bal < 0:\n",
    "           raise ValueError(\"Invalid balance!\")\n",
    "        self._balance = new_bal\n",
    "        print(\"Setter method called\")\n",
    "\n"
   ]
  },
  {
   "cell_type": "code",
   "execution_count": 91,
   "id": "71c23f55",
   "metadata": {},
   "outputs": [
    {
     "name": "stdout",
     "output_type": "stream",
     "text": [
      "Setter method called\n",
      "3000\n"
     ]
    }
   ],
   "source": [
    "# Create a Customer\n",
    "cust = Customer(\"Belinda Lutz\",2000)\n",
    "\n",
    "# Assign 3000 to the balance property\n",
    "cust.balance = 3000\n",
    "\n",
    "# Print the balance property\n",
    "print(cust.balance)"
   ]
  },
  {
   "cell_type": "code",
   "execution_count": null,
   "id": "d0282399",
   "metadata": {},
   "outputs": [],
   "source": []
  }
 ],
 "metadata": {
  "kernelspec": {
   "display_name": "Python 3",
   "language": "python",
   "name": "python3"
  },
  "language_info": {
   "codemirror_mode": {
    "name": "ipython",
    "version": 3
   },
   "file_extension": ".py",
   "mimetype": "text/x-python",
   "name": "python",
   "nbconvert_exporter": "python",
   "pygments_lexer": "ipython3",
   "version": "3.8.8"
  }
 },
 "nbformat": 4,
 "nbformat_minor": 5
}
