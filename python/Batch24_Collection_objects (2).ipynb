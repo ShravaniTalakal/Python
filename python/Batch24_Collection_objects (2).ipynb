{
 "cells": [
  {
   "cell_type": "markdown",
   "id": "c8c44949",
   "metadata": {},
   "source": [
    "### Python Collection Objects\n",
    "\n",
    "#### Strings"
   ]
  },
  {
   "cell_type": "code",
   "execution_count": 1,
   "id": "f39d9acf",
   "metadata": {},
   "outputs": [
    {
     "name": "stdout",
     "output_type": "stream",
     "text": [
      "<class 'str'>\n"
     ]
    }
   ],
   "source": [
    "str1 = \"Shanmugam\"\n",
    "print(type(str1))"
   ]
  },
  {
   "cell_type": "code",
   "execution_count": 2,
   "id": "b7cd0124",
   "metadata": {},
   "outputs": [
    {
     "name": "stdout",
     "output_type": "stream",
     "text": [
      "9\n"
     ]
    }
   ],
   "source": [
    "## Length of a string.  The len is a built-in function, common for all collection objects\n",
    "print(len(str1))"
   ]
  },
  {
   "cell_type": "code",
   "execution_count": 3,
   "id": "b3808aca",
   "metadata": {},
   "outputs": [
    {
     "name": "stdout",
     "output_type": "stream",
     "text": [
      "S\n"
     ]
    }
   ],
   "source": [
    "print(str1[0])"
   ]
  },
  {
   "cell_type": "code",
   "execution_count": 4,
   "id": "eff39af6",
   "metadata": {},
   "outputs": [
    {
     "name": "stdout",
     "output_type": "stream",
     "text": [
      "S\n",
      "h\n",
      "a\n",
      "n\n",
      "m\n",
      "u\n",
      "g\n",
      "a\n",
      "m\n"
     ]
    }
   ],
   "source": [
    "for ltr in str1:\n",
    "    print(ltr)"
   ]
  },
  {
   "cell_type": "code",
   "execution_count": 7,
   "id": "5de5e67e",
   "metadata": {},
   "outputs": [
    {
     "name": "stdout",
     "output_type": "stream",
     "text": [
      "Index :  0  Character:  S\n",
      "Index :  1  Character:  h\n",
      "Index :  2  Character:  a\n",
      "Index :  3  Character:  n\n",
      "Index :  4  Character:  m\n",
      "Index :  5  Character:  u\n",
      "Index :  6  Character:  g\n",
      "Index :  7  Character:  a\n",
      "Index :  8  Character:  m\n"
     ]
    }
   ],
   "source": [
    "for idx in range(len(str1)):\n",
    "    print(\"Index : \", idx, ' Character: ',str1[idx])"
   ]
  },
  {
   "cell_type": "code",
   "execution_count": 8,
   "id": "750afb1c",
   "metadata": {},
   "outputs": [
    {
     "data": {
      "text/plain": [
       "'Shan'"
      ]
     },
     "execution_count": 8,
     "metadata": {},
     "output_type": "execute_result"
    }
   ],
   "source": [
    "## Slicing\n",
    "str1[0:4]  ## Explicitly giving the starting position"
   ]
  },
  {
   "cell_type": "code",
   "execution_count": 14,
   "id": "06a62adb",
   "metadata": {},
   "outputs": [
    {
     "data": {
      "text/plain": [
       "'Shanm'"
      ]
     },
     "execution_count": 14,
     "metadata": {},
     "output_type": "execute_result"
    }
   ],
   "source": [
    "str1[:5]  ## By default, it will start from the index 0"
   ]
  },
  {
   "cell_type": "code",
   "execution_count": 15,
   "id": "90825791",
   "metadata": {},
   "outputs": [
    {
     "data": {
      "text/plain": [
       "'mugam'"
      ]
     },
     "execution_count": 15,
     "metadata": {},
     "output_type": "execute_result"
    }
   ],
   "source": [
    "str1[4:]  ## By default, it will print from 4th index position to end of the string"
   ]
  },
  {
   "cell_type": "code",
   "execution_count": 17,
   "id": "2f647b07",
   "metadata": {},
   "outputs": [
    {
     "data": {
      "text/plain": [
       "'mu'"
      ]
     },
     "execution_count": 17,
     "metadata": {},
     "output_type": "execute_result"
    }
   ],
   "source": [
    "str1[4:6]  ## Subsetting the string from 4th position till 5th index position"
   ]
  },
  {
   "cell_type": "code",
   "execution_count": 13,
   "id": "f1c9d973",
   "metadata": {},
   "outputs": [
    {
     "name": "stdout",
     "output_type": "stream",
     "text": [
      "Shanmugam\n"
     ]
    },
    {
     "data": {
      "text/plain": [
       "'Sng'"
      ]
     },
     "execution_count": 13,
     "metadata": {},
     "output_type": "execute_result"
    }
   ],
   "source": [
    "print(str1)\n",
    "str1[0:len(str1):3]"
   ]
  },
  {
   "cell_type": "code",
   "execution_count": 18,
   "id": "0a8fd5ed",
   "metadata": {},
   "outputs": [
    {
     "data": {
      "text/plain": [
       "'magumnahS'"
      ]
     },
     "execution_count": 18,
     "metadata": {},
     "output_type": "execute_result"
    }
   ],
   "source": [
    "## Reversing the string\n",
    "str1[::-1]"
   ]
  },
  {
   "cell_type": "code",
   "execution_count": 19,
   "id": "043dbd33",
   "metadata": {},
   "outputs": [
    {
     "data": {
      "text/plain": [
       "'gumnahS'"
      ]
     },
     "execution_count": 19,
     "metadata": {},
     "output_type": "execute_result"
    }
   ],
   "source": [
    "## Reversing the string\n",
    "str1[6::-1]"
   ]
  },
  {
   "cell_type": "code",
   "execution_count": 22,
   "id": "55cc88b2",
   "metadata": {},
   "outputs": [
    {
     "data": {
      "text/plain": [
       "True"
      ]
     },
     "execution_count": 22,
     "metadata": {},
     "output_type": "execute_result"
    }
   ],
   "source": [
    "str1.isalpha()"
   ]
  },
  {
   "cell_type": "code",
   "execution_count": 23,
   "id": "a6f1539c",
   "metadata": {},
   "outputs": [
    {
     "data": {
      "text/plain": [
       "False"
      ]
     },
     "execution_count": 23,
     "metadata": {},
     "output_type": "execute_result"
    }
   ],
   "source": [
    "str2 = 'Shan2'\n",
    "str2.isalpha()"
   ]
  },
  {
   "cell_type": "markdown",
   "id": "5952ca0f",
   "metadata": {},
   "source": [
    "#### String Methods"
   ]
  },
  {
   "cell_type": "code",
   "execution_count": 24,
   "id": "f997906f",
   "metadata": {},
   "outputs": [
    {
     "name": "stdout",
     "output_type": "stream",
     "text": [
      "Shanmugam\n"
     ]
    }
   ],
   "source": [
    "print(str1)"
   ]
  },
  {
   "cell_type": "code",
   "execution_count": 26,
   "id": "5d922824",
   "metadata": {},
   "outputs": [
    {
     "name": "stdout",
     "output_type": "stream",
     "text": [
      "SHANMUGAM\n"
     ]
    }
   ],
   "source": [
    "str2 = str1.upper()  ## To convert string into upper case\n",
    "print(str2)"
   ]
  },
  {
   "cell_type": "code",
   "execution_count": 29,
   "id": "7afd9fa0",
   "metadata": {},
   "outputs": [
    {
     "name": "stdout",
     "output_type": "stream",
     "text": [
      "shanmugam\n"
     ]
    }
   ],
   "source": [
    "print(str1.lower()) ## To convert string into lower case\n"
   ]
  },
  {
   "cell_type": "code",
   "execution_count": 27,
   "id": "f46ee7a1",
   "metadata": {},
   "outputs": [
    {
     "name": "stdout",
     "output_type": "stream",
     "text": [
      "Shanmugam\n"
     ]
    }
   ],
   "source": [
    "\n",
    "print(str2.title())  ## Converting string into a title case"
   ]
  },
  {
   "cell_type": "code",
   "execution_count": 28,
   "id": "32ed0e58",
   "metadata": {},
   "outputs": [
    {
     "name": "stdout",
     "output_type": "stream",
     "text": [
      "I Love Python\n"
     ]
    }
   ],
   "source": [
    "str3 = \"I LOVE PYTHON\"\n",
    "print(str3.title()) ## Converting string into a title case"
   ]
  },
  {
   "cell_type": "code",
   "execution_count": 30,
   "id": "2fdc6b01",
   "metadata": {},
   "outputs": [
    {
     "data": {
      "text/plain": [
       "'I LOVE BIG DATA'"
      ]
     },
     "execution_count": 30,
     "metadata": {},
     "output_type": "execute_result"
    }
   ],
   "source": [
    "str3.replace(\"PYTHON\",\"BIG DATA\")"
   ]
  },
  {
   "cell_type": "code",
   "execution_count": 31,
   "id": "8f83a601",
   "metadata": {},
   "outputs": [
    {
     "data": {
      "text/plain": [
       "'I LoVE PYTHoN'"
      ]
     },
     "execution_count": 31,
     "metadata": {},
     "output_type": "execute_result"
    }
   ],
   "source": [
    "str3.replace(\"O\",'o')"
   ]
  },
  {
   "cell_type": "code",
   "execution_count": 38,
   "id": "cb374ab4",
   "metadata": {},
   "outputs": [
    {
     "data": {
      "text/plain": [
       "('21', 'Jan', '2022', '10', 'hrs')"
      ]
     },
     "execution_count": 38,
     "metadata": {},
     "output_type": "execute_result"
    }
   ],
   "source": [
    "date = '21','Jan','2022','10','hrs'\n",
    "date  ## I want to print the date 21-Jan-2022"
   ]
  },
  {
   "cell_type": "code",
   "execution_count": 39,
   "id": "5413d36c",
   "metadata": {},
   "outputs": [
    {
     "data": {
      "text/plain": [
       "'21-Jan-2022-10-hrs'"
      ]
     },
     "execution_count": 39,
     "metadata": {},
     "output_type": "execute_result"
    }
   ],
   "source": [
    "## Join method will help to join the words with given string\n",
    "'-'.join(date)"
   ]
  },
  {
   "cell_type": "code",
   "execution_count": 41,
   "id": "a20a449c",
   "metadata": {},
   "outputs": [
    {
     "data": {
      "text/plain": [
       "'Anand marries Anu'"
      ]
     },
     "execution_count": 41,
     "metadata": {},
     "output_type": "execute_result"
    }
   ],
   "source": [
    "' marries '.join(('Anand','Anu'))"
   ]
  },
  {
   "cell_type": "code",
   "execution_count": 42,
   "id": "a73a79e1",
   "metadata": {},
   "outputs": [
    {
     "name": "stdout",
     "output_type": "stream",
     "text": [
      "\n",
      "  \t  45 \t \n"
     ]
    }
   ],
   "source": [
    "str4 = \"\\n  \\t  45 \\t \"\n",
    "print(str4)"
   ]
  },
  {
   "cell_type": "code",
   "execution_count": 43,
   "id": "e24350f5",
   "metadata": {},
   "outputs": [
    {
     "data": {
      "text/plain": [
       "'45'"
      ]
     },
     "execution_count": 43,
     "metadata": {},
     "output_type": "execute_result"
    }
   ],
   "source": [
    "str4.strip()  ## Strip method by default will remove all leading and trailing whitespace characters and print the string"
   ]
  },
  {
   "cell_type": "code",
   "execution_count": 45,
   "id": "60b780b4",
   "metadata": {},
   "outputs": [
    {
     "name": "stdout",
     "output_type": "stream",
     "text": [
      "Shanmugam~~~~Thiagarajan\n"
     ]
    }
   ],
   "source": [
    "str4 = \"~~~Shanmugam~~~~Thiagarajan~~~~~~\"\n",
    "print(str4.strip('~'))  ## Strip method will also accept a parameter of any character to be removed from the given string."
   ]
  },
  {
   "cell_type": "code",
   "execution_count": 50,
   "id": "aaa7edd7",
   "metadata": {},
   "outputs": [
    {
     "data": {
      "text/plain": [
       "'Shanmugam Thiagarajan'"
      ]
     },
     "execution_count": 50,
     "metadata": {},
     "output_type": "execute_result"
    }
   ],
   "source": [
    "str4.strip('~').replace('~','').replace(\"T\",\" T\")  ## Chaining of methods."
   ]
  },
  {
   "cell_type": "code",
   "execution_count": 54,
   "id": "64082680",
   "metadata": {},
   "outputs": [
    {
     "data": {
      "text/plain": [
       "True"
      ]
     },
     "execution_count": 54,
     "metadata": {},
     "output_type": "execute_result"
    }
   ],
   "source": [
    "str5 = '12345'\n",
    "str5.isdigit()  # To check whether the given string has only numerical characters."
   ]
  },
  {
   "cell_type": "code",
   "execution_count": 56,
   "id": "38b2dfb6",
   "metadata": {},
   "outputs": [
    {
     "name": "stdout",
     "output_type": "stream",
     "text": [
      "Shanmugam\n"
     ]
    },
    {
     "data": {
      "text/plain": [
       "True"
      ]
     },
     "execution_count": 56,
     "metadata": {},
     "output_type": "execute_result"
    }
   ],
   "source": [
    "print(str1)\n",
    "str1.endswith('gam')"
   ]
  },
  {
   "cell_type": "code",
   "execution_count": 58,
   "id": "a73b6796",
   "metadata": {},
   "outputs": [
    {
     "data": {
      "text/plain": [
       "True"
      ]
     },
     "execution_count": 58,
     "metadata": {},
     "output_type": "execute_result"
    }
   ],
   "source": [
    "str1.startswith('Sh')"
   ]
  },
  {
   "cell_type": "code",
   "execution_count": 61,
   "id": "0150dc67",
   "metadata": {},
   "outputs": [
    {
     "data": {
      "text/plain": [
       "b'Shanmugam'"
      ]
     },
     "execution_count": 61,
     "metadata": {},
     "output_type": "execute_result"
    }
   ],
   "source": [
    "str1.encode('big5')"
   ]
  },
  {
   "cell_type": "code",
   "execution_count": 62,
   "id": "f1bfdc92",
   "metadata": {},
   "outputs": [],
   "source": [
    "str1 = \"Shanmugam Thiagarajan\"\n",
    "firstname, lastname = str1.split()"
   ]
  },
  {
   "cell_type": "code",
   "execution_count": 64,
   "id": "9cde93bb",
   "metadata": {},
   "outputs": [
    {
     "name": "stdout",
     "output_type": "stream",
     "text": [
      "Shanmugam\n",
      "Thiagarajan\n"
     ]
    }
   ],
   "source": [
    "print(firstname)\n",
    "print(lastname)"
   ]
  },
  {
   "cell_type": "code",
   "execution_count": 65,
   "id": "8e2e39b9",
   "metadata": {},
   "outputs": [
    {
     "data": {
      "text/plain": [
       "['Shanmugam', 'Thiagarajan']"
      ]
     },
     "execution_count": 65,
     "metadata": {},
     "output_type": "execute_result"
    }
   ],
   "source": [
    "str1.split()"
   ]
  },
  {
   "cell_type": "code",
   "execution_count": 69,
   "id": "84a93fca",
   "metadata": {},
   "outputs": [
    {
     "name": "stdout",
     "output_type": "stream",
     "text": [
      "Number of words in the given sentence is 7\n"
     ]
    }
   ],
   "source": [
    "sen = \"I love using cars for long driving\"\n",
    "print(\"Number of words in the given sentence is {}\".format(len(sen.split())))"
   ]
  },
  {
   "cell_type": "code",
   "execution_count": 70,
   "id": "aba33400",
   "metadata": {},
   "outputs": [
    {
     "data": {
      "text/plain": [
       "['I', 'love', 'using', 'cars', 'for', 'long', 'driving']"
      ]
     },
     "execution_count": 70,
     "metadata": {},
     "output_type": "execute_result"
    }
   ],
   "source": [
    "sen.split()"
   ]
  },
  {
   "cell_type": "code",
   "execution_count": 77,
   "id": "62daa1e8",
   "metadata": {},
   "outputs": [
    {
     "name": "stdout",
     "output_type": "stream",
     "text": [
      "The Price of the product Apple is 100.3 and the total price is 1002.54\n"
     ]
    }
   ],
   "source": [
    "prdt = 'Apple'\n",
    "qty = 10\n",
    "price = 100.2545\n",
    "print(\"The Price of the product {0:} is {1:.1f} and the total price is {2:.2f}\".format(prdt, price,qty * price))"
   ]
  },
  {
   "cell_type": "code",
   "execution_count": 78,
   "id": "d73d7978",
   "metadata": {},
   "outputs": [
    {
     "name": "stdout",
     "output_type": "stream",
     "text": [
      "The Price of the product Apple is 100.2545 and the total price is  1002.54\n"
     ]
    }
   ],
   "source": [
    "print(\"The Price of the product\",prdt,\"is\",price,\"and the total price is \",round(qty * price,2))"
   ]
  },
  {
   "cell_type": "markdown",
   "id": "ae324c78",
   "metadata": {},
   "source": [
    "## Lists\n",
    "\n",
    "Lists are hetrogeneous collection of elements.  A list also contain another list."
   ]
  },
  {
   "cell_type": "code",
   "execution_count": 79,
   "id": "aef14df6",
   "metadata": {},
   "outputs": [
    {
     "data": {
      "text/plain": [
       "list"
      ]
     },
     "execution_count": 79,
     "metadata": {},
     "output_type": "execute_result"
    }
   ],
   "source": [
    "l1 = [10,20,30,40,50]  ## It is a homogeneous collection of elements\n",
    "type(l1)"
   ]
  },
  {
   "cell_type": "code",
   "execution_count": 80,
   "id": "cabca224",
   "metadata": {},
   "outputs": [
    {
     "data": {
      "text/plain": [
       "5"
      ]
     },
     "execution_count": 80,
     "metadata": {},
     "output_type": "execute_result"
    }
   ],
   "source": [
    "len(l1)"
   ]
  },
  {
   "cell_type": "code",
   "execution_count": 81,
   "id": "d9430e87",
   "metadata": {},
   "outputs": [
    {
     "data": {
      "text/plain": [
       "50"
      ]
     },
     "execution_count": 81,
     "metadata": {},
     "output_type": "execute_result"
    }
   ],
   "source": [
    "max(l1)"
   ]
  },
  {
   "cell_type": "code",
   "execution_count": 82,
   "id": "e32c7a2c",
   "metadata": {},
   "outputs": [
    {
     "data": {
      "text/plain": [
       "10"
      ]
     },
     "execution_count": 82,
     "metadata": {},
     "output_type": "execute_result"
    }
   ],
   "source": [
    "min(l1)"
   ]
  },
  {
   "cell_type": "code",
   "execution_count": 120,
   "id": "59eb9f8e",
   "metadata": {},
   "outputs": [
    {
     "name": "stdout",
     "output_type": "stream",
     "text": [
      "[10, 20, 30, 40, 50, 'Shan', 'Anand']\n"
     ]
    }
   ],
   "source": [
    "l2 = [10,20,30,40,50,'Shan','Anand']\n",
    "print(l2)"
   ]
  },
  {
   "cell_type": "code",
   "execution_count": 84,
   "id": "a65183ec",
   "metadata": {},
   "outputs": [
    {
     "data": {
      "text/plain": [
       "7"
      ]
     },
     "execution_count": 84,
     "metadata": {},
     "output_type": "execute_result"
    }
   ],
   "source": [
    "len(l2)"
   ]
  },
  {
   "cell_type": "code",
   "execution_count": 85,
   "id": "712753c0",
   "metadata": {},
   "outputs": [
    {
     "data": {
      "text/plain": [
       "'Shan'"
      ]
     },
     "execution_count": 85,
     "metadata": {},
     "output_type": "execute_result"
    }
   ],
   "source": [
    "l2[5]"
   ]
  },
  {
   "cell_type": "code",
   "execution_count": 86,
   "id": "42d92c4e",
   "metadata": {},
   "outputs": [
    {
     "data": {
      "text/plain": [
       "str"
      ]
     },
     "execution_count": 86,
     "metadata": {},
     "output_type": "execute_result"
    }
   ],
   "source": [
    "type(l2[5])"
   ]
  },
  {
   "cell_type": "code",
   "execution_count": 87,
   "id": "4769f688",
   "metadata": {},
   "outputs": [
    {
     "data": {
      "text/plain": [
       "'SHAN'"
      ]
     },
     "execution_count": 87,
     "metadata": {},
     "output_type": "execute_result"
    }
   ],
   "source": [
    "l2[5].upper()"
   ]
  },
  {
   "cell_type": "code",
   "execution_count": 92,
   "id": "b7fd6fa1",
   "metadata": {},
   "outputs": [
    {
     "data": {
      "text/plain": [
       "'Anan'"
      ]
     },
     "execution_count": 92,
     "metadata": {},
     "output_type": "execute_result"
    }
   ],
   "source": [
    "l2[5].replace('Sh','An')"
   ]
  },
  {
   "cell_type": "code",
   "execution_count": 121,
   "id": "7e5b526e",
   "metadata": {},
   "outputs": [
    {
     "name": "stdout",
     "output_type": "stream",
     "text": [
      "[10, 20, 30, 40, 50, 'Shan', 'Anand']\n"
     ]
    }
   ],
   "source": [
    "print(l2)"
   ]
  },
  {
   "cell_type": "code",
   "execution_count": 93,
   "id": "6ca34171",
   "metadata": {},
   "outputs": [
    {
     "name": "stdout",
     "output_type": "stream",
     "text": [
      "10\n",
      "20\n",
      "30\n",
      "40\n",
      "50\n",
      "Shan\n",
      "Anand\n"
     ]
    }
   ],
   "source": [
    "for ele in l2:\n",
    "    print(ele)"
   ]
  },
  {
   "cell_type": "code",
   "execution_count": 94,
   "id": "cc186d78",
   "metadata": {},
   "outputs": [
    {
     "name": "stdout",
     "output_type": "stream",
     "text": [
      "10\n",
      "20\n",
      "30\n",
      "40\n",
      "50\n",
      "Shan\n",
      "Anand\n"
     ]
    }
   ],
   "source": [
    "for idx in range(len(l2)):\n",
    "    print(l2[idx])"
   ]
  },
  {
   "cell_type": "code",
   "execution_count": 95,
   "id": "677e99c8",
   "metadata": {},
   "outputs": [
    {
     "name": "stdout",
     "output_type": "stream",
     "text": [
      "[10, 20, 30, 40, 50]\n",
      "[10, 20, 30, 40, 50, 'Shan', 'Anand']\n",
      "[10, 20, 30, 40, 50, 10, 20, 30, 40, 50, 'Shan', 'Anand']\n"
     ]
    }
   ],
   "source": [
    "## Appending two lists\n",
    "print(l1)\n",
    "print(l2)\n",
    "l3 = l1 + l2\n",
    "print(l3)"
   ]
  },
  {
   "cell_type": "code",
   "execution_count": 96,
   "id": "87c11958",
   "metadata": {},
   "outputs": [
    {
     "name": "stdout",
     "output_type": "stream",
     "text": [
      "[10, 20, 30, 40, 50, 60]\n"
     ]
    }
   ],
   "source": [
    "l1.append(60)  ## Using append() we can add an element to an existing list\n",
    "print(l1)"
   ]
  },
  {
   "cell_type": "code",
   "execution_count": 98,
   "id": "b051b7ca",
   "metadata": {},
   "outputs": [
    {
     "name": "stdout",
     "output_type": "stream",
     "text": [
      "[10, 20, 30, 40, 50, 60, 60, 70]\n"
     ]
    }
   ],
   "source": [
    "## Suppose I  want to add 2 elements together?\n",
    "l1.extend([60,70])  ## Using extend method, we can multiple elements to a list.\n",
    "print(l1)"
   ]
  },
  {
   "cell_type": "code",
   "execution_count": 104,
   "id": "e1062007",
   "metadata": {},
   "outputs": [
    {
     "name": "stdout",
     "output_type": "stream",
     "text": [
      "None\n",
      "None\n"
     ]
    }
   ],
   "source": [
    "print(l1.sort())\n",
    "## Sorting the elements in a list\n",
    "sorted_l1 = l1.sort()\n",
    "print(sorted_l1)"
   ]
  },
  {
   "cell_type": "code",
   "execution_count": 106,
   "id": "21659932",
   "metadata": {},
   "outputs": [
    {
     "data": {
      "text/plain": [
       "[10, 20, 30, 40, 50, 60, 60, 70]"
      ]
     },
     "execution_count": 106,
     "metadata": {},
     "output_type": "execute_result"
    }
   ],
   "source": [
    "l1"
   ]
  },
  {
   "cell_type": "code",
   "execution_count": 111,
   "id": "4ea89296",
   "metadata": {},
   "outputs": [],
   "source": [
    "l3 = l1.sort()  ## Sort method will sort the elements in a list.  The optional paramenter is reverse and it is default to False.\n",
    "## You can use the reverse = True for reverse sorting."
   ]
  },
  {
   "cell_type": "code",
   "execution_count": 109,
   "id": "0f0cd6be",
   "metadata": {},
   "outputs": [
    {
     "name": "stdout",
     "output_type": "stream",
     "text": [
      "None\n"
     ]
    }
   ],
   "source": [
    "print(l3)"
   ]
  },
  {
   "cell_type": "code",
   "execution_count": 110,
   "id": "056144cc",
   "metadata": {},
   "outputs": [
    {
     "data": {
      "text/plain": [
       "[10, 20, 30, 40, 50, 60, 60, 70]"
      ]
     },
     "execution_count": 110,
     "metadata": {},
     "output_type": "execute_result"
    }
   ],
   "source": [
    "sorted(l1)  ## Will return the sorted list"
   ]
  },
  {
   "cell_type": "code",
   "execution_count": 113,
   "id": "d0e6ff68",
   "metadata": {},
   "outputs": [
    {
     "name": "stdout",
     "output_type": "stream",
     "text": [
      "None\n"
     ]
    }
   ],
   "source": [
    "print(l1.reverse())  ## To reverse a list"
   ]
  },
  {
   "cell_type": "code",
   "execution_count": 114,
   "id": "8520811c",
   "metadata": {},
   "outputs": [
    {
     "name": "stdout",
     "output_type": "stream",
     "text": [
      "[10, 20, 30, 40, 50, 60, 60, 70]\n"
     ]
    }
   ],
   "source": [
    "print(l1)"
   ]
  },
  {
   "cell_type": "code",
   "execution_count": 115,
   "id": "731bf3b3",
   "metadata": {},
   "outputs": [
    {
     "data": {
      "text/plain": [
       "1"
      ]
     },
     "execution_count": 115,
     "metadata": {},
     "output_type": "execute_result"
    }
   ],
   "source": [
    "l1.index(20)"
   ]
  },
  {
   "cell_type": "code",
   "execution_count": 116,
   "id": "08faffa6",
   "metadata": {},
   "outputs": [
    {
     "name": "stdout",
     "output_type": "stream",
     "text": [
      "[10, 20, 30, 35, 40, 50, 60, 60, 70]\n"
     ]
    }
   ],
   "source": [
    "## Insert method is used to insert an element between two elements in a list.  Usage is list.insert(Index of an element, element to be inserted)\n",
    "l1.insert(l1.index(40),35)  ## Index method in a list will help to find the index of an element.\n",
    "print(l1)"
   ]
  },
  {
   "cell_type": "code",
   "execution_count": 122,
   "id": "b929a247",
   "metadata": {},
   "outputs": [
    {
     "name": "stdout",
     "output_type": "stream",
     "text": [
      "Before Clear: [10, 20, 30, 40, 50, 'Shan', 'Anand']\n",
      "After Clear: []\n"
     ]
    }
   ],
   "source": [
    "print(\"Before Clear:\",l2)\n",
    "l2.clear()\n",
    "print(\"After Clear:\",l2)"
   ]
  },
  {
   "cell_type": "code",
   "execution_count": 126,
   "id": "c05302a1",
   "metadata": {},
   "outputs": [
    {
     "name": "stdout",
     "output_type": "stream",
     "text": [
      "[3, 4, 5]\n"
     ]
    }
   ],
   "source": [
    "l5 = [5, 4, 3]\n",
    "l5.sort()  ## The sort method will sort and overwrite the same list in the sorted order.\n",
    "print(l5)"
   ]
  },
  {
   "cell_type": "code",
   "execution_count": 127,
   "id": "164fc816",
   "metadata": {},
   "outputs": [
    {
     "name": "stdout",
     "output_type": "stream",
     "text": [
      "[3, 4, 5]\n",
      "[5, 4, 3]\n"
     ]
    }
   ],
   "source": [
    "l5 = [5, 4, 3]\n",
    "print(sorted(l5))  ## Whereas the sorted(), will not overwrite the list\n",
    "print(l5)"
   ]
  },
  {
   "cell_type": "code",
   "execution_count": 128,
   "id": "ceefe1c7",
   "metadata": {},
   "outputs": [],
   "source": [
    "l5_sorted = sorted(l5)"
   ]
  },
  {
   "cell_type": "code",
   "execution_count": 129,
   "id": "ab4a00c9",
   "metadata": {},
   "outputs": [
    {
     "name": "stdout",
     "output_type": "stream",
     "text": [
      "[3, 4, 5]\n"
     ]
    }
   ],
   "source": [
    "print(l5_sorted)"
   ]
  },
  {
   "cell_type": "code",
   "execution_count": 130,
   "id": "b7acfd41",
   "metadata": {},
   "outputs": [
    {
     "name": "stdout",
     "output_type": "stream",
     "text": [
      "[3, 4]\n"
     ]
    }
   ],
   "source": [
    "## pop()\n",
    "l5_sorted.pop() ## pop() will, by default, remove the last element in the list.\n",
    "print(l5_sorted)"
   ]
  },
  {
   "cell_type": "code",
   "execution_count": 132,
   "id": "65d16765",
   "metadata": {},
   "outputs": [
    {
     "name": "stdout",
     "output_type": "stream",
     "text": [
      "[4]\n"
     ]
    }
   ],
   "source": [
    "l5_sorted.pop(l5_sorted.index(3))  ## To remove a particular element using pop, we have to provide the index of the element.\n",
    "print(l5_sorted)"
   ]
  },
  {
   "cell_type": "code",
   "execution_count": 133,
   "id": "c7a666c6",
   "metadata": {},
   "outputs": [
    {
     "name": "stdout",
     "output_type": "stream",
     "text": [
      "[10, 20, 30, 35, 40, 50, 60, 60, 70]\n"
     ]
    }
   ],
   "source": [
    "print(l1)"
   ]
  },
  {
   "cell_type": "code",
   "execution_count": 134,
   "id": "bb70a75f",
   "metadata": {},
   "outputs": [
    {
     "name": "stdout",
     "output_type": "stream",
     "text": [
      "[10, 20, 30, 35, 40, 50, 60, 70]\n"
     ]
    }
   ],
   "source": [
    "l1.remove(60)  ## remove() will remove the given element.\n",
    "print(l1)"
   ]
  },
  {
   "cell_type": "code",
   "execution_count": 135,
   "id": "446e6b9f",
   "metadata": {},
   "outputs": [
    {
     "data": {
      "text/plain": [
       "[10, 20, 30]"
      ]
     },
     "execution_count": 135,
     "metadata": {},
     "output_type": "execute_result"
    }
   ],
   "source": [
    "## Slicing and indexing of a list\n",
    "\n",
    "l1[:3]  ## Return the first 3 elements"
   ]
  },
  {
   "cell_type": "code",
   "execution_count": 136,
   "id": "c93c68d6",
   "metadata": {},
   "outputs": [
    {
     "data": {
      "text/plain": [
       "[35, 40, 50, 60, 70]"
      ]
     },
     "execution_count": 136,
     "metadata": {},
     "output_type": "execute_result"
    }
   ],
   "source": [
    "l1[3:]  ## will return from 4th element to end of the list"
   ]
  },
  {
   "cell_type": "code",
   "execution_count": 137,
   "id": "5e26a265",
   "metadata": {},
   "outputs": [
    {
     "data": {
      "text/plain": [
       "[70, 60, 50, 40, 35, 30, 20, 10]"
      ]
     },
     "execution_count": 137,
     "metadata": {},
     "output_type": "execute_result"
    }
   ],
   "source": [
    "l1[::-1]  ## Reversing the elements in the list"
   ]
  },
  {
   "cell_type": "code",
   "execution_count": 138,
   "id": "d2a69c01",
   "metadata": {},
   "outputs": [
    {
     "data": {
      "text/plain": [
       "[10, 20, 30, 35, 40, 50, 60, 70, 50, 60]"
      ]
     },
     "execution_count": 138,
     "metadata": {},
     "output_type": "execute_result"
    }
   ],
   "source": [
    "l1.extend([50,60])\n",
    "l1"
   ]
  },
  {
   "cell_type": "code",
   "execution_count": 140,
   "id": "7f81b3a5",
   "metadata": {},
   "outputs": [
    {
     "data": {
      "text/plain": [
       "2"
      ]
     },
     "execution_count": 140,
     "metadata": {},
     "output_type": "execute_result"
    }
   ],
   "source": [
    "l1.count(50)"
   ]
  },
  {
   "cell_type": "code",
   "execution_count": 148,
   "id": "4dd7e165",
   "metadata": {},
   "outputs": [
    {
     "name": "stdout",
     "output_type": "stream",
     "text": [
      "[50, 60, 50, 60]\n",
      "[10, 20, 30, 35, 40, 50, 60, 70, 50, 60]\n"
     ]
    }
   ],
   "source": [
    "## Getting the duplicate elements from the given list\n",
    "l1 = [10, 20, 30, 35, 40, 50, 60, 70, 50, 60]\n",
    "dup_elements=[]  ## Declaring an empty list\n",
    "for ele in l1:\n",
    "    if l1.count(ele) > 1:\n",
    "        dup_elements.append(ele)\n",
    "\n",
    "print(dup_elements)\n",
    "print(l1)\n"
   ]
  },
  {
   "cell_type": "code",
   "execution_count": 153,
   "id": "2ec3acd4",
   "metadata": {},
   "outputs": [
    {
     "name": "stdout",
     "output_type": "stream",
     "text": [
      "10 0\n",
      "20 1\n",
      "30 2\n",
      "35 3\n",
      "40 4\n",
      "50 5\n",
      "[10, 20, 30, 35, 40, 60, 70, 50, 60, 60, 50]\n",
      "70 6\n",
      "50 7\n",
      "[10, 20, 30, 35, 40, 60, 70, 60, 60, 50]\n",
      "60 5\n",
      "[10, 20, 30, 35, 40, 70, 60, 60, 50]\n",
      "[10, 20, 30, 35, 40, 70, 60, 60, 50]\n"
     ]
    }
   ],
   "source": [
    "## Remove the duplicate elements from the given list\n",
    "l1 = [10, 20, 30, 35, 40, 50, 60, 70, 50, 60, 60,50]\n",
    "l1_copy = l1.copy()\n",
    "for ele in l1_copy:\n",
    "    print(ele, l1.index(ele))\n",
    "    if l1.count(ele) > 1:\n",
    "        l1.remove(ele)\n",
    "        print(l1)\n",
    "print(l1)        "
   ]
  },
  {
   "cell_type": "code",
   "execution_count": 154,
   "id": "a85df9e7",
   "metadata": {},
   "outputs": [
    {
     "data": {
      "text/plain": [
       "[10, 20, 30, 35, 40, 70, 60, 60, 50]"
      ]
     },
     "execution_count": 154,
     "metadata": {},
     "output_type": "execute_result"
    }
   ],
   "source": [
    "l1"
   ]
  },
  {
   "cell_type": "code",
   "execution_count": 155,
   "id": "38360a4f",
   "metadata": {},
   "outputs": [
    {
     "data": {
      "text/plain": [
       "False"
      ]
     },
     "execution_count": 155,
     "metadata": {},
     "output_type": "execute_result"
    }
   ],
   "source": [
    "25 in l1  ## To check the existence of an element in a list"
   ]
  },
  {
   "cell_type": "code",
   "execution_count": 156,
   "id": "ef1a65b8",
   "metadata": {},
   "outputs": [
    {
     "data": {
      "text/plain": [
       "True"
      ]
     },
     "execution_count": 156,
     "metadata": {},
     "output_type": "execute_result"
    }
   ],
   "source": [
    "35 in l1"
   ]
  },
  {
   "cell_type": "code",
   "execution_count": 157,
   "id": "a86a5ace",
   "metadata": {},
   "outputs": [
    {
     "data": {
      "text/plain": [
       "True"
      ]
     },
     "execution_count": 157,
     "metadata": {},
     "output_type": "execute_result"
    }
   ],
   "source": [
    "25 not in l1  ## To check the non-existence of an element in a list"
   ]
  },
  {
   "cell_type": "code",
   "execution_count": 158,
   "id": "20696c9c",
   "metadata": {},
   "outputs": [
    {
     "data": {
      "text/plain": [
       "False"
      ]
     },
     "execution_count": 158,
     "metadata": {},
     "output_type": "execute_result"
    }
   ],
   "source": [
    "35 not in l1"
   ]
  },
  {
   "cell_type": "markdown",
   "id": "601a65dc",
   "metadata": {},
   "source": [
    "### Tuples\n",
    "\n",
    "Tuples are immutable"
   ]
  },
  {
   "cell_type": "code",
   "execution_count": 159,
   "id": "81465a38",
   "metadata": {},
   "outputs": [
    {
     "data": {
      "text/plain": [
       "tuple"
      ]
     },
     "execution_count": 159,
     "metadata": {},
     "output_type": "execute_result"
    }
   ],
   "source": [
    "t1 = (10, 20, 30)\n",
    "type(t1)"
   ]
  },
  {
   "cell_type": "code",
   "execution_count": 160,
   "id": "b7bbc602",
   "metadata": {},
   "outputs": [
    {
     "data": {
      "text/plain": [
       "tuple"
      ]
     },
     "execution_count": 160,
     "metadata": {},
     "output_type": "execute_result"
    }
   ],
   "source": [
    "t2 = 30, 40, 50\n",
    "type(t2)"
   ]
  },
  {
   "cell_type": "code",
   "execution_count": 164,
   "id": "55cf9274",
   "metadata": {},
   "outputs": [
    {
     "data": {
      "text/plain": [
       "(10, 20, 30, [40, 50, 60])"
      ]
     },
     "execution_count": 164,
     "metadata": {},
     "output_type": "execute_result"
    }
   ],
   "source": [
    "t3 = (10, 20, 30, [40, 50, 60])\n",
    "t3"
   ]
  },
  {
   "cell_type": "code",
   "execution_count": 165,
   "id": "1f4c83ff",
   "metadata": {},
   "outputs": [
    {
     "data": {
      "text/plain": [
       "tuple"
      ]
     },
     "execution_count": 165,
     "metadata": {},
     "output_type": "execute_result"
    }
   ],
   "source": [
    "type(t3)"
   ]
  },
  {
   "cell_type": "code",
   "execution_count": 166,
   "id": "9d1f4f27",
   "metadata": {},
   "outputs": [
    {
     "data": {
      "text/plain": [
       "4"
      ]
     },
     "execution_count": 166,
     "metadata": {},
     "output_type": "execute_result"
    }
   ],
   "source": [
    "len(t3)"
   ]
  },
  {
   "cell_type": "code",
   "execution_count": 167,
   "id": "dcc4a144",
   "metadata": {},
   "outputs": [
    {
     "data": {
      "text/plain": [
       "[40, 50, 60]"
      ]
     },
     "execution_count": 167,
     "metadata": {},
     "output_type": "execute_result"
    }
   ],
   "source": [
    "t3[-1] ## Accessing the last element in a tuple"
   ]
  },
  {
   "cell_type": "code",
   "execution_count": 168,
   "id": "927155eb",
   "metadata": {},
   "outputs": [
    {
     "data": {
      "text/plain": [
       "list"
      ]
     },
     "execution_count": 168,
     "metadata": {},
     "output_type": "execute_result"
    }
   ],
   "source": [
    "type(t3[-1])"
   ]
  },
  {
   "cell_type": "code",
   "execution_count": 169,
   "id": "2aa89699",
   "metadata": {},
   "outputs": [],
   "source": [
    "t3[-1].append(90)"
   ]
  },
  {
   "cell_type": "code",
   "execution_count": 170,
   "id": "2ea1167d",
   "metadata": {},
   "outputs": [
    {
     "data": {
      "text/plain": [
       "[40, 50, 60, 90]"
      ]
     },
     "execution_count": 170,
     "metadata": {},
     "output_type": "execute_result"
    }
   ],
   "source": [
    "t3[-1]"
   ]
  },
  {
   "cell_type": "code",
   "execution_count": 171,
   "id": "b262f484",
   "metadata": {},
   "outputs": [
    {
     "data": {
      "text/plain": [
       "(10, 20, 30, [40, 50, 60, 90])"
      ]
     },
     "execution_count": 171,
     "metadata": {},
     "output_type": "execute_result"
    }
   ],
   "source": [
    "t3"
   ]
  },
  {
   "cell_type": "markdown",
   "id": "119d9d34",
   "metadata": {},
   "source": [
    "### Dictionaries"
   ]
  },
  {
   "cell_type": "code",
   "execution_count": 181,
   "id": "1396c9b7",
   "metadata": {},
   "outputs": [
    {
     "name": "stdout",
     "output_type": "stream",
     "text": [
      "{'key1': 10, 'key2': 20}\n"
     ]
    }
   ],
   "source": [
    "d1 = {'key1':10, 'key2':20}\n",
    "print(d1)"
   ]
  },
  {
   "cell_type": "code",
   "execution_count": 209,
   "id": "765f9ef8",
   "metadata": {},
   "outputs": [
    {
     "name": "stdout",
     "output_type": "stream",
     "text": [
      "{'key1': 10, 'key2': 20}\n"
     ]
    }
   ],
   "source": [
    "fruits = ['Orange','Apple','Banana']\n",
    "fr_price = [80,120,60]\n",
    "d2 = dict(zip(fruits, fr_price))\n",
    "print(d1)"
   ]
  },
  {
   "cell_type": "code",
   "execution_count": 175,
   "id": "845971ed",
   "metadata": {},
   "outputs": [
    {
     "data": {
      "text/plain": [
       "<zip at 0x23894dd0880>"
      ]
     },
     "execution_count": 175,
     "metadata": {},
     "output_type": "execute_result"
    }
   ],
   "source": [
    "zip(fruits, fr_price)\n"
   ]
  },
  {
   "cell_type": "code",
   "execution_count": 206,
   "id": "be326e7a",
   "metadata": {},
   "outputs": [
    {
     "name": "stdout",
     "output_type": "stream",
     "text": [
      "[('Orange', 80), ('Apple', 120), ('Banana', 60)]\n"
     ]
    }
   ],
   "source": [
    "print(list(zip(fruits, fr_price)))"
   ]
  },
  {
   "cell_type": "code",
   "execution_count": 183,
   "id": "3ffd9949",
   "metadata": {},
   "outputs": [
    {
     "data": {
      "text/plain": [
       "120"
      ]
     },
     "execution_count": 183,
     "metadata": {},
     "output_type": "execute_result"
    }
   ],
   "source": [
    "## For example, I want to extract the price of Apple\n",
    "d2['Apple']"
   ]
  },
  {
   "cell_type": "code",
   "execution_count": 184,
   "id": "2c33334e",
   "metadata": {},
   "outputs": [
    {
     "data": {
      "text/plain": [
       "10"
      ]
     },
     "execution_count": 184,
     "metadata": {},
     "output_type": "execute_result"
    }
   ],
   "source": [
    "d1['key1']"
   ]
  },
  {
   "cell_type": "code",
   "execution_count": 185,
   "id": "dd032d1b",
   "metadata": {},
   "outputs": [
    {
     "data": {
      "text/plain": [
       "dict_keys(['key1', 'key2'])"
      ]
     },
     "execution_count": 185,
     "metadata": {},
     "output_type": "execute_result"
    }
   ],
   "source": [
    "## To extract only the keys from the dictionary\n",
    "d1.keys()"
   ]
  },
  {
   "cell_type": "code",
   "execution_count": 186,
   "id": "1ab7ca74",
   "metadata": {},
   "outputs": [
    {
     "data": {
      "text/plain": [
       "dict_values([10, 20])"
      ]
     },
     "execution_count": 186,
     "metadata": {},
     "output_type": "execute_result"
    }
   ],
   "source": [
    "## To extract only the values from the dictionary\n",
    "d1.values()"
   ]
  },
  {
   "cell_type": "code",
   "execution_count": 188,
   "id": "bd0870e3",
   "metadata": {},
   "outputs": [
    {
     "name": "stdout",
     "output_type": "stream",
     "text": [
      "dict_items([('key1', 10), ('key2', 20)])\n",
      "dict_items([('Orange', 80), ('Apple', 120), ('Banana', 60)])\n"
     ]
    }
   ],
   "source": [
    "## To extract the key value pair from the dictionary\n",
    "print(d1.items())\n",
    "print(d2.items())"
   ]
  },
  {
   "cell_type": "code",
   "execution_count": 189,
   "id": "64840b88",
   "metadata": {},
   "outputs": [
    {
     "name": "stdout",
     "output_type": "stream",
     "text": [
      "Orange : 80\n",
      "Apple : 120\n",
      "Banana : 60\n"
     ]
    }
   ],
   "source": [
    "## You can use the for loop to iterate all the elements from the dictionary\n",
    "for key, value in d2.items():\n",
    "    print(key,':',value)"
   ]
  },
  {
   "cell_type": "code",
   "execution_count": 191,
   "id": "5945bab9",
   "metadata": {},
   "outputs": [
    {
     "name": "stdout",
     "output_type": "stream",
     "text": [
      "{80: 'Orange', 120: 'Apple', 60: 'Banana'}\n"
     ]
    }
   ],
   "source": [
    "## Swap the key and value of a dictionary\n",
    "\n",
    "new_dict={}\n",
    "for key, value in d2.items():\n",
    "    new_dict[value] = key\n",
    "    \n",
    "print(new_dict)    "
   ]
  },
  {
   "cell_type": "code",
   "execution_count": 192,
   "id": "83154a77",
   "metadata": {},
   "outputs": [
    {
     "name": "stdout",
     "output_type": "stream",
     "text": [
      "{'Orange': 80, 'Apple': 120, 'Banana': 60}\n"
     ]
    }
   ],
   "source": [
    "print(d2)"
   ]
  },
  {
   "cell_type": "code",
   "execution_count": 193,
   "id": "50ce7ff1",
   "metadata": {},
   "outputs": [
    {
     "name": "stdout",
     "output_type": "stream",
     "text": [
      "{'Orange': 80, 'Apple': 120, 'Banana': 60, 'Watermelon': 50}\n"
     ]
    }
   ],
   "source": [
    "## Wnen the element is not present, it will add the new element\n",
    "d2['Watermelon'] = 50\n",
    "print(d2)"
   ]
  },
  {
   "cell_type": "code",
   "execution_count": 194,
   "id": "ff23d5bd",
   "metadata": {},
   "outputs": [
    {
     "name": "stdout",
     "output_type": "stream",
     "text": [
      "{'Orange': 80, 'Apple': 120, 'Banana': 60, 'Watermelon': 40}\n"
     ]
    }
   ],
   "source": [
    "## When the element is present, it will update the value\n",
    "d2['Watermelon'] = 40\n",
    "print(d2)"
   ]
  },
  {
   "cell_type": "code",
   "execution_count": 195,
   "id": "4c9ce262",
   "metadata": {},
   "outputs": [
    {
     "name": "stdout",
     "output_type": "stream",
     "text": [
      "{'Anand': [80, 89, 45], 'Akshay': [78, 90, 92]}\n"
     ]
    }
   ],
   "source": [
    "d3 = {'Anand':[80,89,45],'Akshay':[78,90,92]}\n",
    "print(d3)"
   ]
  },
  {
   "cell_type": "code",
   "execution_count": 196,
   "id": "b4053078",
   "metadata": {},
   "outputs": [
    {
     "name": "stdout",
     "output_type": "stream",
     "text": [
      "{'Anand': [85, 92, 91], 'Akshay': [78, 90, 92]}\n"
     ]
    }
   ],
   "source": [
    "d3['Anand'] = [85,92,91]\n",
    "print(d3)"
   ]
  },
  {
   "cell_type": "code",
   "execution_count": 197,
   "id": "8c1b1f81",
   "metadata": {},
   "outputs": [
    {
     "name": "stdout",
     "output_type": "stream",
     "text": [
      "85\n",
      "92\n",
      "91\n"
     ]
    }
   ],
   "source": [
    "for mark in d3['Anand']:\n",
    "    print(mark)"
   ]
  },
  {
   "cell_type": "code",
   "execution_count": 200,
   "id": "ba0b1749",
   "metadata": {},
   "outputs": [],
   "source": [
    "## Accessing individual element from the list in a dictionary.\n",
    "d3['Anand'][0] = 95"
   ]
  },
  {
   "cell_type": "code",
   "execution_count": 201,
   "id": "fb2f4f9b",
   "metadata": {},
   "outputs": [
    {
     "name": "stdout",
     "output_type": "stream",
     "text": [
      "{'Anand': [95, 92, 91], 'Akshay': [78, 90, 92]}\n"
     ]
    }
   ],
   "source": [
    "print(d3)"
   ]
  },
  {
   "cell_type": "code",
   "execution_count": 202,
   "id": "7fab1a82",
   "metadata": {},
   "outputs": [
    {
     "name": "stdout",
     "output_type": "stream",
     "text": [
      "{'Orange': 80, 'Apple': 120, 'Watermelon': 40}\n"
     ]
    }
   ],
   "source": [
    "## Removing an element from a dictionary\n",
    "del d2['Banana']\n",
    "print(d2)"
   ]
  },
  {
   "cell_type": "code",
   "execution_count": 203,
   "id": "f451111f",
   "metadata": {},
   "outputs": [
    {
     "name": "stdout",
     "output_type": "stream",
     "text": [
      "{}\n"
     ]
    }
   ],
   "source": [
    "## To remove all the element from dictionary.\n",
    "d2.clear()\n",
    "print(d2)"
   ]
  },
  {
   "cell_type": "code",
   "execution_count": 211,
   "id": "6b7fdeb6",
   "metadata": {},
   "outputs": [
    {
     "name": "stdout",
     "output_type": "stream",
     "text": [
      "{'Orange': 80, 'Apple': 120, 'Banana': 60}\n",
      "{'Orange': 80, 'Banana': 60}\n"
     ]
    }
   ],
   "source": [
    "## We can use pop() method ot remove an element from dictionary\n",
    "print(d2)\n",
    "d2.pop('Apple')\n",
    "print(d2)"
   ]
  },
  {
   "cell_type": "code",
   "execution_count": 212,
   "id": "d77c66e8",
   "metadata": {},
   "outputs": [
    {
     "ename": "KeyError",
     "evalue": "'Apple'",
     "output_type": "error",
     "traceback": [
      "\u001b[1;31m---------------------------------------------------------------------------\u001b[0m",
      "\u001b[1;31mKeyError\u001b[0m                                  Traceback (most recent call last)",
      "\u001b[1;32m~\\AppData\\Local\\Temp/ipykernel_7724/1245430593.py\u001b[0m in \u001b[0;36m<module>\u001b[1;34m\u001b[0m\n\u001b[0;32m      1\u001b[0m \u001b[1;31m## Accessing the non-existent element\u001b[0m\u001b[1;33m\u001b[0m\u001b[1;33m\u001b[0m\u001b[1;33m\u001b[0m\u001b[0m\n\u001b[1;32m----> 2\u001b[1;33m \u001b[0md2\u001b[0m\u001b[1;33m[\u001b[0m\u001b[1;34m'Apple'\u001b[0m\u001b[1;33m]\u001b[0m\u001b[1;33m\u001b[0m\u001b[1;33m\u001b[0m\u001b[0m\n\u001b[0m",
      "\u001b[1;31mKeyError\u001b[0m: 'Apple'"
     ]
    }
   ],
   "source": [
    "## Accessing the non-existent element\n",
    "d2['Apple']"
   ]
  },
  {
   "cell_type": "code",
   "execution_count": 215,
   "id": "5961cea3",
   "metadata": {},
   "outputs": [
    {
     "name": "stdout",
     "output_type": "stream",
     "text": [
      "None\n"
     ]
    }
   ],
   "source": [
    "## To avoid the error while accessing the non-existent element\n",
    "print(d2.get('Apple'))"
   ]
  },
  {
   "cell_type": "code",
   "execution_count": 216,
   "id": "a98f190c",
   "metadata": {},
   "outputs": [
    {
     "name": "stdout",
     "output_type": "stream",
     "text": [
      "60\n"
     ]
    }
   ],
   "source": [
    "print(d2.get('Banana'))"
   ]
  },
  {
   "cell_type": "code",
   "execution_count": 218,
   "id": "147c5399",
   "metadata": {},
   "outputs": [
    {
     "data": {
      "text/plain": [
       "8"
      ]
     },
     "execution_count": 218,
     "metadata": {},
     "output_type": "execute_result"
    }
   ],
   "source": [
    "sen = \"I love driving car in the snowy conditions\"\n",
    "\n",
    "len(sen.split())"
   ]
  },
  {
   "cell_type": "code",
   "execution_count": 241,
   "id": "0c512fa5",
   "metadata": {},
   "outputs": [
    {
     "name": "stdout",
     "output_type": "stream",
     "text": [
      "['can', 'you', 'can', 'a', 'can', 'as', 'a', 'canner', 'can', 'can', 'a', 'can']\n",
      "{'can': 6, 'you': 1, 'a': 3, 'as': 1, 'canner': 1}\n"
     ]
    }
   ],
   "source": [
    "sen1 = \"can you can a can as a canner can can a can\"\n",
    "print(sen1.split())\n",
    "word_count={}  ## Creating an empty dictionary\n",
    "for word in sen1.split():\n",
    "    if word in word_count.keys():\n",
    "        word_count[word] += 1\n",
    "    else:\n",
    "        word_count[word] = 1\n",
    "\n",
    "print(word_count)        "
   ]
  },
  {
   "cell_type": "code",
   "execution_count": 223,
   "id": "2dd2fa8b",
   "metadata": {},
   "outputs": [
    {
     "ename": "KeyError",
     "evalue": "'can'",
     "output_type": "error",
     "traceback": [
      "\u001b[1;31m---------------------------------------------------------------------------\u001b[0m",
      "\u001b[1;31mKeyError\u001b[0m                                  Traceback (most recent call last)",
      "\u001b[1;32m~\\AppData\\Local\\Temp/ipykernel_7724/2972548643.py\u001b[0m in \u001b[0;36m<module>\u001b[1;34m\u001b[0m\n\u001b[0;32m      2\u001b[0m \u001b[0mword_count\u001b[0m\u001b[1;33m=\u001b[0m\u001b[1;33m{\u001b[0m\u001b[1;33m}\u001b[0m  \u001b[1;31m## Ceated an empty dictionary\u001b[0m\u001b[1;33m\u001b[0m\u001b[1;33m\u001b[0m\u001b[0m\n\u001b[0;32m      3\u001b[0m \u001b[1;32mfor\u001b[0m \u001b[0mword\u001b[0m \u001b[1;32min\u001b[0m \u001b[0msen1\u001b[0m\u001b[1;33m.\u001b[0m\u001b[0msplit\u001b[0m\u001b[1;33m(\u001b[0m\u001b[1;33m)\u001b[0m\u001b[1;33m:\u001b[0m\u001b[1;33m\u001b[0m\u001b[1;33m\u001b[0m\u001b[0m\n\u001b[1;32m----> 4\u001b[1;33m     \u001b[0mword_count\u001b[0m\u001b[1;33m[\u001b[0m\u001b[0mword\u001b[0m\u001b[1;33m]\u001b[0m \u001b[1;33m+=\u001b[0m \u001b[1;36m1\u001b[0m\u001b[1;33m\u001b[0m\u001b[1;33m\u001b[0m\u001b[0m\n\u001b[0m\u001b[0;32m      5\u001b[0m \u001b[1;33m\u001b[0m\u001b[0m\n\u001b[0;32m      6\u001b[0m \u001b[0mprint\u001b[0m\u001b[1;33m(\u001b[0m\u001b[0mword_count\u001b[0m\u001b[1;33m)\u001b[0m\u001b[1;33m\u001b[0m\u001b[1;33m\u001b[0m\u001b[0m\n",
      "\u001b[1;31mKeyError\u001b[0m: 'can'"
     ]
    }
   ],
   "source": [
    "sen1 = \"can you can a can as a canner can can a can\"\n",
    "word_count={}  ## Ceated an empty dictionary \n",
    "for word in sen1.split():\n",
    "    word_count[word] += 1\n",
    "\n",
    "print(word_count)   "
   ]
  },
  {
   "cell_type": "code",
   "execution_count": 224,
   "id": "3f147c1e",
   "metadata": {},
   "outputs": [
    {
     "name": "stdout",
     "output_type": "stream",
     "text": [
      "defaultdict(<class 'int'>, {'can': 6, 'you': 1, 'a': 3, 'as': 1, 'canner': 1})\n"
     ]
    }
   ],
   "source": [
    "## Importing the default dictionary from collections module\n",
    "from collections import defaultdict\n",
    "\n",
    "word_count = defaultdict(int)  ## With integer type, created a \n",
    "\n",
    "for word in sen1.split():\n",
    "    word_count[word] += 1\n",
    "print(word_count)    "
   ]
  },
  {
   "cell_type": "code",
   "execution_count": 227,
   "id": "cf7e1d9c",
   "metadata": {},
   "outputs": [
    {
     "name": "stdout",
     "output_type": "stream",
     "text": [
      "<class 'collections.Counter'>\n",
      "Counter({'can': 6, 'a': 3, 'you': 1, 'as': 1, 'canner': 1})\n"
     ]
    }
   ],
   "source": [
    "## The Counter functin will do the above job.\n",
    "from collections import Counter\n",
    "word_count = Counter(sen1.split())\n",
    "print(type(word_count))\n",
    "print(word_count)"
   ]
  },
  {
   "cell_type": "code",
   "execution_count": 229,
   "id": "e78e2fb3",
   "metadata": {},
   "outputs": [
    {
     "data": {
      "text/plain": [
       "Counter({10: 1, 20: 1, 30: 2, 40: 2, 50: 2})"
      ]
     },
     "execution_count": 229,
     "metadata": {},
     "output_type": "execute_result"
    }
   ],
   "source": [
    "l1 = [10,20,30,40,50,50,40,30]\n",
    "Counter(l1)"
   ]
  },
  {
   "cell_type": "code",
   "execution_count": 234,
   "id": "b2c09518",
   "metadata": {},
   "outputs": [
    {
     "data": {
      "text/plain": [
       "Counter({10: 1, 20: 1, 30: 2, 40: 2, 50: 2})"
      ]
     },
     "execution_count": 234,
     "metadata": {},
     "output_type": "execute_result"
    }
   ],
   "source": [
    "t1 = (10,20,30,40,50,50,40,30)\n",
    "Counter(t1)"
   ]
  },
  {
   "cell_type": "code",
   "execution_count": 235,
   "id": "8adee406",
   "metadata": {},
   "outputs": [
    {
     "name": "stdout",
     "output_type": "stream",
     "text": [
      "{'Orange': 80, 'Banana': 60}\n"
     ]
    }
   ],
   "source": [
    "print(d2)"
   ]
  },
  {
   "cell_type": "code",
   "execution_count": 236,
   "id": "d1c3c245",
   "metadata": {},
   "outputs": [
    {
     "name": "stdout",
     "output_type": "stream",
     "text": [
      "{'Orange': 80, 'Banana': 60}\n"
     ]
    }
   ],
   "source": [
    "d2_copy = d2\n",
    "print(d2_copy)"
   ]
  },
  {
   "cell_type": "code",
   "execution_count": 237,
   "id": "1768da2f",
   "metadata": {},
   "outputs": [],
   "source": [
    "d2_copy['Apple'] = 140"
   ]
  },
  {
   "cell_type": "code",
   "execution_count": 238,
   "id": "25f50376",
   "metadata": {},
   "outputs": [
    {
     "name": "stdout",
     "output_type": "stream",
     "text": [
      "{'Orange': 80, 'Banana': 60, 'Apple': 140}\n"
     ]
    }
   ],
   "source": [
    "print(d2_copy)"
   ]
  },
  {
   "cell_type": "code",
   "execution_count": 239,
   "id": "a0632bf9",
   "metadata": {},
   "outputs": [
    {
     "name": "stdout",
     "output_type": "stream",
     "text": [
      "{'Orange': 80, 'Banana': 60, 'Apple': 140}\n"
     ]
    }
   ],
   "source": [
    "print(d2)"
   ]
  },
  {
   "cell_type": "code",
   "execution_count": 240,
   "id": "b73482f5",
   "metadata": {},
   "outputs": [
    {
     "name": "stdout",
     "output_type": "stream",
     "text": [
      "{'Orange': 80, 'Banana': 60, 'Apple': 140, 'Lemon': 5}\n",
      "{'Orange': 80, 'Banana': 60, 'Apple': 140}\n"
     ]
    }
   ],
   "source": [
    "## Deep Copy\n",
    "\n",
    "d2_copy = d2.copy()\n",
    "d2_copy['Lemon'] = 5\n",
    "print(d2_copy)\n",
    "print(d2)"
   ]
  },
  {
   "cell_type": "code",
   "execution_count": 242,
   "id": "b7231013",
   "metadata": {},
   "outputs": [
    {
     "name": "stdout",
     "output_type": "stream",
     "text": [
      "{'Orange': 80, 'Banana': 60, 'Apple': 140, 'Mango': 200}\n"
     ]
    }
   ],
   "source": [
    "d2['Mango'] = 200\n",
    "print(d2)"
   ]
  },
  {
   "cell_type": "code",
   "execution_count": 243,
   "id": "ef7cd540",
   "metadata": {},
   "outputs": [
    {
     "name": "stdout",
     "output_type": "stream",
     "text": [
      "{'Orange': 80, 'Banana': 60, 'Apple': 140, 'Lemon': 5}\n"
     ]
    }
   ],
   "source": [
    "print(d2_copy)"
   ]
  },
  {
   "cell_type": "code",
   "execution_count": 249,
   "id": "409db5a9",
   "metadata": {},
   "outputs": [
    {
     "name": "stdout",
     "output_type": "stream",
     "text": [
      "{'a': None, 'b': None, 'c': None}\n",
      "dict_keys(['a', 'b', 'c'])\n",
      "dict_values([None, None, None])\n",
      "{'a': 25, 'b': None, 'c': None}\n"
     ]
    }
   ],
   "source": [
    "## fromkeys()\n",
    "\n",
    "l1 = ['a','b','c']\n",
    "d_l1 = dict.fromkeys(l1)  ## Creating dictionary from list using fromkeys()\n",
    "print(d_l1)\n",
    "print(d_l1.keys())\n",
    "print(d_l1.values())\n",
    "d_l1['a']= 25\n",
    "print(d_l1)"
   ]
  },
  {
   "cell_type": "code",
   "execution_count": 247,
   "id": "33c1c24c",
   "metadata": {},
   "outputs": [
    {
     "name": "stdout",
     "output_type": "stream",
     "text": [
      "{'a': 20, 'b': 20, 'c': 20}\n"
     ]
    }
   ],
   "source": [
    "d2_l1 = dict.fromkeys(l1, 20)  ## Can assign a default value for all the keys in the list.\n",
    "print(d2_l1)"
   ]
  },
  {
   "cell_type": "code",
   "execution_count": 250,
   "id": "c6f35704",
   "metadata": {},
   "outputs": [],
   "source": [
    "l2 = [20, 30, 40]\n",
    "\n",
    "dict1 = dict.fromkeys(l1, l2)"
   ]
  },
  {
   "cell_type": "code",
   "execution_count": 251,
   "id": "4055d9e1",
   "metadata": {},
   "outputs": [
    {
     "data": {
      "text/plain": [
       "{'a': [20, 30, 40], 'b': [20, 30, 40], 'c': [20, 30, 40]}"
      ]
     },
     "execution_count": 251,
     "metadata": {},
     "output_type": "execute_result"
    }
   ],
   "source": [
    "dict1"
   ]
  },
  {
   "cell_type": "code",
   "execution_count": 252,
   "id": "b64dc360",
   "metadata": {},
   "outputs": [
    {
     "name": "stdout",
     "output_type": "stream",
     "text": [
      "{'a': 20, 'b': 30, 'c': 40}\n"
     ]
    }
   ],
   "source": [
    "dict2 = dict(zip(l1, l2))\n",
    "print(dict2)"
   ]
  },
  {
   "cell_type": "code",
   "execution_count": 254,
   "id": "2cf3c5af",
   "metadata": {},
   "outputs": [
    {
     "name": "stdout",
     "output_type": "stream",
     "text": [
      "{'a': 20, 'b': 30, 'c': 40, 'd': 50}\n"
     ]
    }
   ],
   "source": [
    "dict2.setdefault('d',50)  ## Setting a default value for a key.\n",
    "print(dict2)"
   ]
  },
  {
   "cell_type": "code",
   "execution_count": null,
   "id": "d291997b",
   "metadata": {},
   "outputs": [],
   "source": [
    "dict2['d'] = 50"
   ]
  }
 ],
 "metadata": {
  "kernelspec": {
   "display_name": "Python 3 (ipykernel)",
   "language": "python",
   "name": "python3"
  },
  "language_info": {
   "codemirror_mode": {
    "name": "ipython",
    "version": 3
   },
   "file_extension": ".py",
   "mimetype": "text/x-python",
   "name": "python",
   "nbconvert_exporter": "python",
   "pygments_lexer": "ipython3",
   "version": "3.8.8"
  }
 },
 "nbformat": 4,
 "nbformat_minor": 5
}
