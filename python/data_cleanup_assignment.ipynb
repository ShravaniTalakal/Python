{
 "cells": [
  {
   "cell_type": "code",
   "execution_count": 1,
   "id": "2247222a",
   "metadata": {},
   "outputs": [],
   "source": [
    "import pandas as pd\n",
    "import os\n",
    "import warnings\n",
    "warnings.filterwarnings('ignore')"
   ]
  },
  {
   "cell_type": "code",
   "execution_count": 2,
   "id": "6ed85a88",
   "metadata": {},
   "outputs": [
    {
     "data": {
      "text/plain": [
       "'F:\\\\Python Learning\\\\Imarticus'"
      ]
     },
     "execution_count": 2,
     "metadata": {},
     "output_type": "execute_result"
    }
   ],
   "source": [
    "os.getcwd()"
   ]
  },
  {
   "cell_type": "code",
   "execution_count": 3,
   "id": "3d2e1063",
   "metadata": {},
   "outputs": [],
   "source": [
    "df = pd.read_csv(\"datasets/dataframe operations/who.csv\")"
   ]
  },
  {
   "cell_type": "code",
   "execution_count": 4,
   "id": "7a900e26",
   "metadata": {},
   "outputs": [
    {
     "data": {
      "text/html": [
       "<div>\n",
       "<style scoped>\n",
       "    .dataframe tbody tr th:only-of-type {\n",
       "        vertical-align: middle;\n",
       "    }\n",
       "\n",
       "    .dataframe tbody tr th {\n",
       "        vertical-align: top;\n",
       "    }\n",
       "\n",
       "    .dataframe thead th {\n",
       "        text-align: right;\n",
       "    }\n",
       "</style>\n",
       "<table border=\"1\" class=\"dataframe\">\n",
       "  <thead>\n",
       "    <tr style=\"text-align: right;\">\n",
       "      <th></th>\n",
       "      <th>Unnamed: 0</th>\n",
       "      <th>country</th>\n",
       "      <th>iso2</th>\n",
       "      <th>iso3</th>\n",
       "      <th>year</th>\n",
       "      <th>new_sp_m014</th>\n",
       "      <th>new_sp_m1524</th>\n",
       "      <th>new_sp_m2534</th>\n",
       "      <th>new_sp_m3544</th>\n",
       "      <th>new_sp_m4554</th>\n",
       "      <th>...</th>\n",
       "      <th>newrel_m4554</th>\n",
       "      <th>newrel_m5564</th>\n",
       "      <th>newrel_m65</th>\n",
       "      <th>newrel_f014</th>\n",
       "      <th>newrel_f1524</th>\n",
       "      <th>newrel_f2534</th>\n",
       "      <th>newrel_f3544</th>\n",
       "      <th>newrel_f4554</th>\n",
       "      <th>newrel_f5564</th>\n",
       "      <th>newrel_f65</th>\n",
       "    </tr>\n",
       "  </thead>\n",
       "  <tbody>\n",
       "    <tr>\n",
       "      <th>0</th>\n",
       "      <td>1</td>\n",
       "      <td>Afghanistan</td>\n",
       "      <td>AF</td>\n",
       "      <td>AFG</td>\n",
       "      <td>1980</td>\n",
       "      <td>NaN</td>\n",
       "      <td>NaN</td>\n",
       "      <td>NaN</td>\n",
       "      <td>NaN</td>\n",
       "      <td>NaN</td>\n",
       "      <td>...</td>\n",
       "      <td>NaN</td>\n",
       "      <td>NaN</td>\n",
       "      <td>NaN</td>\n",
       "      <td>NaN</td>\n",
       "      <td>NaN</td>\n",
       "      <td>NaN</td>\n",
       "      <td>NaN</td>\n",
       "      <td>NaN</td>\n",
       "      <td>NaN</td>\n",
       "      <td>NaN</td>\n",
       "    </tr>\n",
       "    <tr>\n",
       "      <th>1</th>\n",
       "      <td>2</td>\n",
       "      <td>Afghanistan</td>\n",
       "      <td>AF</td>\n",
       "      <td>AFG</td>\n",
       "      <td>1981</td>\n",
       "      <td>NaN</td>\n",
       "      <td>NaN</td>\n",
       "      <td>NaN</td>\n",
       "      <td>NaN</td>\n",
       "      <td>NaN</td>\n",
       "      <td>...</td>\n",
       "      <td>NaN</td>\n",
       "      <td>NaN</td>\n",
       "      <td>NaN</td>\n",
       "      <td>NaN</td>\n",
       "      <td>NaN</td>\n",
       "      <td>NaN</td>\n",
       "      <td>NaN</td>\n",
       "      <td>NaN</td>\n",
       "      <td>NaN</td>\n",
       "      <td>NaN</td>\n",
       "    </tr>\n",
       "    <tr>\n",
       "      <th>2</th>\n",
       "      <td>3</td>\n",
       "      <td>Afghanistan</td>\n",
       "      <td>AF</td>\n",
       "      <td>AFG</td>\n",
       "      <td>1982</td>\n",
       "      <td>NaN</td>\n",
       "      <td>NaN</td>\n",
       "      <td>NaN</td>\n",
       "      <td>NaN</td>\n",
       "      <td>NaN</td>\n",
       "      <td>...</td>\n",
       "      <td>NaN</td>\n",
       "      <td>NaN</td>\n",
       "      <td>NaN</td>\n",
       "      <td>NaN</td>\n",
       "      <td>NaN</td>\n",
       "      <td>NaN</td>\n",
       "      <td>NaN</td>\n",
       "      <td>NaN</td>\n",
       "      <td>NaN</td>\n",
       "      <td>NaN</td>\n",
       "    </tr>\n",
       "    <tr>\n",
       "      <th>3</th>\n",
       "      <td>4</td>\n",
       "      <td>Afghanistan</td>\n",
       "      <td>AF</td>\n",
       "      <td>AFG</td>\n",
       "      <td>1983</td>\n",
       "      <td>NaN</td>\n",
       "      <td>NaN</td>\n",
       "      <td>NaN</td>\n",
       "      <td>NaN</td>\n",
       "      <td>NaN</td>\n",
       "      <td>...</td>\n",
       "      <td>NaN</td>\n",
       "      <td>NaN</td>\n",
       "      <td>NaN</td>\n",
       "      <td>NaN</td>\n",
       "      <td>NaN</td>\n",
       "      <td>NaN</td>\n",
       "      <td>NaN</td>\n",
       "      <td>NaN</td>\n",
       "      <td>NaN</td>\n",
       "      <td>NaN</td>\n",
       "    </tr>\n",
       "    <tr>\n",
       "      <th>4</th>\n",
       "      <td>5</td>\n",
       "      <td>Afghanistan</td>\n",
       "      <td>AF</td>\n",
       "      <td>AFG</td>\n",
       "      <td>1984</td>\n",
       "      <td>NaN</td>\n",
       "      <td>NaN</td>\n",
       "      <td>NaN</td>\n",
       "      <td>NaN</td>\n",
       "      <td>NaN</td>\n",
       "      <td>...</td>\n",
       "      <td>NaN</td>\n",
       "      <td>NaN</td>\n",
       "      <td>NaN</td>\n",
       "      <td>NaN</td>\n",
       "      <td>NaN</td>\n",
       "      <td>NaN</td>\n",
       "      <td>NaN</td>\n",
       "      <td>NaN</td>\n",
       "      <td>NaN</td>\n",
       "      <td>NaN</td>\n",
       "    </tr>\n",
       "  </tbody>\n",
       "</table>\n",
       "<p>5 rows × 61 columns</p>\n",
       "</div>"
      ],
      "text/plain": [
       "   Unnamed: 0      country iso2 iso3  year  new_sp_m014  new_sp_m1524  \\\n",
       "0           1  Afghanistan   AF  AFG  1980          NaN           NaN   \n",
       "1           2  Afghanistan   AF  AFG  1981          NaN           NaN   \n",
       "2           3  Afghanistan   AF  AFG  1982          NaN           NaN   \n",
       "3           4  Afghanistan   AF  AFG  1983          NaN           NaN   \n",
       "4           5  Afghanistan   AF  AFG  1984          NaN           NaN   \n",
       "\n",
       "   new_sp_m2534  new_sp_m3544  new_sp_m4554  ...  newrel_m4554  newrel_m5564  \\\n",
       "0           NaN           NaN           NaN  ...           NaN           NaN   \n",
       "1           NaN           NaN           NaN  ...           NaN           NaN   \n",
       "2           NaN           NaN           NaN  ...           NaN           NaN   \n",
       "3           NaN           NaN           NaN  ...           NaN           NaN   \n",
       "4           NaN           NaN           NaN  ...           NaN           NaN   \n",
       "\n",
       "   newrel_m65  newrel_f014  newrel_f1524  newrel_f2534  newrel_f3544  \\\n",
       "0         NaN          NaN           NaN           NaN           NaN   \n",
       "1         NaN          NaN           NaN           NaN           NaN   \n",
       "2         NaN          NaN           NaN           NaN           NaN   \n",
       "3         NaN          NaN           NaN           NaN           NaN   \n",
       "4         NaN          NaN           NaN           NaN           NaN   \n",
       "\n",
       "   newrel_f4554  newrel_f5564  newrel_f65  \n",
       "0           NaN           NaN         NaN  \n",
       "1           NaN           NaN         NaN  \n",
       "2           NaN           NaN         NaN  \n",
       "3           NaN           NaN         NaN  \n",
       "4           NaN           NaN         NaN  \n",
       "\n",
       "[5 rows x 61 columns]"
      ]
     },
     "execution_count": 4,
     "metadata": {},
     "output_type": "execute_result"
    }
   ],
   "source": [
    "df.head()"
   ]
  },
  {
   "cell_type": "code",
   "execution_count": 5,
   "id": "1d358a56",
   "metadata": {},
   "outputs": [
    {
     "data": {
      "text/plain": [
       "(7240, 61)"
      ]
     },
     "execution_count": 5,
     "metadata": {},
     "output_type": "execute_result"
    }
   ],
   "source": [
    "df.shape"
   ]
  },
  {
   "cell_type": "markdown",
   "id": "74c9b8cb",
   "metadata": {},
   "source": [
    "Dropping the unwanted columns"
   ]
  },
  {
   "cell_type": "code",
   "execution_count": 6,
   "id": "3291d2ff",
   "metadata": {},
   "outputs": [],
   "source": [
    "df.drop(['Unnamed: 0','iso2','iso3'],axis=1,inplace=True)"
   ]
  },
  {
   "cell_type": "code",
   "execution_count": 7,
   "id": "032ac751",
   "metadata": {},
   "outputs": [
    {
     "data": {
      "text/plain": [
       "Index(['country', 'year', 'new_sp_m014', 'new_sp_m1524', 'new_sp_m2534',\n",
       "       'new_sp_m3544', 'new_sp_m4554', 'new_sp_m5564', 'new_sp_m65',\n",
       "       'new_sp_f014', 'new_sp_f1524', 'new_sp_f2534', 'new_sp_f3544',\n",
       "       'new_sp_f4554', 'new_sp_f5564', 'new_sp_f65', 'new_sn_m014',\n",
       "       'new_sn_m1524', 'new_sn_m2534', 'new_sn_m3544', 'new_sn_m4554',\n",
       "       'new_sn_m5564', 'new_sn_m65', 'new_sn_f014', 'new_sn_f1524',\n",
       "       'new_sn_f2534', 'new_sn_f3544', 'new_sn_f4554', 'new_sn_f5564',\n",
       "       'new_sn_f65', 'new_ep_m014', 'new_ep_m1524', 'new_ep_m2534',\n",
       "       'new_ep_m3544', 'new_ep_m4554', 'new_ep_m5564', 'new_ep_m65',\n",
       "       'new_ep_f014', 'new_ep_f1524', 'new_ep_f2534', 'new_ep_f3544',\n",
       "       'new_ep_f4554', 'new_ep_f5564', 'new_ep_f65', 'newrel_m014',\n",
       "       'newrel_m1524', 'newrel_m2534', 'newrel_m3544', 'newrel_m4554',\n",
       "       'newrel_m5564', 'newrel_m65', 'newrel_f014', 'newrel_f1524',\n",
       "       'newrel_f2534', 'newrel_f3544', 'newrel_f4554', 'newrel_f5564',\n",
       "       'newrel_f65'],\n",
       "      dtype='object')"
      ]
     },
     "execution_count": 7,
     "metadata": {},
     "output_type": "execute_result"
    }
   ],
   "source": [
    "df.columns"
   ]
  },
  {
   "cell_type": "markdown",
   "id": "2fb92be0",
   "metadata": {},
   "source": [
    "The next step is, bringing the wide data into long format.  What are my id variables?  Country and Year are my ID variables."
   ]
  },
  {
   "cell_type": "code",
   "execution_count": 8,
   "id": "2411d72b",
   "metadata": {},
   "outputs": [],
   "source": [
    "df1 = df.melt(id_vars=['country','year']).dropna()"
   ]
  },
  {
   "cell_type": "code",
   "execution_count": 9,
   "id": "04e4e0a5",
   "metadata": {},
   "outputs": [
    {
     "data": {
      "text/plain": [
       "(76046, 4)"
      ]
     },
     "execution_count": 9,
     "metadata": {},
     "output_type": "execute_result"
    }
   ],
   "source": [
    "df1.shape"
   ]
  },
  {
   "cell_type": "code",
   "execution_count": 10,
   "id": "73e97caf",
   "metadata": {},
   "outputs": [
    {
     "data": {
      "text/plain": [
       "country     0\n",
       "year        0\n",
       "variable    0\n",
       "value       0\n",
       "dtype: int64"
      ]
     },
     "execution_count": 10,
     "metadata": {},
     "output_type": "execute_result"
    }
   ],
   "source": [
    "df1.isnull().sum()"
   ]
  },
  {
   "cell_type": "code",
   "execution_count": 11,
   "id": "acd8e3ff",
   "metadata": {},
   "outputs": [
    {
     "data": {
      "text/plain": [
       "new_sp_m4554    3223\n",
       "new_sp_m3544    3219\n",
       "new_sp_m5564    3218\n",
       "new_sp_m65      3209\n",
       "new_sp_m1524    3209\n",
       "new_sp_m2534    3206\n",
       "new_sp_f4554    3204\n",
       "new_sp_f2534    3200\n",
       "new_sp_f3544    3199\n",
       "new_sp_f65      3197\n",
       "new_sp_f5564    3195\n",
       "new_sp_f1524    3194\n",
       "new_sp_f014     3174\n",
       "new_sp_m014     3173\n",
       "new_sn_m014     1045\n",
       "new_sn_f014     1040\n",
       "new_ep_m014     1038\n",
       "new_ep_f014     1032\n",
       "new_sn_m1524    1030\n",
       "new_sn_m4554    1027\n",
       "new_ep_m1524    1026\n",
       "new_sn_m3544    1025\n",
       "new_ep_m3544    1024\n",
       "new_sn_m2534    1022\n",
       "new_sn_f1524    1022\n",
       "new_ep_f3544    1021\n",
       "new_ep_f2534    1021\n",
       "new_ep_f1524    1021\n",
       "new_sn_m5564    1021\n",
       "new_ep_m2534    1020\n",
       "new_ep_m4554    1020\n",
       "new_sn_f3544    1020\n",
       "new_sn_m65      1020\n",
       "new_sn_f65      1019\n",
       "new_sn_f4554    1018\n",
       "new_ep_m65      1018\n",
       "new_ep_f4554    1017\n",
       "new_ep_f5564    1017\n",
       "new_sn_f5564    1017\n",
       "new_sn_f2534    1016\n",
       "new_ep_m5564    1015\n",
       "new_ep_f65      1014\n",
       "newrel_f014      190\n",
       "newrel_m014      190\n",
       "newrel_m5564     185\n",
       "newrel_f65       185\n",
       "newrel_m3544     184\n",
       "newrel_m4554     184\n",
       "newrel_f1524     184\n",
       "newrel_m2534     183\n",
       "newrel_f3544     183\n",
       "newrel_f4554     183\n",
       "newrel_f5564     183\n",
       "newrel_m65       182\n",
       "newrel_m1524     182\n",
       "newrel_f2534     182\n",
       "Name: variable, dtype: int64"
      ]
     },
     "execution_count": 11,
     "metadata": {},
     "output_type": "execute_result"
    }
   ],
   "source": [
    "df1.variable.value_counts()"
   ]
  },
  {
   "cell_type": "markdown",
   "id": "457687bf",
   "metadata": {},
   "source": [
    "Now, we are splitting the variable column by separating the age group."
   ]
  },
  {
   "cell_type": "code",
   "execution_count": 12,
   "id": "b1bf1815",
   "metadata": {},
   "outputs": [],
   "source": [
    "df1['agegrp'] = df1.variable.str.split('_').apply(lambda x:x[-1])"
   ]
  },
  {
   "cell_type": "code",
   "execution_count": 13,
   "id": "544fd7e5",
   "metadata": {},
   "outputs": [
    {
     "data": {
      "text/html": [
       "<div>\n",
       "<style scoped>\n",
       "    .dataframe tbody tr th:only-of-type {\n",
       "        vertical-align: middle;\n",
       "    }\n",
       "\n",
       "    .dataframe tbody tr th {\n",
       "        vertical-align: top;\n",
       "    }\n",
       "\n",
       "    .dataframe thead th {\n",
       "        text-align: right;\n",
       "    }\n",
       "</style>\n",
       "<table border=\"1\" class=\"dataframe\">\n",
       "  <thead>\n",
       "    <tr style=\"text-align: right;\">\n",
       "      <th></th>\n",
       "      <th>country</th>\n",
       "      <th>year</th>\n",
       "      <th>variable</th>\n",
       "      <th>value</th>\n",
       "      <th>agegrp</th>\n",
       "    </tr>\n",
       "  </thead>\n",
       "  <tbody>\n",
       "    <tr>\n",
       "      <th>17</th>\n",
       "      <td>Afghanistan</td>\n",
       "      <td>1997</td>\n",
       "      <td>new_sp_m014</td>\n",
       "      <td>0.0</td>\n",
       "      <td>m014</td>\n",
       "    </tr>\n",
       "    <tr>\n",
       "      <th>18</th>\n",
       "      <td>Afghanistan</td>\n",
       "      <td>1998</td>\n",
       "      <td>new_sp_m014</td>\n",
       "      <td>30.0</td>\n",
       "      <td>m014</td>\n",
       "    </tr>\n",
       "    <tr>\n",
       "      <th>19</th>\n",
       "      <td>Afghanistan</td>\n",
       "      <td>1999</td>\n",
       "      <td>new_sp_m014</td>\n",
       "      <td>8.0</td>\n",
       "      <td>m014</td>\n",
       "    </tr>\n",
       "    <tr>\n",
       "      <th>20</th>\n",
       "      <td>Afghanistan</td>\n",
       "      <td>2000</td>\n",
       "      <td>new_sp_m014</td>\n",
       "      <td>52.0</td>\n",
       "      <td>m014</td>\n",
       "    </tr>\n",
       "    <tr>\n",
       "      <th>21</th>\n",
       "      <td>Afghanistan</td>\n",
       "      <td>2001</td>\n",
       "      <td>new_sp_m014</td>\n",
       "      <td>129.0</td>\n",
       "      <td>m014</td>\n",
       "    </tr>\n",
       "  </tbody>\n",
       "</table>\n",
       "</div>"
      ],
      "text/plain": [
       "        country  year     variable  value agegrp\n",
       "17  Afghanistan  1997  new_sp_m014    0.0   m014\n",
       "18  Afghanistan  1998  new_sp_m014   30.0   m014\n",
       "19  Afghanistan  1999  new_sp_m014    8.0   m014\n",
       "20  Afghanistan  2000  new_sp_m014   52.0   m014\n",
       "21  Afghanistan  2001  new_sp_m014  129.0   m014"
      ]
     },
     "execution_count": 13,
     "metadata": {},
     "output_type": "execute_result"
    }
   ],
   "source": [
    "df1.head()"
   ]
  },
  {
   "cell_type": "markdown",
   "id": "45d04881",
   "metadata": {},
   "source": [
    "Now, we are separating the gender from agegrp column."
   ]
  },
  {
   "cell_type": "code",
   "execution_count": 14,
   "id": "78c48817",
   "metadata": {},
   "outputs": [],
   "source": [
    "df1['gender'] = df1.loc[:, 'agegrp'].apply(lambda x: x[0])"
   ]
  },
  {
   "cell_type": "code",
   "execution_count": 15,
   "id": "8391c24e",
   "metadata": {},
   "outputs": [
    {
     "data": {
      "text/html": [
       "<div>\n",
       "<style scoped>\n",
       "    .dataframe tbody tr th:only-of-type {\n",
       "        vertical-align: middle;\n",
       "    }\n",
       "\n",
       "    .dataframe tbody tr th {\n",
       "        vertical-align: top;\n",
       "    }\n",
       "\n",
       "    .dataframe thead th {\n",
       "        text-align: right;\n",
       "    }\n",
       "</style>\n",
       "<table border=\"1\" class=\"dataframe\">\n",
       "  <thead>\n",
       "    <tr style=\"text-align: right;\">\n",
       "      <th></th>\n",
       "      <th>country</th>\n",
       "      <th>year</th>\n",
       "      <th>variable</th>\n",
       "      <th>value</th>\n",
       "      <th>agegrp</th>\n",
       "      <th>gender</th>\n",
       "    </tr>\n",
       "  </thead>\n",
       "  <tbody>\n",
       "    <tr>\n",
       "      <th>17</th>\n",
       "      <td>Afghanistan</td>\n",
       "      <td>1997</td>\n",
       "      <td>new_sp_m014</td>\n",
       "      <td>0.0</td>\n",
       "      <td>m014</td>\n",
       "      <td>m</td>\n",
       "    </tr>\n",
       "    <tr>\n",
       "      <th>18</th>\n",
       "      <td>Afghanistan</td>\n",
       "      <td>1998</td>\n",
       "      <td>new_sp_m014</td>\n",
       "      <td>30.0</td>\n",
       "      <td>m014</td>\n",
       "      <td>m</td>\n",
       "    </tr>\n",
       "    <tr>\n",
       "      <th>19</th>\n",
       "      <td>Afghanistan</td>\n",
       "      <td>1999</td>\n",
       "      <td>new_sp_m014</td>\n",
       "      <td>8.0</td>\n",
       "      <td>m014</td>\n",
       "      <td>m</td>\n",
       "    </tr>\n",
       "    <tr>\n",
       "      <th>20</th>\n",
       "      <td>Afghanistan</td>\n",
       "      <td>2000</td>\n",
       "      <td>new_sp_m014</td>\n",
       "      <td>52.0</td>\n",
       "      <td>m014</td>\n",
       "      <td>m</td>\n",
       "    </tr>\n",
       "    <tr>\n",
       "      <th>21</th>\n",
       "      <td>Afghanistan</td>\n",
       "      <td>2001</td>\n",
       "      <td>new_sp_m014</td>\n",
       "      <td>129.0</td>\n",
       "      <td>m014</td>\n",
       "      <td>m</td>\n",
       "    </tr>\n",
       "  </tbody>\n",
       "</table>\n",
       "</div>"
      ],
      "text/plain": [
       "        country  year     variable  value agegrp gender\n",
       "17  Afghanistan  1997  new_sp_m014    0.0   m014      m\n",
       "18  Afghanistan  1998  new_sp_m014   30.0   m014      m\n",
       "19  Afghanistan  1999  new_sp_m014    8.0   m014      m\n",
       "20  Afghanistan  2000  new_sp_m014   52.0   m014      m\n",
       "21  Afghanistan  2001  new_sp_m014  129.0   m014      m"
      ]
     },
     "execution_count": 15,
     "metadata": {},
     "output_type": "execute_result"
    }
   ],
   "source": [
    "df1.head()"
   ]
  },
  {
   "cell_type": "markdown",
   "id": "656785cc",
   "metadata": {},
   "source": [
    "Since we created a gender column, we can remove the gender information from age group."
   ]
  },
  {
   "cell_type": "code",
   "execution_count": 16,
   "id": "cd11ade9",
   "metadata": {},
   "outputs": [],
   "source": [
    "df1['agegrp'] = df1['agegrp'].apply(lambda x: x[1:])"
   ]
  },
  {
   "cell_type": "code",
   "execution_count": 17,
   "id": "49d9dd64",
   "metadata": {},
   "outputs": [
    {
     "data": {
      "text/html": [
       "<div>\n",
       "<style scoped>\n",
       "    .dataframe tbody tr th:only-of-type {\n",
       "        vertical-align: middle;\n",
       "    }\n",
       "\n",
       "    .dataframe tbody tr th {\n",
       "        vertical-align: top;\n",
       "    }\n",
       "\n",
       "    .dataframe thead th {\n",
       "        text-align: right;\n",
       "    }\n",
       "</style>\n",
       "<table border=\"1\" class=\"dataframe\">\n",
       "  <thead>\n",
       "    <tr style=\"text-align: right;\">\n",
       "      <th></th>\n",
       "      <th>country</th>\n",
       "      <th>year</th>\n",
       "      <th>variable</th>\n",
       "      <th>value</th>\n",
       "      <th>agegrp</th>\n",
       "      <th>gender</th>\n",
       "    </tr>\n",
       "  </thead>\n",
       "  <tbody>\n",
       "    <tr>\n",
       "      <th>17</th>\n",
       "      <td>Afghanistan</td>\n",
       "      <td>1997</td>\n",
       "      <td>new_sp_m014</td>\n",
       "      <td>0.0</td>\n",
       "      <td>014</td>\n",
       "      <td>m</td>\n",
       "    </tr>\n",
       "    <tr>\n",
       "      <th>18</th>\n",
       "      <td>Afghanistan</td>\n",
       "      <td>1998</td>\n",
       "      <td>new_sp_m014</td>\n",
       "      <td>30.0</td>\n",
       "      <td>014</td>\n",
       "      <td>m</td>\n",
       "    </tr>\n",
       "    <tr>\n",
       "      <th>19</th>\n",
       "      <td>Afghanistan</td>\n",
       "      <td>1999</td>\n",
       "      <td>new_sp_m014</td>\n",
       "      <td>8.0</td>\n",
       "      <td>014</td>\n",
       "      <td>m</td>\n",
       "    </tr>\n",
       "    <tr>\n",
       "      <th>20</th>\n",
       "      <td>Afghanistan</td>\n",
       "      <td>2000</td>\n",
       "      <td>new_sp_m014</td>\n",
       "      <td>52.0</td>\n",
       "      <td>014</td>\n",
       "      <td>m</td>\n",
       "    </tr>\n",
       "    <tr>\n",
       "      <th>21</th>\n",
       "      <td>Afghanistan</td>\n",
       "      <td>2001</td>\n",
       "      <td>new_sp_m014</td>\n",
       "      <td>129.0</td>\n",
       "      <td>014</td>\n",
       "      <td>m</td>\n",
       "    </tr>\n",
       "  </tbody>\n",
       "</table>\n",
       "</div>"
      ],
      "text/plain": [
       "        country  year     variable  value agegrp gender\n",
       "17  Afghanistan  1997  new_sp_m014    0.0    014      m\n",
       "18  Afghanistan  1998  new_sp_m014   30.0    014      m\n",
       "19  Afghanistan  1999  new_sp_m014    8.0    014      m\n",
       "20  Afghanistan  2000  new_sp_m014   52.0    014      m\n",
       "21  Afghanistan  2001  new_sp_m014  129.0    014      m"
      ]
     },
     "execution_count": 17,
     "metadata": {},
     "output_type": "execute_result"
    }
   ],
   "source": [
    "df1.head()"
   ]
  },
  {
   "cell_type": "markdown",
   "id": "f73b4b1f",
   "metadata": {},
   "source": [
    "Now, we are removing the unwanted string 'new_' and 'new' variable, so that we can create the treatment type column."
   ]
  },
  {
   "cell_type": "code",
   "execution_count": 18,
   "id": "26edb46d",
   "metadata": {},
   "outputs": [],
   "source": [
    "df1['variable'] = df1['variable'].replace({'new_':'','new':''},regex=True)"
   ]
  },
  {
   "cell_type": "code",
   "execution_count": 19,
   "id": "d6909fa1",
   "metadata": {},
   "outputs": [
    {
     "name": "stdout",
     "output_type": "stream",
     "text": [
      "        country  year variable  value agegrp gender\n",
      "17  Afghanistan  1997  sp_m014    0.0    014      m\n",
      "18  Afghanistan  1998  sp_m014   30.0    014      m\n",
      "19  Afghanistan  1999  sp_m014    8.0    014      m\n",
      "20  Afghanistan  2000  sp_m014   52.0    014      m\n",
      "21  Afghanistan  2001  sp_m014  129.0    014      m\n",
      "                                   country  year variable   value agegrp  \\\n",
      "405065            United States of America  2013  rel_f65   786.0     65   \n",
      "405099                             Uruguay  2013  rel_f65    35.0     65   \n",
      "405167                          Uzbekistan  2013  rel_f65  1120.0     65   \n",
      "405201                             Vanuatu  2013  rel_f65     7.0     65   \n",
      "405235  Venezuela (Bolivarian Republic of)  2013  rel_f65   402.0     65   \n",
      "405269                            Viet Nam  2013  rel_f65  3110.0     65   \n",
      "405303           Wallis and Futuna Islands  2013  rel_f65     2.0     65   \n",
      "405371                               Yemen  2013  rel_f65   360.0     65   \n",
      "405405                              Zambia  2013  rel_f65   669.0     65   \n",
      "405439                            Zimbabwe  2013  rel_f65   725.0     65   \n",
      "\n",
      "       gender  \n",
      "405065      f  \n",
      "405099      f  \n",
      "405167      f  \n",
      "405201      f  \n",
      "405235      f  \n",
      "405269      f  \n",
      "405303      f  \n",
      "405371      f  \n",
      "405405      f  \n",
      "405439      f  \n"
     ]
    }
   ],
   "source": [
    "print(df1.head())\n",
    "print(df1.tail(10))"
   ]
  },
  {
   "cell_type": "code",
   "execution_count": 20,
   "id": "0433dcc0",
   "metadata": {},
   "outputs": [],
   "source": [
    "df1['treat_type'] = df1['variable'].str.split('_').apply(lambda x: x[0])"
   ]
  },
  {
   "cell_type": "code",
   "execution_count": 21,
   "id": "d85d80c4",
   "metadata": {},
   "outputs": [
    {
     "data": {
      "text/html": [
       "<div>\n",
       "<style scoped>\n",
       "    .dataframe tbody tr th:only-of-type {\n",
       "        vertical-align: middle;\n",
       "    }\n",
       "\n",
       "    .dataframe tbody tr th {\n",
       "        vertical-align: top;\n",
       "    }\n",
       "\n",
       "    .dataframe thead th {\n",
       "        text-align: right;\n",
       "    }\n",
       "</style>\n",
       "<table border=\"1\" class=\"dataframe\">\n",
       "  <thead>\n",
       "    <tr style=\"text-align: right;\">\n",
       "      <th></th>\n",
       "      <th>country</th>\n",
       "      <th>year</th>\n",
       "      <th>variable</th>\n",
       "      <th>value</th>\n",
       "      <th>agegrp</th>\n",
       "      <th>gender</th>\n",
       "      <th>treat_type</th>\n",
       "    </tr>\n",
       "  </thead>\n",
       "  <tbody>\n",
       "    <tr>\n",
       "      <th>17</th>\n",
       "      <td>Afghanistan</td>\n",
       "      <td>1997</td>\n",
       "      <td>sp_m014</td>\n",
       "      <td>0.0</td>\n",
       "      <td>014</td>\n",
       "      <td>m</td>\n",
       "      <td>sp</td>\n",
       "    </tr>\n",
       "    <tr>\n",
       "      <th>18</th>\n",
       "      <td>Afghanistan</td>\n",
       "      <td>1998</td>\n",
       "      <td>sp_m014</td>\n",
       "      <td>30.0</td>\n",
       "      <td>014</td>\n",
       "      <td>m</td>\n",
       "      <td>sp</td>\n",
       "    </tr>\n",
       "    <tr>\n",
       "      <th>19</th>\n",
       "      <td>Afghanistan</td>\n",
       "      <td>1999</td>\n",
       "      <td>sp_m014</td>\n",
       "      <td>8.0</td>\n",
       "      <td>014</td>\n",
       "      <td>m</td>\n",
       "      <td>sp</td>\n",
       "    </tr>\n",
       "    <tr>\n",
       "      <th>20</th>\n",
       "      <td>Afghanistan</td>\n",
       "      <td>2000</td>\n",
       "      <td>sp_m014</td>\n",
       "      <td>52.0</td>\n",
       "      <td>014</td>\n",
       "      <td>m</td>\n",
       "      <td>sp</td>\n",
       "    </tr>\n",
       "    <tr>\n",
       "      <th>21</th>\n",
       "      <td>Afghanistan</td>\n",
       "      <td>2001</td>\n",
       "      <td>sp_m014</td>\n",
       "      <td>129.0</td>\n",
       "      <td>014</td>\n",
       "      <td>m</td>\n",
       "      <td>sp</td>\n",
       "    </tr>\n",
       "  </tbody>\n",
       "</table>\n",
       "</div>"
      ],
      "text/plain": [
       "        country  year variable  value agegrp gender treat_type\n",
       "17  Afghanistan  1997  sp_m014    0.0    014      m         sp\n",
       "18  Afghanistan  1998  sp_m014   30.0    014      m         sp\n",
       "19  Afghanistan  1999  sp_m014    8.0    014      m         sp\n",
       "20  Afghanistan  2000  sp_m014   52.0    014      m         sp\n",
       "21  Afghanistan  2001  sp_m014  129.0    014      m         sp"
      ]
     },
     "execution_count": 21,
     "metadata": {},
     "output_type": "execute_result"
    }
   ],
   "source": [
    "df1.head()"
   ]
  },
  {
   "cell_type": "markdown",
   "id": "06b1d304",
   "metadata": {},
   "source": [
    "In the last step we can drop the unwanted column 'variable'.  we got the clean dataset for our analysis."
   ]
  },
  {
   "cell_type": "code",
   "execution_count": 22,
   "id": "3923b681",
   "metadata": {},
   "outputs": [
    {
     "data": {
      "text/html": [
       "<div>\n",
       "<style scoped>\n",
       "    .dataframe tbody tr th:only-of-type {\n",
       "        vertical-align: middle;\n",
       "    }\n",
       "\n",
       "    .dataframe tbody tr th {\n",
       "        vertical-align: top;\n",
       "    }\n",
       "\n",
       "    .dataframe thead th {\n",
       "        text-align: right;\n",
       "    }\n",
       "</style>\n",
       "<table border=\"1\" class=\"dataframe\">\n",
       "  <thead>\n",
       "    <tr style=\"text-align: right;\">\n",
       "      <th></th>\n",
       "      <th>country</th>\n",
       "      <th>year</th>\n",
       "      <th>value</th>\n",
       "      <th>agegrp</th>\n",
       "      <th>gender</th>\n",
       "      <th>treat_type</th>\n",
       "    </tr>\n",
       "  </thead>\n",
       "  <tbody>\n",
       "    <tr>\n",
       "      <th>17</th>\n",
       "      <td>Afghanistan</td>\n",
       "      <td>1997</td>\n",
       "      <td>0.0</td>\n",
       "      <td>014</td>\n",
       "      <td>m</td>\n",
       "      <td>sp</td>\n",
       "    </tr>\n",
       "    <tr>\n",
       "      <th>18</th>\n",
       "      <td>Afghanistan</td>\n",
       "      <td>1998</td>\n",
       "      <td>30.0</td>\n",
       "      <td>014</td>\n",
       "      <td>m</td>\n",
       "      <td>sp</td>\n",
       "    </tr>\n",
       "    <tr>\n",
       "      <th>19</th>\n",
       "      <td>Afghanistan</td>\n",
       "      <td>1999</td>\n",
       "      <td>8.0</td>\n",
       "      <td>014</td>\n",
       "      <td>m</td>\n",
       "      <td>sp</td>\n",
       "    </tr>\n",
       "    <tr>\n",
       "      <th>20</th>\n",
       "      <td>Afghanistan</td>\n",
       "      <td>2000</td>\n",
       "      <td>52.0</td>\n",
       "      <td>014</td>\n",
       "      <td>m</td>\n",
       "      <td>sp</td>\n",
       "    </tr>\n",
       "    <tr>\n",
       "      <th>21</th>\n",
       "      <td>Afghanistan</td>\n",
       "      <td>2001</td>\n",
       "      <td>129.0</td>\n",
       "      <td>014</td>\n",
       "      <td>m</td>\n",
       "      <td>sp</td>\n",
       "    </tr>\n",
       "  </tbody>\n",
       "</table>\n",
       "</div>"
      ],
      "text/plain": [
       "        country  year  value agegrp gender treat_type\n",
       "17  Afghanistan  1997    0.0    014      m         sp\n",
       "18  Afghanistan  1998   30.0    014      m         sp\n",
       "19  Afghanistan  1999    8.0    014      m         sp\n",
       "20  Afghanistan  2000   52.0    014      m         sp\n",
       "21  Afghanistan  2001  129.0    014      m         sp"
      ]
     },
     "execution_count": 22,
     "metadata": {},
     "output_type": "execute_result"
    }
   ],
   "source": [
    "df1.drop(['variable'],axis=1,inplace=True)\n",
    "df1.head()"
   ]
  },
  {
   "cell_type": "code",
   "execution_count": 23,
   "id": "ffbaab4f",
   "metadata": {},
   "outputs": [],
   "source": [
    "df1.reset_index(drop=True, inplace=True)"
   ]
  },
  {
   "cell_type": "code",
   "execution_count": 24,
   "id": "cfd94a6b",
   "metadata": {},
   "outputs": [
    {
     "data": {
      "text/html": [
       "<div>\n",
       "<style scoped>\n",
       "    .dataframe tbody tr th:only-of-type {\n",
       "        vertical-align: middle;\n",
       "    }\n",
       "\n",
       "    .dataframe tbody tr th {\n",
       "        vertical-align: top;\n",
       "    }\n",
       "\n",
       "    .dataframe thead th {\n",
       "        text-align: right;\n",
       "    }\n",
       "</style>\n",
       "<table border=\"1\" class=\"dataframe\">\n",
       "  <thead>\n",
       "    <tr style=\"text-align: right;\">\n",
       "      <th></th>\n",
       "      <th>country</th>\n",
       "      <th>year</th>\n",
       "      <th>value</th>\n",
       "      <th>agegrp</th>\n",
       "      <th>gender</th>\n",
       "      <th>treat_type</th>\n",
       "    </tr>\n",
       "  </thead>\n",
       "  <tbody>\n",
       "    <tr>\n",
       "      <th>0</th>\n",
       "      <td>Afghanistan</td>\n",
       "      <td>1997</td>\n",
       "      <td>0.0</td>\n",
       "      <td>014</td>\n",
       "      <td>m</td>\n",
       "      <td>sp</td>\n",
       "    </tr>\n",
       "    <tr>\n",
       "      <th>1</th>\n",
       "      <td>Afghanistan</td>\n",
       "      <td>1998</td>\n",
       "      <td>30.0</td>\n",
       "      <td>014</td>\n",
       "      <td>m</td>\n",
       "      <td>sp</td>\n",
       "    </tr>\n",
       "    <tr>\n",
       "      <th>2</th>\n",
       "      <td>Afghanistan</td>\n",
       "      <td>1999</td>\n",
       "      <td>8.0</td>\n",
       "      <td>014</td>\n",
       "      <td>m</td>\n",
       "      <td>sp</td>\n",
       "    </tr>\n",
       "    <tr>\n",
       "      <th>3</th>\n",
       "      <td>Afghanistan</td>\n",
       "      <td>2000</td>\n",
       "      <td>52.0</td>\n",
       "      <td>014</td>\n",
       "      <td>m</td>\n",
       "      <td>sp</td>\n",
       "    </tr>\n",
       "    <tr>\n",
       "      <th>4</th>\n",
       "      <td>Afghanistan</td>\n",
       "      <td>2001</td>\n",
       "      <td>129.0</td>\n",
       "      <td>014</td>\n",
       "      <td>m</td>\n",
       "      <td>sp</td>\n",
       "    </tr>\n",
       "  </tbody>\n",
       "</table>\n",
       "</div>"
      ],
      "text/plain": [
       "       country  year  value agegrp gender treat_type\n",
       "0  Afghanistan  1997    0.0    014      m         sp\n",
       "1  Afghanistan  1998   30.0    014      m         sp\n",
       "2  Afghanistan  1999    8.0    014      m         sp\n",
       "3  Afghanistan  2000   52.0    014      m         sp\n",
       "4  Afghanistan  2001  129.0    014      m         sp"
      ]
     },
     "execution_count": 24,
     "metadata": {},
     "output_type": "execute_result"
    }
   ],
   "source": [
    "df1.head()"
   ]
  },
  {
   "cell_type": "code",
   "execution_count": 25,
   "id": "792b2065",
   "metadata": {},
   "outputs": [],
   "source": [
    "import matplotlib.pyplot as plt"
   ]
  },
  {
   "cell_type": "code",
   "execution_count": 26,
   "id": "817e4738",
   "metadata": {},
   "outputs": [
    {
     "data": {
      "image/png": "[encoded data removed]",
      "text/plain": [
       "<Figure size 432x288 with 1 Axes>"
      ]
     },
     "metadata": {
      "needs_background": "light"
     },
     "output_type": "display_data"
    }
   ],
   "source": [
    "df1.treat_type.value_counts().plot.bar()\n",
    "plt.show()"
   ]
  },
  {
   "cell_type": "code",
   "execution_count": 32,
   "id": "bd1c7c2c",
   "metadata": {},
   "outputs": [
    {
     "data": {
      "text/plain": [
       "<AxesSubplot:>"
      ]
     },
     "execution_count": 32,
     "metadata": {},
     "output_type": "execute_result"
    },
    {
     "data": {
      "image/png": "[encoded data removed]",
      "text/plain": [
       "<Figure size 432x288 with 1 Axes>"
      ]
     },
     "metadata": {
      "needs_background": "light"
     },
     "output_type": "display_data"
    }
   ],
   "source": [
    "df1.value.hist(bins=30)"
   ]
  },
  {
   "cell_type": "code",
   "execution_count": 33,
   "id": "df7d77f7",
   "metadata": {},
   "outputs": [
    {
     "data": {
      "text/plain": [
       "count     76046.000000\n",
       "mean        570.674565\n",
       "std        3544.814953\n",
       "min           0.000000\n",
       "25%           3.000000\n",
       "50%          26.000000\n",
       "75%         184.000000\n",
       "max      250051.000000\n",
       "Name: value, dtype: float64"
      ]
     },
     "execution_count": 33,
     "metadata": {},
     "output_type": "execute_result"
    }
   ],
   "source": [
    "df1.value.describe()"
   ]
  },
  {
   "cell_type": "code",
   "execution_count": 28,
   "id": "6c125f18",
   "metadata": {},
   "outputs": [
    {
     "data": {
      "text/plain": [
       "250051.0"
      ]
     },
     "execution_count": 28,
     "metadata": {},
     "output_type": "execute_result"
    }
   ],
   "source": [
    "df1.value.max()"
   ]
  },
  {
   "cell_type": "code",
   "execution_count": 31,
   "id": "3b3add90",
   "metadata": {},
   "outputs": [
    {
     "data": {
      "text/html": [
       "<div>\n",
       "<style scoped>\n",
       "    .dataframe tbody tr th:only-of-type {\n",
       "        vertical-align: middle;\n",
       "    }\n",
       "\n",
       "    .dataframe tbody tr th {\n",
       "        vertical-align: top;\n",
       "    }\n",
       "\n",
       "    .dataframe thead th {\n",
       "        text-align: right;\n",
       "    }\n",
       "</style>\n",
       "<table border=\"1\" class=\"dataframe\">\n",
       "  <thead>\n",
       "    <tr style=\"text-align: right;\">\n",
       "      <th></th>\n",
       "      <th>country</th>\n",
       "      <th>year</th>\n",
       "      <th>value</th>\n",
       "      <th>agegrp</th>\n",
       "      <th>gender</th>\n",
       "      <th>treat_type</th>\n",
       "    </tr>\n",
       "  </thead>\n",
       "  <tbody>\n",
       "    <tr>\n",
       "      <th>3771</th>\n",
       "      <td>China</td>\n",
       "      <td>2004</td>\n",
       "      <td>35465.0</td>\n",
       "      <td>1524</td>\n",
       "      <td>m</td>\n",
       "      <td>sp</td>\n",
       "    </tr>\n",
       "    <tr>\n",
       "      <th>3772</th>\n",
       "      <td>China</td>\n",
       "      <td>2005</td>\n",
       "      <td>43005.0</td>\n",
       "      <td>1524</td>\n",
       "      <td>m</td>\n",
       "      <td>sp</td>\n",
       "    </tr>\n",
       "    <tr>\n",
       "      <th>3773</th>\n",
       "      <td>China</td>\n",
       "      <td>2006</td>\n",
       "      <td>44528.0</td>\n",
       "      <td>1524</td>\n",
       "      <td>m</td>\n",
       "      <td>sp</td>\n",
       "    </tr>\n",
       "    <tr>\n",
       "      <th>3774</th>\n",
       "      <td>China</td>\n",
       "      <td>2007</td>\n",
       "      <td>44011.0</td>\n",
       "      <td>1524</td>\n",
       "      <td>m</td>\n",
       "      <td>sp</td>\n",
       "    </tr>\n",
       "    <tr>\n",
       "      <th>3775</th>\n",
       "      <td>China</td>\n",
       "      <td>2008</td>\n",
       "      <td>45596.0</td>\n",
       "      <td>1524</td>\n",
       "      <td>m</td>\n",
       "      <td>sp</td>\n",
       "    </tr>\n",
       "    <tr>\n",
       "      <th>...</th>\n",
       "      <td>...</td>\n",
       "      <td>...</td>\n",
       "      <td>...</td>\n",
       "      <td>...</td>\n",
       "      <td>...</td>\n",
       "      <td>...</td>\n",
       "    </tr>\n",
       "    <tr>\n",
       "      <th>75281</th>\n",
       "      <td>South Africa</td>\n",
       "      <td>2013</td>\n",
       "      <td>41071.0</td>\n",
       "      <td>2534</td>\n",
       "      <td>f</td>\n",
       "      <td>rel</td>\n",
       "    </tr>\n",
       "    <tr>\n",
       "      <th>75350</th>\n",
       "      <td>China</td>\n",
       "      <td>2013</td>\n",
       "      <td>38804.0</td>\n",
       "      <td>3544</td>\n",
       "      <td>f</td>\n",
       "      <td>rel</td>\n",
       "    </tr>\n",
       "    <tr>\n",
       "      <th>75534</th>\n",
       "      <td>China</td>\n",
       "      <td>2013</td>\n",
       "      <td>37138.0</td>\n",
       "      <td>4554</td>\n",
       "      <td>f</td>\n",
       "      <td>rel</td>\n",
       "    </tr>\n",
       "    <tr>\n",
       "      <th>75717</th>\n",
       "      <td>China</td>\n",
       "      <td>2013</td>\n",
       "      <td>40892.0</td>\n",
       "      <td>5564</td>\n",
       "      <td>f</td>\n",
       "      <td>rel</td>\n",
       "    </tr>\n",
       "    <tr>\n",
       "      <th>75900</th>\n",
       "      <td>China</td>\n",
       "      <td>2013</td>\n",
       "      <td>47438.0</td>\n",
       "      <td>65</td>\n",
       "      <td>f</td>\n",
       "      <td>rel</td>\n",
       "    </tr>\n",
       "  </tbody>\n",
       "</table>\n",
       "<p>201 rows × 6 columns</p>\n",
       "</div>"
      ],
      "text/plain": [
       "            country  year    value agegrp gender treat_type\n",
       "3771          China  2004  35465.0   1524      m         sp\n",
       "3772          China  2005  43005.0   1524      m         sp\n",
       "3773          China  2006  44528.0   1524      m         sp\n",
       "3774          China  2007  44011.0   1524      m         sp\n",
       "3775          China  2008  45596.0   1524      m         sp\n",
       "...             ...   ...      ...    ...    ...        ...\n",
       "75281  South Africa  2013  41071.0   2534      f        rel\n",
       "75350         China  2013  38804.0   3544      f        rel\n",
       "75534         China  2013  37138.0   4554      f        rel\n",
       "75717         China  2013  40892.0   5564      f        rel\n",
       "75900         China  2013  47438.0     65      f        rel\n",
       "\n",
       "[201 rows x 6 columns]"
      ]
     },
     "execution_count": 31,
     "metadata": {},
     "output_type": "execute_result"
    }
   ],
   "source": [
    "df1[df1.value > 30000.0]"
   ]
  },
  {
   "cell_type": "code",
   "execution_count": 34,
   "id": "1b0f4606",
   "metadata": {},
   "outputs": [
    {
     "name": "stdout",
     "output_type": "stream",
     "text": [
      "<class 'pandas.core.frame.DataFrame'>\n",
      "RangeIndex: 76046 entries, 0 to 76045\n",
      "Data columns (total 6 columns):\n",
      " #   Column      Non-Null Count  Dtype  \n",
      "---  ------      --------------  -----  \n",
      " 0   country     76046 non-null  object \n",
      " 1   year        76046 non-null  int64  \n",
      " 2   value       76046 non-null  float64\n",
      " 3   agegrp      76046 non-null  object \n",
      " 4   gender      76046 non-null  object \n",
      " 5   treat_type  76046 non-null  object \n",
      "dtypes: float64(1), int64(1), object(4)\n",
      "memory usage: 3.5+ MB\n"
     ]
    }
   ],
   "source": [
    "df1.info()"
   ]
  },
  {
   "cell_type": "code",
   "execution_count": 35,
   "id": "491ed9ee",
   "metadata": {},
   "outputs": [
    {
     "data": {
      "text/plain": [
       "m    38098\n",
       "f    37948\n",
       "Name: gender, dtype: int64"
      ]
     },
     "execution_count": 35,
     "metadata": {},
     "output_type": "execute_result"
    }
   ],
   "source": [
    "df1.gender.value_counts()"
   ]
  },
  {
   "cell_type": "code",
   "execution_count": 38,
   "id": "8982b605",
   "metadata": {},
   "outputs": [
    {
     "data": {
      "text/plain": [
       "m    50.1\n",
       "f    49.9\n",
       "Name: gender, dtype: float64"
      ]
     },
     "execution_count": 38,
     "metadata": {},
     "output_type": "execute_result"
    }
   ],
   "source": [
    "round(df1.gender.value_counts(normalize=True)*100,2)"
   ]
  },
  {
   "cell_type": "code",
   "execution_count": null,
   "id": "7987e56b",
   "metadata": {},
   "outputs": [],
   "source": []
  }
 ],
 "metadata": {
  "kernelspec": {
   "display_name": "Python 3 (ipykernel)",
   "language": "python",
   "name": "python3"
  },
  "language_info": {
   "codemirror_mode": {
    "name": "ipython",
    "version": 3
   },
   "file_extension": ".py",
   "mimetype": "text/x-python",
   "name": "python",
   "nbconvert_exporter": "python",
   "pygments_lexer": "ipython3",
   "version": "3.8.8"
  }
 },
 "nbformat": 4,
 "nbformat_minor": 5
}
