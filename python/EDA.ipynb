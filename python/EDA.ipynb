{
 "cells": [
  {
   "cell_type": "code",
   "execution_count": 1,
   "id": "fcf84946",
   "metadata": {},
   "outputs": [],
   "source": [
    "import pandas as pd\n",
    "import os"
   ]
  },
  {
   "cell_type": "code",
   "execution_count": 2,
   "id": "b7085967",
   "metadata": {},
   "outputs": [
    {
     "data": {
      "text/plain": [
       "'F:\\\\Python Learning\\\\DataCamp\\\\EDA'"
      ]
     },
     "execution_count": 2,
     "metadata": {},
     "output_type": "execute_result"
    }
   ],
   "source": [
    "os.getcwd()"
   ]
  },
  {
   "cell_type": "code",
   "execution_count": 3,
   "id": "9963adfe",
   "metadata": {},
   "outputs": [],
   "source": [
    "nsfg = pd.read_hdf('F:\\\\Python Learning\\\\Sample_Data\\\\nsfg.hdf5','nsfg')"
   ]
  },
  {
   "cell_type": "code",
   "execution_count": 4,
   "id": "a923e398",
   "metadata": {},
   "outputs": [
    {
     "data": {
      "text/plain": [
       "pandas.core.frame.DataFrame"
      ]
     },
     "execution_count": 4,
     "metadata": {},
     "output_type": "execute_result"
    }
   ],
   "source": [
    "type(nsfg)"
   ]
  },
  {
   "cell_type": "code",
   "execution_count": 5,
   "id": "408ca0b9",
   "metadata": {},
   "outputs": [
    {
     "data": {
      "text/html": [
       "<div>\n",
       "<style scoped>\n",
       "    .dataframe tbody tr th:only-of-type {\n",
       "        vertical-align: middle;\n",
       "    }\n",
       "\n",
       "    .dataframe tbody tr th {\n",
       "        vertical-align: top;\n",
       "    }\n",
       "\n",
       "    .dataframe thead th {\n",
       "        text-align: right;\n",
       "    }\n",
       "</style>\n",
       "<table border=\"1\" class=\"dataframe\">\n",
       "  <thead>\n",
       "    <tr style=\"text-align: right;\">\n",
       "      <th></th>\n",
       "      <th>caseid</th>\n",
       "      <th>outcome</th>\n",
       "      <th>birthwgt_lb1</th>\n",
       "      <th>birthwgt_oz1</th>\n",
       "      <th>prglngth</th>\n",
       "      <th>nbrnaliv</th>\n",
       "      <th>agecon</th>\n",
       "      <th>agepreg</th>\n",
       "      <th>hpagelb</th>\n",
       "      <th>wgt2013_2015</th>\n",
       "    </tr>\n",
       "  </thead>\n",
       "  <tbody>\n",
       "    <tr>\n",
       "      <th>0</th>\n",
       "      <td>60418</td>\n",
       "      <td>1</td>\n",
       "      <td>5.0</td>\n",
       "      <td>4.0</td>\n",
       "      <td>40</td>\n",
       "      <td>1.0</td>\n",
       "      <td>2000</td>\n",
       "      <td>2075.0</td>\n",
       "      <td>22.0</td>\n",
       "      <td>3554.964843</td>\n",
       "    </tr>\n",
       "    <tr>\n",
       "      <th>1</th>\n",
       "      <td>60418</td>\n",
       "      <td>1</td>\n",
       "      <td>4.0</td>\n",
       "      <td>12.0</td>\n",
       "      <td>36</td>\n",
       "      <td>1.0</td>\n",
       "      <td>2291</td>\n",
       "      <td>2358.0</td>\n",
       "      <td>25.0</td>\n",
       "      <td>3554.964843</td>\n",
       "    </tr>\n",
       "    <tr>\n",
       "      <th>2</th>\n",
       "      <td>60418</td>\n",
       "      <td>1</td>\n",
       "      <td>5.0</td>\n",
       "      <td>4.0</td>\n",
       "      <td>36</td>\n",
       "      <td>1.0</td>\n",
       "      <td>3241</td>\n",
       "      <td>3308.0</td>\n",
       "      <td>52.0</td>\n",
       "      <td>3554.964843</td>\n",
       "    </tr>\n",
       "    <tr>\n",
       "      <th>3</th>\n",
       "      <td>60419</td>\n",
       "      <td>6</td>\n",
       "      <td>NaN</td>\n",
       "      <td>NaN</td>\n",
       "      <td>33</td>\n",
       "      <td>NaN</td>\n",
       "      <td>3650</td>\n",
       "      <td>NaN</td>\n",
       "      <td>NaN</td>\n",
       "      <td>2484.535358</td>\n",
       "    </tr>\n",
       "    <tr>\n",
       "      <th>4</th>\n",
       "      <td>60420</td>\n",
       "      <td>1</td>\n",
       "      <td>8.0</td>\n",
       "      <td>13.0</td>\n",
       "      <td>41</td>\n",
       "      <td>1.0</td>\n",
       "      <td>2191</td>\n",
       "      <td>2266.0</td>\n",
       "      <td>24.0</td>\n",
       "      <td>2903.782914</td>\n",
       "    </tr>\n",
       "  </tbody>\n",
       "</table>\n",
       "</div>"
      ],
      "text/plain": [
       "   caseid  outcome  birthwgt_lb1  birthwgt_oz1  prglngth  nbrnaliv  agecon  \\\n",
       "0   60418        1           5.0           4.0        40       1.0    2000   \n",
       "1   60418        1           4.0          12.0        36       1.0    2291   \n",
       "2   60418        1           5.0           4.0        36       1.0    3241   \n",
       "3   60419        6           NaN           NaN        33       NaN    3650   \n",
       "4   60420        1           8.0          13.0        41       1.0    2191   \n",
       "\n",
       "   agepreg  hpagelb  wgt2013_2015  \n",
       "0   2075.0     22.0   3554.964843  \n",
       "1   2358.0     25.0   3554.964843  \n",
       "2   3308.0     52.0   3554.964843  \n",
       "3      NaN      NaN   2484.535358  \n",
       "4   2266.0     24.0   2903.782914  "
      ]
     },
     "execution_count": 5,
     "metadata": {},
     "output_type": "execute_result"
    }
   ],
   "source": [
    "nsfg.head()"
   ]
  },
  {
   "cell_type": "code",
   "execution_count": 6,
   "id": "58ccc5ef",
   "metadata": {},
   "outputs": [
    {
     "name": "stdout",
     "output_type": "stream",
     "text": [
      "<class 'pandas.core.frame.DataFrame'>\n",
      "Int64Index: 9358 entries, 0 to 9357\n",
      "Data columns (total 10 columns):\n",
      " #   Column        Non-Null Count  Dtype  \n",
      "---  ------        --------------  -----  \n",
      " 0   caseid        9358 non-null   int64  \n",
      " 1   outcome       9358 non-null   int64  \n",
      " 2   birthwgt_lb1  6485 non-null   float64\n",
      " 3   birthwgt_oz1  6391 non-null   float64\n",
      " 4   prglngth      9358 non-null   int64  \n",
      " 5   nbrnaliv      6485 non-null   float64\n",
      " 6   agecon        9358 non-null   int64  \n",
      " 7   agepreg       9109 non-null   float64\n",
      " 8   hpagelb       6485 non-null   float64\n",
      " 9   wgt2013_2015  9358 non-null   float64\n",
      "dtypes: float64(6), int64(4)\n",
      "memory usage: 804.2 KB\n"
     ]
    }
   ],
   "source": [
    "nsfg.info()"
   ]
  },
  {
   "cell_type": "code",
   "execution_count": 7,
   "id": "882dac69",
   "metadata": {},
   "outputs": [],
   "source": [
    "var = nsfg.isnull().sum()"
   ]
  },
  {
   "cell_type": "code",
   "execution_count": 8,
   "id": "6b70e9bf",
   "metadata": {},
   "outputs": [
    {
     "data": {
      "text/plain": [
       "pandas.core.series.Series"
      ]
     },
     "execution_count": 8,
     "metadata": {},
     "output_type": "execute_result"
    }
   ],
   "source": [
    "type(var)"
   ]
  },
  {
   "cell_type": "code",
   "execution_count": 9,
   "id": "c097ceb2",
   "metadata": {},
   "outputs": [
    {
     "data": {
      "text/plain": [
       "birthwgt_lb1    2873\n",
       "birthwgt_oz1    2967\n",
       "nbrnaliv        2873\n",
       "agepreg          249\n",
       "hpagelb         2873\n",
       "dtype: int64"
      ]
     },
     "execution_count": 9,
     "metadata": {},
     "output_type": "execute_result"
    }
   ],
   "source": [
    "var[var > 0]"
   ]
  },
  {
   "cell_type": "code",
   "execution_count": 10,
   "id": "5a81089b",
   "metadata": {},
   "outputs": [
    {
     "data": {
      "text/plain": [
       "(9358, 10)"
      ]
     },
     "execution_count": 10,
     "metadata": {},
     "output_type": "execute_result"
    }
   ],
   "source": [
    "nsfg.shape"
   ]
  },
  {
   "cell_type": "code",
   "execution_count": 11,
   "id": "4f88a010",
   "metadata": {},
   "outputs": [
    {
     "data": {
      "text/plain": [
       "birthwgt_lb1    2873\n",
       "birthwgt_oz1    2967\n",
       "nbrnaliv        2873\n",
       "agepreg          249\n",
       "hpagelb         2873\n",
       "dtype: int64"
      ]
     },
     "execution_count": 11,
     "metadata": {},
     "output_type": "execute_result"
    }
   ],
   "source": [
    "nsfg.isnull().sum()[nsfg.isnull().sum() > 0]"
   ]
  },
  {
   "cell_type": "code",
   "execution_count": 12,
   "id": "bedf4d21",
   "metadata": {},
   "outputs": [
    {
     "data": {
      "text/html": [
       "<div>\n",
       "<style scoped>\n",
       "    .dataframe tbody tr th:only-of-type {\n",
       "        vertical-align: middle;\n",
       "    }\n",
       "\n",
       "    .dataframe tbody tr th {\n",
       "        vertical-align: top;\n",
       "    }\n",
       "\n",
       "    .dataframe thead th {\n",
       "        text-align: right;\n",
       "    }\n",
       "</style>\n",
       "<table border=\"1\" class=\"dataframe\">\n",
       "  <thead>\n",
       "    <tr style=\"text-align: right;\">\n",
       "      <th></th>\n",
       "      <th>caseid</th>\n",
       "      <th>outcome</th>\n",
       "      <th>birthwgt_lb1</th>\n",
       "      <th>birthwgt_oz1</th>\n",
       "      <th>prglngth</th>\n",
       "      <th>nbrnaliv</th>\n",
       "      <th>agecon</th>\n",
       "      <th>agepreg</th>\n",
       "      <th>hpagelb</th>\n",
       "      <th>wgt2013_2015</th>\n",
       "    </tr>\n",
       "  </thead>\n",
       "  <tbody>\n",
       "    <tr>\n",
       "      <th>count</th>\n",
       "      <td>9358.000000</td>\n",
       "      <td>9358.000000</td>\n",
       "      <td>6485.000000</td>\n",
       "      <td>6391.000000</td>\n",
       "      <td>9358.000000</td>\n",
       "      <td>6485.000000</td>\n",
       "      <td>9358.000000</td>\n",
       "      <td>9109.000000</td>\n",
       "      <td>6485.000000</td>\n",
       "      <td>9358.000000</td>\n",
       "    </tr>\n",
       "    <tr>\n",
       "      <th>mean</th>\n",
       "      <td>65502.392605</td>\n",
       "      <td>1.773990</td>\n",
       "      <td>8.055204</td>\n",
       "      <td>7.213895</td>\n",
       "      <td>29.896345</td>\n",
       "      <td>1.018042</td>\n",
       "      <td>2446.330199</td>\n",
       "      <td>2494.934570</td>\n",
       "      <td>28.992136</td>\n",
       "      <td>10759.200147</td>\n",
       "    </tr>\n",
       "    <tr>\n",
       "      <th>std</th>\n",
       "      <td>2953.471315</td>\n",
       "      <td>1.348648</td>\n",
       "      <td>11.178893</td>\n",
       "      <td>8.254885</td>\n",
       "      <td>13.685389</td>\n",
       "      <td>0.160433</td>\n",
       "      <td>579.392363</td>\n",
       "      <td>578.099231</td>\n",
       "      <td>10.367124</td>\n",
       "      <td>11400.179222</td>\n",
       "    </tr>\n",
       "    <tr>\n",
       "      <th>min</th>\n",
       "      <td>60418.000000</td>\n",
       "      <td>1.000000</td>\n",
       "      <td>0.000000</td>\n",
       "      <td>0.000000</td>\n",
       "      <td>0.000000</td>\n",
       "      <td>1.000000</td>\n",
       "      <td>750.000000</td>\n",
       "      <td>825.000000</td>\n",
       "      <td>5.000000</td>\n",
       "      <td>1859.105000</td>\n",
       "    </tr>\n",
       "    <tr>\n",
       "      <th>25%</th>\n",
       "      <td>62875.750000</td>\n",
       "      <td>1.000000</td>\n",
       "      <td>6.000000</td>\n",
       "      <td>3.000000</td>\n",
       "      <td>14.000000</td>\n",
       "      <td>1.000000</td>\n",
       "      <td>1983.000000</td>\n",
       "      <td>2041.000000</td>\n",
       "      <td>23.000000</td>\n",
       "      <td>4340.053407</td>\n",
       "    </tr>\n",
       "    <tr>\n",
       "      <th>50%</th>\n",
       "      <td>65499.000000</td>\n",
       "      <td>1.000000</td>\n",
       "      <td>7.000000</td>\n",
       "      <td>6.000000</td>\n",
       "      <td>38.000000</td>\n",
       "      <td>1.000000</td>\n",
       "      <td>2366.000000</td>\n",
       "      <td>2416.000000</td>\n",
       "      <td>27.000000</td>\n",
       "      <td>7062.994158</td>\n",
       "    </tr>\n",
       "    <tr>\n",
       "      <th>75%</th>\n",
       "      <td>68111.000000</td>\n",
       "      <td>2.000000</td>\n",
       "      <td>8.000000</td>\n",
       "      <td>11.000000</td>\n",
       "      <td>39.000000</td>\n",
       "      <td>1.000000</td>\n",
       "      <td>2850.000000</td>\n",
       "      <td>2900.000000</td>\n",
       "      <td>33.000000</td>\n",
       "      <td>12629.322982</td>\n",
       "    </tr>\n",
       "    <tr>\n",
       "      <th>max</th>\n",
       "      <td>70619.000000</td>\n",
       "      <td>6.000000</td>\n",
       "      <td>99.000000</td>\n",
       "      <td>99.000000</td>\n",
       "      <td>48.000000</td>\n",
       "      <td>8.000000</td>\n",
       "      <td>4350.000000</td>\n",
       "      <td>4350.000000</td>\n",
       "      <td>99.000000</td>\n",
       "      <td>75399.410000</td>\n",
       "    </tr>\n",
       "  </tbody>\n",
       "</table>\n",
       "</div>"
      ],
      "text/plain": [
       "             caseid      outcome  birthwgt_lb1  birthwgt_oz1     prglngth  \\\n",
       "count   9358.000000  9358.000000   6485.000000   6391.000000  9358.000000   \n",
       "mean   65502.392605     1.773990      8.055204      7.213895    29.896345   \n",
       "std     2953.471315     1.348648     11.178893      8.254885    13.685389   \n",
       "min    60418.000000     1.000000      0.000000      0.000000     0.000000   \n",
       "25%    62875.750000     1.000000      6.000000      3.000000    14.000000   \n",
       "50%    65499.000000     1.000000      7.000000      6.000000    38.000000   \n",
       "75%    68111.000000     2.000000      8.000000     11.000000    39.000000   \n",
       "max    70619.000000     6.000000     99.000000     99.000000    48.000000   \n",
       "\n",
       "          nbrnaliv       agecon      agepreg      hpagelb  wgt2013_2015  \n",
       "count  6485.000000  9358.000000  9109.000000  6485.000000   9358.000000  \n",
       "mean      1.018042  2446.330199  2494.934570    28.992136  10759.200147  \n",
       "std       0.160433   579.392363   578.099231    10.367124  11400.179222  \n",
       "min       1.000000   750.000000   825.000000     5.000000   1859.105000  \n",
       "25%       1.000000  1983.000000  2041.000000    23.000000   4340.053407  \n",
       "50%       1.000000  2366.000000  2416.000000    27.000000   7062.994158  \n",
       "75%       1.000000  2850.000000  2900.000000    33.000000  12629.322982  \n",
       "max       8.000000  4350.000000  4350.000000    99.000000  75399.410000  "
      ]
     },
     "execution_count": 12,
     "metadata": {},
     "output_type": "execute_result"
    }
   ],
   "source": [
    "nsfg.describe()"
   ]
  },
  {
   "cell_type": "code",
   "execution_count": 13,
   "id": "60f72559",
   "metadata": {},
   "outputs": [
    {
     "data": {
      "text/plain": [
       "0.0        6\n",
       "1.0       34\n",
       "2.0       47\n",
       "3.0       67\n",
       "4.0      196\n",
       "5.0      586\n",
       "6.0     1666\n",
       "7.0     2146\n",
       "8.0     1168\n",
       "9.0      363\n",
       "10.0      82\n",
       "11.0      17\n",
       "12.0       7\n",
       "13.0       2\n",
       "14.0       2\n",
       "17.0       1\n",
       "98.0       1\n",
       "99.0      94\n",
       "Name: birthwgt_lb1, dtype: int64"
      ]
     },
     "execution_count": 13,
     "metadata": {},
     "output_type": "execute_result"
    }
   ],
   "source": [
    "nsfg.birthwgt_lb1.value_counts().sort_index()"
   ]
  },
  {
   "cell_type": "code",
   "execution_count": 14,
   "id": "88d136a1",
   "metadata": {},
   "outputs": [],
   "source": [
    "wrong_birthwgt = nsfg.birthwgt_lb1 > 20"
   ]
  },
  {
   "cell_type": "code",
   "execution_count": 15,
   "id": "bc25cb1d",
   "metadata": {},
   "outputs": [
    {
     "data": {
      "text/plain": [
       "0    False\n",
       "1    False\n",
       "2    False\n",
       "3    False\n",
       "4    False\n",
       "Name: birthwgt_lb1, dtype: bool"
      ]
     },
     "execution_count": 15,
     "metadata": {},
     "output_type": "execute_result"
    }
   ],
   "source": [
    "wrong_birthwgt.head()"
   ]
  },
  {
   "cell_type": "code",
   "execution_count": 16,
   "id": "db187b59",
   "metadata": {},
   "outputs": [],
   "source": [
    "import numpy as np"
   ]
  },
  {
   "cell_type": "code",
   "execution_count": 17,
   "id": "a1f69eba",
   "metadata": {},
   "outputs": [],
   "source": [
    "nsfg.loc[wrong_birthwgt,'birthwgt_lb1'] = np.nan"
   ]
  },
  {
   "cell_type": "code",
   "execution_count": 18,
   "id": "662b6bc8",
   "metadata": {},
   "outputs": [
    {
     "data": {
      "text/plain": [
       "0.0        6\n",
       "1.0       34\n",
       "2.0       47\n",
       "3.0       67\n",
       "4.0      196\n",
       "5.0      586\n",
       "6.0     1666\n",
       "7.0     2146\n",
       "8.0     1168\n",
       "9.0      363\n",
       "10.0      82\n",
       "11.0      17\n",
       "12.0       7\n",
       "13.0       2\n",
       "14.0       2\n",
       "17.0       1\n",
       "Name: birthwgt_lb1, dtype: int64"
      ]
     },
     "execution_count": 18,
     "metadata": {},
     "output_type": "execute_result"
    }
   ],
   "source": [
    "nsfg.birthwgt_lb1.value_counts().sort_index()"
   ]
  },
  {
   "cell_type": "code",
   "execution_count": 19,
   "id": "843be51d",
   "metadata": {},
   "outputs": [],
   "source": [
    "nsfg.loc[wrong_birthwgt, 'birthwgt_oz1'] = np.nan"
   ]
  },
  {
   "cell_type": "code",
   "execution_count": 20,
   "id": "f5d23196",
   "metadata": {},
   "outputs": [
    {
     "data": {
      "text/plain": [
       "0.0     757\n",
       "1.0     297\n",
       "2.0     429\n",
       "3.0     393\n",
       "4.0     386\n",
       "5.0     407\n",
       "6.0     543\n",
       "7.0     346\n",
       "8.0     518\n",
       "9.0     377\n",
       "10.0    295\n",
       "11.0    418\n",
       "12.0    388\n",
       "13.0    275\n",
       "14.0    258\n",
       "15.0    268\n",
       "99.0     35\n",
       "Name: birthwgt_oz1, dtype: int64"
      ]
     },
     "execution_count": 20,
     "metadata": {},
     "output_type": "execute_result"
    }
   ],
   "source": [
    "nsfg.birthwgt_oz1.value_counts().sort_index()"
   ]
  },
  {
   "cell_type": "code",
   "execution_count": 21,
   "id": "cc2c3bbc",
   "metadata": {},
   "outputs": [],
   "source": [
    "birth_weight = nsfg.birthwgt_lb1 + (nsfg.birthwgt_oz1 / 16)"
   ]
  },
  {
   "cell_type": "code",
   "execution_count": 22,
   "id": "bcd875e5",
   "metadata": {},
   "outputs": [
    {
     "data": {
      "text/plain": [
       "0    5.2500\n",
       "1    4.7500\n",
       "2    5.2500\n",
       "3       NaN\n",
       "4    8.8125\n",
       "dtype: float64"
      ]
     },
     "execution_count": 22,
     "metadata": {},
     "output_type": "execute_result"
    }
   ],
   "source": [
    "birth_weight.head()"
   ]
  },
  {
   "cell_type": "code",
   "execution_count": 23,
   "id": "bc68eac3",
   "metadata": {},
   "outputs": [
    {
     "data": {
      "text/plain": [
       "0    5.0\n",
       "1    4.0\n",
       "2    5.0\n",
       "3    NaN\n",
       "4    8.0\n",
       "Name: birthwgt_lb1, dtype: float64"
      ]
     },
     "execution_count": 23,
     "metadata": {},
     "output_type": "execute_result"
    }
   ],
   "source": [
    "nsfg.birthwgt_lb1.head()"
   ]
  },
  {
   "cell_type": "code",
   "execution_count": 24,
   "id": "4a09a430",
   "metadata": {},
   "outputs": [],
   "source": [
    "preterm = nsfg.prglngth < 37"
   ]
  },
  {
   "cell_type": "code",
   "execution_count": 37,
   "id": "67651c25",
   "metadata": {},
   "outputs": [
    {
     "data": {
      "text/plain": [
       "0    False\n",
       "1     True\n",
       "2     True\n",
       "3     True\n",
       "4    False\n",
       "Name: prglngth, dtype: bool"
      ]
     },
     "execution_count": 37,
     "metadata": {},
     "output_type": "execute_result"
    }
   ],
   "source": [
    "preterm.head()"
   ]
  },
  {
   "cell_type": "code",
   "execution_count": 25,
   "id": "c14c5fbc",
   "metadata": {},
   "outputs": [
    {
     "data": {
      "text/plain": [
       "3742"
      ]
     },
     "execution_count": 25,
     "metadata": {},
     "output_type": "execute_result"
    }
   ],
   "source": [
    "preterm.sum()"
   ]
  },
  {
   "cell_type": "code",
   "execution_count": 26,
   "id": "69fe807a",
   "metadata": {},
   "outputs": [
    {
     "data": {
      "text/plain": [
       "0.39987176747168196"
      ]
     },
     "execution_count": 26,
     "metadata": {},
     "output_type": "execute_result"
    }
   ],
   "source": [
    "preterm.mean()"
   ]
  },
  {
   "cell_type": "code",
   "execution_count": 27,
   "id": "a189662b",
   "metadata": {},
   "outputs": [],
   "source": [
    "avg_preterm_birth_weight = birth_weight[preterm].mean()"
   ]
  },
  {
   "cell_type": "code",
   "execution_count": 28,
   "id": "380b7ba6",
   "metadata": {},
   "outputs": [
    {
     "data": {
      "text/plain": [
       "7.405266509004912"
      ]
     },
     "execution_count": 28,
     "metadata": {},
     "output_type": "execute_result"
    }
   ],
   "source": [
    "birth_weight[~preterm].mean()"
   ]
  },
  {
   "cell_type": "code",
   "execution_count": 29,
   "id": "66aeea72",
   "metadata": {},
   "outputs": [],
   "source": [
    "nsfg['birth_weight'] = birth_weight"
   ]
  },
  {
   "cell_type": "code",
   "execution_count": 30,
   "id": "d287448c",
   "metadata": {},
   "outputs": [
    {
     "data": {
      "text/plain": [
       "Index(['caseid', 'outcome', 'birthwgt_lb1', 'birthwgt_oz1', 'prglngth',\n",
       "       'nbrnaliv', 'agecon', 'agepreg', 'hpagelb', 'wgt2013_2015',\n",
       "       'birth_weight'],\n",
       "      dtype='object')"
      ]
     },
     "execution_count": 30,
     "metadata": {},
     "output_type": "execute_result"
    }
   ],
   "source": [
    "nsfg.columns"
   ]
  },
  {
   "cell_type": "code",
   "execution_count": 31,
   "id": "09fd2e6b",
   "metadata": {},
   "outputs": [
    {
     "data": {
      "text/html": [
       "<div>\n",
       "<style scoped>\n",
       "    .dataframe tbody tr th:only-of-type {\n",
       "        vertical-align: middle;\n",
       "    }\n",
       "\n",
       "    .dataframe tbody tr th {\n",
       "        vertical-align: top;\n",
       "    }\n",
       "\n",
       "    .dataframe thead th {\n",
       "        text-align: right;\n",
       "    }\n",
       "</style>\n",
       "<table border=\"1\" class=\"dataframe\">\n",
       "  <thead>\n",
       "    <tr style=\"text-align: right;\">\n",
       "      <th></th>\n",
       "      <th>caseid</th>\n",
       "      <th>outcome</th>\n",
       "      <th>birthwgt_lb1</th>\n",
       "      <th>birthwgt_oz1</th>\n",
       "      <th>prglngth</th>\n",
       "      <th>nbrnaliv</th>\n",
       "      <th>agecon</th>\n",
       "      <th>agepreg</th>\n",
       "      <th>hpagelb</th>\n",
       "      <th>wgt2013_2015</th>\n",
       "      <th>birth_weight</th>\n",
       "    </tr>\n",
       "  </thead>\n",
       "  <tbody>\n",
       "    <tr>\n",
       "      <th>3</th>\n",
       "      <td>60419</td>\n",
       "      <td>6</td>\n",
       "      <td>NaN</td>\n",
       "      <td>NaN</td>\n",
       "      <td>33</td>\n",
       "      <td>NaN</td>\n",
       "      <td>3650</td>\n",
       "      <td>NaN</td>\n",
       "      <td>NaN</td>\n",
       "      <td>2484.535358</td>\n",
       "      <td>NaN</td>\n",
       "    </tr>\n",
       "    <tr>\n",
       "      <th>5</th>\n",
       "      <td>60420</td>\n",
       "      <td>4</td>\n",
       "      <td>NaN</td>\n",
       "      <td>NaN</td>\n",
       "      <td>3</td>\n",
       "      <td>NaN</td>\n",
       "      <td>3391</td>\n",
       "      <td>3391.0</td>\n",
       "      <td>NaN</td>\n",
       "      <td>2903.782914</td>\n",
       "      <td>NaN</td>\n",
       "    </tr>\n",
       "    <tr>\n",
       "      <th>8</th>\n",
       "      <td>60426</td>\n",
       "      <td>4</td>\n",
       "      <td>NaN</td>\n",
       "      <td>NaN</td>\n",
       "      <td>11</td>\n",
       "      <td>NaN</td>\n",
       "      <td>3241</td>\n",
       "      <td>3258.0</td>\n",
       "      <td>NaN</td>\n",
       "      <td>9682.211381</td>\n",
       "      <td>NaN</td>\n",
       "    </tr>\n",
       "    <tr>\n",
       "      <th>12</th>\n",
       "      <td>60430</td>\n",
       "      <td>2</td>\n",
       "      <td>NaN</td>\n",
       "      <td>NaN</td>\n",
       "      <td>5</td>\n",
       "      <td>NaN</td>\n",
       "      <td>2600</td>\n",
       "      <td>2608.0</td>\n",
       "      <td>NaN</td>\n",
       "      <td>5877.881888</td>\n",
       "      <td>NaN</td>\n",
       "    </tr>\n",
       "    <tr>\n",
       "      <th>13</th>\n",
       "      <td>60434</td>\n",
       "      <td>4</td>\n",
       "      <td>NaN</td>\n",
       "      <td>NaN</td>\n",
       "      <td>19</td>\n",
       "      <td>NaN</td>\n",
       "      <td>1858</td>\n",
       "      <td>1891.0</td>\n",
       "      <td>NaN</td>\n",
       "      <td>2588.500365</td>\n",
       "      <td>NaN</td>\n",
       "    </tr>\n",
       "    <tr>\n",
       "      <th>...</th>\n",
       "      <td>...</td>\n",
       "      <td>...</td>\n",
       "      <td>...</td>\n",
       "      <td>...</td>\n",
       "      <td>...</td>\n",
       "      <td>...</td>\n",
       "      <td>...</td>\n",
       "      <td>...</td>\n",
       "      <td>...</td>\n",
       "      <td>...</td>\n",
       "      <td>...</td>\n",
       "    </tr>\n",
       "    <tr>\n",
       "      <th>9332</th>\n",
       "      <td>70602</td>\n",
       "      <td>2</td>\n",
       "      <td>NaN</td>\n",
       "      <td>NaN</td>\n",
       "      <td>24</td>\n",
       "      <td>NaN</td>\n",
       "      <td>1750</td>\n",
       "      <td>1791.0</td>\n",
       "      <td>NaN</td>\n",
       "      <td>3036.297857</td>\n",
       "      <td>NaN</td>\n",
       "    </tr>\n",
       "    <tr>\n",
       "      <th>9335</th>\n",
       "      <td>70608</td>\n",
       "      <td>4</td>\n",
       "      <td>NaN</td>\n",
       "      <td>NaN</td>\n",
       "      <td>4</td>\n",
       "      <td>NaN</td>\n",
       "      <td>1533</td>\n",
       "      <td>1533.0</td>\n",
       "      <td>NaN</td>\n",
       "      <td>2634.940370</td>\n",
       "      <td>NaN</td>\n",
       "    </tr>\n",
       "    <tr>\n",
       "      <th>9346</th>\n",
       "      <td>70612</td>\n",
       "      <td>4</td>\n",
       "      <td>NaN</td>\n",
       "      <td>NaN</td>\n",
       "      <td>8</td>\n",
       "      <td>NaN</td>\n",
       "      <td>3450</td>\n",
       "      <td>3458.0</td>\n",
       "      <td>NaN</td>\n",
       "      <td>4835.247136</td>\n",
       "      <td>NaN</td>\n",
       "    </tr>\n",
       "    <tr>\n",
       "      <th>9348</th>\n",
       "      <td>70613</td>\n",
       "      <td>4</td>\n",
       "      <td>NaN</td>\n",
       "      <td>NaN</td>\n",
       "      <td>2</td>\n",
       "      <td>NaN</td>\n",
       "      <td>2708</td>\n",
       "      <td>2708.0</td>\n",
       "      <td>NaN</td>\n",
       "      <td>20665.907733</td>\n",
       "      <td>NaN</td>\n",
       "    </tr>\n",
       "    <tr>\n",
       "      <th>9351</th>\n",
       "      <td>70615</td>\n",
       "      <td>4</td>\n",
       "      <td>NaN</td>\n",
       "      <td>NaN</td>\n",
       "      <td>8</td>\n",
       "      <td>NaN</td>\n",
       "      <td>1658</td>\n",
       "      <td>1666.0</td>\n",
       "      <td>NaN</td>\n",
       "      <td>8117.554461</td>\n",
       "      <td>NaN</td>\n",
       "    </tr>\n",
       "  </tbody>\n",
       "</table>\n",
       "<p>2849 rows × 11 columns</p>\n",
       "</div>"
      ],
      "text/plain": [
       "      caseid  outcome  birthwgt_lb1  birthwgt_oz1  prglngth  nbrnaliv  agecon  \\\n",
       "3      60419        6           NaN           NaN        33       NaN    3650   \n",
       "5      60420        4           NaN           NaN         3       NaN    3391   \n",
       "8      60426        4           NaN           NaN        11       NaN    3241   \n",
       "12     60430        2           NaN           NaN         5       NaN    2600   \n",
       "13     60434        4           NaN           NaN        19       NaN    1858   \n",
       "...      ...      ...           ...           ...       ...       ...     ...   \n",
       "9332   70602        2           NaN           NaN        24       NaN    1750   \n",
       "9335   70608        4           NaN           NaN         4       NaN    1533   \n",
       "9346   70612        4           NaN           NaN         8       NaN    3450   \n",
       "9348   70613        4           NaN           NaN         2       NaN    2708   \n",
       "9351   70615        4           NaN           NaN         8       NaN    1658   \n",
       "\n",
       "      agepreg  hpagelb  wgt2013_2015  birth_weight  \n",
       "3         NaN      NaN   2484.535358           NaN  \n",
       "5      3391.0      NaN   2903.782914           NaN  \n",
       "8      3258.0      NaN   9682.211381           NaN  \n",
       "12     2608.0      NaN   5877.881888           NaN  \n",
       "13     1891.0      NaN   2588.500365           NaN  \n",
       "...       ...      ...           ...           ...  \n",
       "9332   1791.0      NaN   3036.297857           NaN  \n",
       "9335   1533.0      NaN   2634.940370           NaN  \n",
       "9346   3458.0      NaN   4835.247136           NaN  \n",
       "9348   2708.0      NaN  20665.907733           NaN  \n",
       "9351   1666.0      NaN   8117.554461           NaN  \n",
       "\n",
       "[2849 rows x 11 columns]"
      ]
     },
     "execution_count": 31,
     "metadata": {},
     "output_type": "execute_result"
    }
   ],
   "source": [
    "nsfg[birth_weight.isna() & preterm]"
   ]
  },
  {
   "cell_type": "code",
   "execution_count": 32,
   "id": "138086e5",
   "metadata": {},
   "outputs": [
    {
     "data": {
      "text/plain": [
       "0        7\n",
       "1       11\n",
       "2       50\n",
       "3      102\n",
       "4      274\n",
       "5      128\n",
       "6      375\n",
       "7      185\n",
       "8      299\n",
       "9      331\n",
       "10     125\n",
       "11      82\n",
       "12     132\n",
       "13     222\n",
       "14      39\n",
       "15      27\n",
       "16      40\n",
       "17      85\n",
       "18      25\n",
       "19      25\n",
       "20      21\n",
       "21       9\n",
       "22      76\n",
       "23       7\n",
       "24      25\n",
       "25      13\n",
       "26      58\n",
       "27      17\n",
       "28      39\n",
       "29      25\n",
       "30      95\n",
       "31      15\n",
       "32     118\n",
       "33      35\n",
       "34      73\n",
       "35     239\n",
       "36     313\n",
       "37     432\n",
       "38     755\n",
       "39    2384\n",
       "40    1311\n",
       "41     422\n",
       "42     231\n",
       "43      65\n",
       "44       9\n",
       "45       3\n",
       "46       3\n",
       "48       1\n",
       "Name: prglngth, dtype: int64"
      ]
     },
     "execution_count": 32,
     "metadata": {},
     "output_type": "execute_result"
    }
   ],
   "source": [
    "nsfg.prglngth.value_counts().sort_index()"
   ]
  },
  {
   "cell_type": "code",
   "execution_count": 33,
   "id": "fc2ffd51",
   "metadata": {},
   "outputs": [
    {
     "data": {
      "text/plain": [
       "prglngth\n",
       "0          NaN\n",
       "1          NaN\n",
       "2          NaN\n",
       "3          NaN\n",
       "4          NaN\n",
       "5          NaN\n",
       "6          NaN\n",
       "7          NaN\n",
       "8          NaN\n",
       "9          NaN\n",
       "10         NaN\n",
       "11         NaN\n",
       "12         NaN\n",
       "13    4.000000\n",
       "14         NaN\n",
       "15         NaN\n",
       "16         NaN\n",
       "17         NaN\n",
       "18    2.125000\n",
       "19         NaN\n",
       "20    0.937500\n",
       "21         NaN\n",
       "22    2.026786\n",
       "23    1.437500\n",
       "24    2.395833\n",
       "25    1.468750\n",
       "26    2.703125\n",
       "27    3.165179\n",
       "28    3.949074\n",
       "29    3.726974\n",
       "30    4.214286\n",
       "31    4.519231\n",
       "32    5.395047\n",
       "33    5.192130\n",
       "34    5.837862\n",
       "35    6.009930\n",
       "36    6.562710\n",
       "37    6.840760\n",
       "38    7.112011\n",
       "39    7.389628\n",
       "40    7.534126\n",
       "41    7.853720\n",
       "42    7.883929\n",
       "43    7.671875\n",
       "44    7.680556\n",
       "45    8.125000\n",
       "46    7.937500\n",
       "48    6.437500\n",
       "Name: birth_weight, dtype: float64"
      ]
     },
     "execution_count": 33,
     "metadata": {},
     "output_type": "execute_result"
    }
   ],
   "source": [
    "nsfg.groupby(['prglngth'])['birth_weight'].mean()"
   ]
  },
  {
   "cell_type": "code",
   "execution_count": 34,
   "id": "9f1cfea4",
   "metadata": {},
   "outputs": [],
   "source": [
    "#nsfg.loc[preterm & birth_weight.isnull(), 'birth_weight'] = birth_weight[preterm].mean()"
   ]
  },
  {
   "cell_type": "code",
   "execution_count": 40,
   "id": "76292ae8",
   "metadata": {},
   "outputs": [
    {
     "data": {
      "text/plain": [
       "1       4.7500\n",
       "2       5.2500\n",
       "6       5.0000\n",
       "7       6.1250\n",
       "10      6.4375\n",
       "         ...  \n",
       "9328    4.6250\n",
       "9337    5.8750\n",
       "9347    9.5000\n",
       "9353    4.6875\n",
       "9355    7.3750\n",
       "Name: birth_weight, Length: 893, dtype: float64"
      ]
     },
     "execution_count": 40,
     "metadata": {},
     "output_type": "execute_result"
    }
   ],
   "source": [
    "nsfg.loc[preterm & ~birth_weight.isnull(), 'birth_weight']"
   ]
  },
  {
   "cell_type": "code",
   "execution_count": 36,
   "id": "3a378b98",
   "metadata": {},
   "outputs": [
    {
     "data": {
      "text/html": [
       "<div>\n",
       "<style scoped>\n",
       "    .dataframe tbody tr th:only-of-type {\n",
       "        vertical-align: middle;\n",
       "    }\n",
       "\n",
       "    .dataframe tbody tr th {\n",
       "        vertical-align: top;\n",
       "    }\n",
       "\n",
       "    .dataframe thead th {\n",
       "        text-align: right;\n",
       "    }\n",
       "</style>\n",
       "<table border=\"1\" class=\"dataframe\">\n",
       "  <thead>\n",
       "    <tr style=\"text-align: right;\">\n",
       "      <th></th>\n",
       "      <th>caseid</th>\n",
       "      <th>outcome</th>\n",
       "      <th>birthwgt_lb1</th>\n",
       "      <th>birthwgt_oz1</th>\n",
       "      <th>prglngth</th>\n",
       "      <th>nbrnaliv</th>\n",
       "      <th>agecon</th>\n",
       "      <th>agepreg</th>\n",
       "      <th>hpagelb</th>\n",
       "      <th>wgt2013_2015</th>\n",
       "      <th>birth_weight</th>\n",
       "    </tr>\n",
       "  </thead>\n",
       "  <tbody>\n",
       "    <tr>\n",
       "      <th>3</th>\n",
       "      <td>60419</td>\n",
       "      <td>6</td>\n",
       "      <td>NaN</td>\n",
       "      <td>NaN</td>\n",
       "      <td>33</td>\n",
       "      <td>NaN</td>\n",
       "      <td>3650</td>\n",
       "      <td>NaN</td>\n",
       "      <td>NaN</td>\n",
       "      <td>2484.535358</td>\n",
       "      <td>NaN</td>\n",
       "    </tr>\n",
       "    <tr>\n",
       "      <th>5</th>\n",
       "      <td>60420</td>\n",
       "      <td>4</td>\n",
       "      <td>NaN</td>\n",
       "      <td>NaN</td>\n",
       "      <td>3</td>\n",
       "      <td>NaN</td>\n",
       "      <td>3391</td>\n",
       "      <td>3391.0</td>\n",
       "      <td>NaN</td>\n",
       "      <td>2903.782914</td>\n",
       "      <td>NaN</td>\n",
       "    </tr>\n",
       "    <tr>\n",
       "      <th>8</th>\n",
       "      <td>60426</td>\n",
       "      <td>4</td>\n",
       "      <td>NaN</td>\n",
       "      <td>NaN</td>\n",
       "      <td>11</td>\n",
       "      <td>NaN</td>\n",
       "      <td>3241</td>\n",
       "      <td>3258.0</td>\n",
       "      <td>NaN</td>\n",
       "      <td>9682.211381</td>\n",
       "      <td>NaN</td>\n",
       "    </tr>\n",
       "  </tbody>\n",
       "</table>\n",
       "</div>"
      ],
      "text/plain": [
       "   caseid  outcome  birthwgt_lb1  birthwgt_oz1  prglngth  nbrnaliv  agecon  \\\n",
       "3   60419        6           NaN           NaN        33       NaN    3650   \n",
       "5   60420        4           NaN           NaN         3       NaN    3391   \n",
       "8   60426        4           NaN           NaN        11       NaN    3241   \n",
       "\n",
       "   agepreg  hpagelb  wgt2013_2015  birth_weight  \n",
       "3      NaN      NaN   2484.535358           NaN  \n",
       "5   3391.0      NaN   2903.782914           NaN  \n",
       "8   3258.0      NaN   9682.211381           NaN  "
      ]
     },
     "execution_count": 36,
     "metadata": {},
     "output_type": "execute_result"
    }
   ],
   "source": [
    "nsfg.iloc[[3,5,8]]"
   ]
  },
  {
   "cell_type": "code",
   "execution_count": null,
   "id": "d51e1746",
   "metadata": {},
   "outputs": [],
   "source": []
  }
 ],
 "metadata": {
  "kernelspec": {
   "display_name": "Python 3 (ipykernel)",
   "language": "python",
   "name": "python3"
  },
  "language_info": {
   "codemirror_mode": {
    "name": "ipython",
    "version": 3
   },
   "file_extension": ".py",
   "mimetype": "text/x-python",
   "name": "python",
   "nbconvert_exporter": "python",
   "pygments_lexer": "ipython3",
   "version": "3.8.8"
  }
 },
 "nbformat": 4,
 "nbformat_minor": 5
}
