{
 "cells": [
  {
   "cell_type": "markdown",
   "id": "5eb6e557",
   "metadata": {},
   "source": [
    "**Question: Get the input from users for square of a side and radius of a circle, create dictionary of lambda functions to find area of square and circle and print the total area.**"
   ]
  },
  {
   "cell_type": "code",
   "execution_count": 1,
   "id": "160dda72",
   "metadata": {},
   "outputs": [
    {
     "name": "stdout",
     "output_type": "stream",
     "text": [
      "Enter the side of a square: 5.5\n",
      "Enter the radius of a circle: 3.25\n"
     ]
    }
   ],
   "source": [
    "import numpy as np\n",
    "\n",
    "d1 = {'Area_of_Square':lambda x: x ** 2, 'Area_of_Circle':lambda x: (22 / 7)* (x ** 2)}\n",
    "\n",
    "side_of_squre = float(input(\"Enter the side of a square: \"))\n",
    "radius_of_circle = float(input(\"Enter the radius of a circle: \"))\n"
   ]
  },
  {
   "cell_type": "code",
   "execution_count": 2,
   "id": "33c947a0",
   "metadata": {},
   "outputs": [
    {
     "name": "stdout",
     "output_type": "stream",
     "text": [
      "5.5 3.25\n"
     ]
    }
   ],
   "source": [
    "print(side_of_squre, radius_of_circle)"
   ]
  },
  {
   "cell_type": "code",
   "execution_count": 3,
   "id": "f2a4257a",
   "metadata": {},
   "outputs": [
    {
     "name": "stdout",
     "output_type": "stream",
     "text": [
      "{'Area_of_Square': <function <lambda> at 0x00000205ECE803A0>, 'Area_of_Circle': <function <lambda> at 0x00000205EE2E9AF0>}\n"
     ]
    }
   ],
   "source": [
    "print(d1)"
   ]
  },
  {
   "cell_type": "code",
   "execution_count": 9,
   "id": "d3ff0a4c",
   "metadata": {},
   "outputs": [
    {
     "name": "stdout",
     "output_type": "stream",
     "text": [
      "The total area of Square and Circle is 63.45\n"
     ]
    }
   ],
   "source": [
    "total_area = d1['Area_of_Square'](side_of_squre) + d1['Area_of_Circle'](radius_of_circle)\n",
    "print(\"The total area of Square and Circle is {0:0.2f}\".format(total_area))"
   ]
  },
  {
   "cell_type": "markdown",
   "id": "f0d390f4",
   "metadata": {},
   "source": [
    "**Question: Print the Sweet fruits.**\n",
    "\n",
    "fruits = (('Lemon','sour'), ('DragonFruit', 'Sweet'), ('Grapes','soUr'), ('Kiwi','Sour'), ('Apples','sweet'), ('Orange','sour'), ('Blueberries','sweet'), ('Limes','Sour') )\n",
    "\n",
    "Expected Output : [DragonFruit, Apples, Blueberries]\n"
   ]
  },
  {
   "cell_type": "code",
   "execution_count": 13,
   "id": "2b12552e",
   "metadata": {},
   "outputs": [
    {
     "data": {
      "text/plain": [
       "['DragonFruit', 'Apples', 'Blueberries']"
      ]
     },
     "execution_count": 13,
     "metadata": {},
     "output_type": "execute_result"
    }
   ],
   "source": [
    "fruits = (('Lemon','sour'), ('DragonFruit', 'Sweet'), ('Grapes','soUr'), ('Kiwi','Sour'), ('Apples','sweet'), ('Orange','sour'), ('Blueberries','sweet'), ('Limes','Sour') )\n",
    "[t[0] for t in fruits if t[1].lower() == 'sweet']"
   ]
  },
  {
   "cell_type": "markdown",
   "id": "8cd538c1",
   "metadata": {},
   "source": [
    "**Question: Find the words with 2nd letters are capital in the given list**\n",
    "\n",
    "lst = ['LIon','Tiger','CHeetah','Peacock','CHimpunsy']\n"
   ]
  },
  {
   "cell_type": "code",
   "execution_count": 18,
   "id": "c40a0334",
   "metadata": {},
   "outputs": [
    {
     "data": {
      "text/plain": [
       "['LIon', 'CHeetah', 'CHimpunsy']"
      ]
     },
     "execution_count": 18,
     "metadata": {},
     "output_type": "execute_result"
    }
   ],
   "source": [
    "lst = ['LIon','Tiger','CHeetah','Peacock','CHimpunsy']\n",
    "\n",
    "[word for word in lst if (word[1].isupper()) ]\n"
   ]
  },
  {
   "cell_type": "markdown",
   "id": "b5d2e09b",
   "metadata": {},
   "source": [
    "A dictionary of names and their weights on earth is given. Find how much they will weigh on the moon. (Use map and lambda functions)\n",
    "\n",
    "Formula : wMoon = (wEarth * GMoon) / GEarth\n",
    "\n",
    "** Weight of people in kg **\n",
    "\n",
    "WeightOnEarth = {'John':45, 'Shelly':65, 'Marry':35}\n",
    "\n",
    "Gravitational force on the Moon: 1.622 m/s2\n",
    "\n",
    "GMoon = 1.622\n",
    "\n",
    "Gravitational force on the Earth: 9.81 m/s2\n",
    "\n",
    "GEarth = 9.81\n",
    "\n",
    "Output: Weight on Moon: {'John': 7.44, 'Shelly': 10.75, 'Marry': 5.79}\n"
   ]
  },
  {
   "cell_type": "code",
   "execution_count": 29,
   "id": "08c17cbf",
   "metadata": {},
   "outputs": [
    {
     "data": {
      "text/plain": [
       "{'John': 7.44, 'Shelly': 10.75, 'Marry': 5.79}"
      ]
     },
     "execution_count": 29,
     "metadata": {},
     "output_type": "execute_result"
    }
   ],
   "source": [
    "WeightOnEarth = {'John':45, 'Shelly':65, 'Marry':35}\n",
    "GMoon = 1.622\n",
    "GEarth = 9.81\n",
    "\n",
    "dict(zip(WeightOnEarth.keys(), list(map(lambda x: round((x * GMoon) / GEarth,2), WeightOnEarth.values()))))\n",
    "#list(map(lambda x: WeightOnEarth[x], WeightOnEarth))\n"
   ]
  },
  {
   "cell_type": "markdown",
   "id": "2b2b6a47",
   "metadata": {},
   "source": [
    "**Question:: A list containing multiple lists is given. Convert each inner list into sets and find the intersection of all the sets.**\n",
    "\n",
    "Use reduce function\n",
    "\n",
    "given_sets = [[1, 2, 3, 4, 8], [2, 3, 8, 5, 6], [8, 4, 5, 3, 7], [6, 9, 8, 3], [9, 12, 3, 7, 6, 8, 4, 6, 21, 1, 6]]\n",
    "\n",
    "Output: {8, 3}\n"
   ]
  },
  {
   "cell_type": "code",
   "execution_count": 36,
   "id": "1b14ce77",
   "metadata": {},
   "outputs": [
    {
     "data": {
      "text/plain": [
       "{3, 8}"
      ]
     },
     "execution_count": 36,
     "metadata": {},
     "output_type": "execute_result"
    }
   ],
   "source": [
    "given_sets = [[1, 2, 3, 4, 8], [2, 3, 8, 5, 6], [8, 4, 5, 3, 7], [6, 9, 8, 3], [9, 12, 3, 7, 6, 8, 4, 6, 21, 1, 6]]\n",
    "\n",
    "reduce(lambda a, b: a.intersection(b), map(set, given_sets))"
   ]
  },
  {
   "cell_type": "code",
   "execution_count": 31,
   "id": "fa8bfba2",
   "metadata": {},
   "outputs": [
    {
     "data": {
      "text/plain": [
       "150"
      ]
     },
     "execution_count": 31,
     "metadata": {},
     "output_type": "execute_result"
    }
   ],
   "source": [
    "from functools import reduce\n",
    "l1 = [10, 20, 30,40,50]\n",
    "reduce(lambda a, b: a+b, l1)"
   ]
  },
  {
   "cell_type": "markdown",
   "id": "72de9b61",
   "metadata": {},
   "source": [
    "**Question: A list of words is given. Convert the words into uppercase. Use lambda and map functions.**\n",
    "\n",
    "X=[‘Amy’,’Anand’,’Will’,’Bruce’]\n"
   ]
  },
  {
   "cell_type": "code",
   "execution_count": 38,
   "id": "aae48962",
   "metadata": {},
   "outputs": [
    {
     "data": {
      "text/plain": [
       "['AMY', 'ANAND', 'WILL', 'BRUCE']"
      ]
     },
     "execution_count": 38,
     "metadata": {},
     "output_type": "execute_result"
    }
   ],
   "source": [
    "X=['Amy','Anand','Will','Bruce']\n",
    "\n",
    "list(map(lambda x: x.upper(), X))\n"
   ]
  },
  {
   "cell_type": "code",
   "execution_count": 39,
   "id": "e05913c5",
   "metadata": {},
   "outputs": [
    {
     "data": {
      "text/plain": [
       "['AMY', 'ANAND', 'WILL', 'BRUCE']"
      ]
     },
     "execution_count": 39,
     "metadata": {},
     "output_type": "execute_result"
    }
   ],
   "source": [
    "[word.upper() for word in X]  ## Using List Comprehension"
   ]
  },
  {
   "cell_type": "markdown",
   "id": "da8aa3bc",
   "metadata": {},
   "source": [
    "**Question: Find the cumulative sum of the list [9,8,7,6,5] using accumulate() and lambda function.**\n",
    "\n",
    "Input list: [9, 5, 7, 8, 5]\n"
   ]
  },
  {
   "cell_type": "code",
   "execution_count": 41,
   "id": "e8d270f6",
   "metadata": {},
   "outputs": [
    {
     "name": "stdout",
     "output_type": "stream",
     "text": [
      "9\n",
      "14\n",
      "21\n",
      "29\n",
      "34\n"
     ]
    }
   ],
   "source": [
    "from itertools import accumulate\n",
    "list = [9, 5, 7, 8, 5]\n",
    "\n",
    "for x in (accumulate(list, lambda a, b: a+b)):\n",
    "    print(x)"
   ]
  },
  {
   "cell_type": "markdown",
   "id": "725c8923",
   "metadata": {},
   "source": [
    "Take a string containing punctuation marks as an input from user and write a program to remove all the  punctuation marks from a string"
   ]
  },
  {
   "cell_type": "code",
   "execution_count": 47,
   "id": "cbb261cc",
   "metadata": {},
   "outputs": [
    {
     "name": "stdout",
     "output_type": "stream",
     "text": [
      "!\"#$%&'()*+,-./:;<=>?@[\\]^_`{|}~\n",
      "Shanmugam\n",
      "Shanmugam\n"
     ]
    }
   ],
   "source": [
    "str = 'Sh@an~m?u!#*g(am)'\n",
    "import string\n",
    "print(string.punctuation)\n",
    "res=''\n",
    "for ltr in str:\n",
    "    if ltr not in string.punctuation:\n",
    "        res += ltr\n",
    "print(res)\n",
    "\n",
    "res=''\n",
    "for ltr in str:\n",
    "    if ltr.isalpha():\n",
    "        res += ltr\n",
    "print(res)"
   ]
  },
  {
   "cell_type": "code",
   "execution_count": null,
   "id": "3a3cacd3",
   "metadata": {},
   "outputs": [],
   "source": []
  }
 ],
 "metadata": {
  "kernelspec": {
   "display_name": "Python 3 (ipykernel)",
   "language": "python",
   "name": "python3"
  },
  "language_info": {
   "codemirror_mode": {
    "name": "ipython",
    "version": 3
   },
   "file_extension": ".py",
   "mimetype": "text/x-python",
   "name": "python",
   "nbconvert_exporter": "python",
   "pygments_lexer": "ipython3",
   "version": "3.8.8"
  }
 },
 "nbformat": 4,
 "nbformat_minor": 5
}
